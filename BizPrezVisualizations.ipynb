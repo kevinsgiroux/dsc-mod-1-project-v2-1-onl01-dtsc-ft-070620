{
 "cells": [
  {
   "cell_type": "markdown",
   "metadata": {},
   "source": [
    "## Final Project Submission\n",
    "\n",
    "* Student name:                        KEVIN GIROUX\n",
    "* Student pace:                        FULL TIME\n",
    "* Scheduled project review date/time:  (TBD)\n",
    "* Instructor name:                     JAMES IRVING\n",
    "* Blog post URL:                       (TBD)\n"
   ]
  },
  {
   "cell_type": "markdown",
   "metadata": {},
   "source": [
    "# Introduction"
   ]
  },
  {
   "cell_type": "code",
   "execution_count": null,
   "metadata": {},
   "outputs": [],
   "source": []
  },
  {
   "cell_type": "markdown",
   "metadata": {},
   "source": [
    "# Review of provided data; gap analysis"
   ]
  },
  {
   "cell_type": "code",
   "execution_count": 2,
   "metadata": {},
   "outputs": [
    {
     "name": "stderr",
     "output_type": "stream",
     "text": [
      "/Users/kevingiroux/opt/anaconda3/envs/learn-env/lib/python3.6/site-packages/statsmodels/tools/_testing.py:19: FutureWarning: pandas.util.testing is deprecated. Use the functions in the public API at pandas.testing instead.\n",
      "  import pandas.util.testing as tm\n"
     ]
    }
   ],
   "source": [
    "import pandas as pd\n",
    "import json\n",
    "import matplotlib.pyplot as plt\n",
    "import seaborn as sns"
   ]
  },
  {
   "cell_type": "code",
   "execution_count": 147,
   "metadata": {
    "scrolled": true
   },
   "outputs": [],
   "source": [
    "# general movie metadata\n",
    "imdb_df = pd.read_csv('zippedData/imdb.title.basics.csv.gz')\n",
    "rt_df = pd.read_csv('zippedData/rt.movie_info.tsv.gz', delimiter='\\t')\n",
    "title_aka_df = pd.read_csv('zippedData/imdb.title.akas.csv.gz')\n",
    "\n",
    "# ratings and review data\n",
    "ratings_df = pd.read_csv('zippedData/imdb.title.ratings.csv.gz')\n",
    "tmdb_ratings_df = pd.read_csv('zippedData/tmdb.movies.csv.gz')\n",
    "rt_reviews_df = pd.read_csv('zippedData/rt.reviews.tsv.gz', delimiter='\\t', encoding='latin1')\n",
    "\n",
    "# people\n",
    "ppl_df = pd.read_csv('zippedData/imdb.name.basics.csv.gz')\n",
    "crew_df = pd.read_csv('zippedData/imdb.title.crew.csv.gz')\n",
    "principals_df = pd.read_csv('zippedData/imdb.title.principals.csv.gz')\n",
    "\n",
    "# financials\n",
    "gross_df = pd.read_csv('zippedData/bom.movie_gross.csv.gz')\n",
    "budget_df = pd.read_csv('zippedData/tn.movie_budgets.csv.gz')"
   ]
  },
  {
   "cell_type": "markdown",
   "metadata": {},
   "source": [
    "## Qualitative description of data sets:\n",
    "\n",
    "\n",
    "### a. Movie background info and metadata\n",
    "- imdb_df:  (IMDB) movie titles (w/ IMDB title id) by release year, runtime, and genre\n",
    "- rt_df:  (Rotten Tomatoes) synopsis, rating, genre, director, writer, runtime, etc.\n",
    "- title_aka_df:  (IMDB) movie titles (w/ IMDB title id) in different languages\n",
    "\n",
    "### b. Reviews and ratings\n",
    "- ratings_df:  (IMDB) average rating and vote count, by IMDB title id\n",
    "- tmdb_ratings_df:  (TMDB) popularity score, with vote counts and average vote score, by title \n",
    "- rt_reviews_df:  (Rotten Tomatoes) includes review text, numerical rating, and review publisher\n",
    "\n",
    "### c. People involved\n",
    "- ppl_df:  (IMDB) info on humans involved, such as birth year, primary profession, and movies they are known for (by title id)\n",
    "- crew_df:  (IMDB) directors and writers, by movie id (matches title id with name id)\n",
    "- principals_df:  (IMDB) (title id, name id) categorized list of people by role/job in film production (includes list of characters for actors/actresses)\n",
    "\n",
    "### d. Financial\n",
    "- gross_df:  (BOM) domestic and foreign gross rev by movie title, studio, and year\n",
    "- budget_df: (TN) production budget vs. domestic and worldwide gross rev, by movie title (no movie id!)\n",
    "\n",
    "\n",
    "##### Below, I will examine each of the above sub-sets of data in more detail and draw conclusions on which data sets/features to use and how"
   ]
  },
  {
   "cell_type": "markdown",
   "metadata": {},
   "source": [
    "## a. Movie background info and metadata\n",
    "- imdb_df: 'genres' column contains list of multiple genres separated by comma (no spaces)\n",
    "- rt_df: no movie titles are included, just an RT movie id;  'rating', 'director', 'writer', 'theater_date', 'studio', 'box_office' are all unique features to RT data\n",
    "- title_aka_df: not sure I will need this data\n",
    "\n",
    "\n",
    "##### CONCLUSIONS: \n",
    "- Use imdb_df as my base data set\n",
    "- look for ways to pull in 'rating', 'studio', 'theater_date' and 'box_office' from rt_df or the internet"
   ]
  },
  {
   "cell_type": "code",
   "execution_count": 4,
   "metadata": {
    "scrolled": true
   },
   "outputs": [
    {
     "data": {
      "text/html": [
       "<div>\n",
       "<style scoped>\n",
       "    .dataframe tbody tr th:only-of-type {\n",
       "        vertical-align: middle;\n",
       "    }\n",
       "\n",
       "    .dataframe tbody tr th {\n",
       "        vertical-align: top;\n",
       "    }\n",
       "\n",
       "    .dataframe thead th {\n",
       "        text-align: right;\n",
       "    }\n",
       "</style>\n",
       "<table border=\"1\" class=\"dataframe\">\n",
       "  <thead>\n",
       "    <tr style=\"text-align: right;\">\n",
       "      <th></th>\n",
       "      <th>tconst</th>\n",
       "      <th>primary_title</th>\n",
       "      <th>original_title</th>\n",
       "      <th>start_year</th>\n",
       "      <th>runtime_minutes</th>\n",
       "      <th>genres</th>\n",
       "    </tr>\n",
       "  </thead>\n",
       "  <tbody>\n",
       "    <tr>\n",
       "      <th>0</th>\n",
       "      <td>tt0063540</td>\n",
       "      <td>Sunghursh</td>\n",
       "      <td>Sunghursh</td>\n",
       "      <td>2013</td>\n",
       "      <td>175.0</td>\n",
       "      <td>Action,Crime,Drama</td>\n",
       "    </tr>\n",
       "    <tr>\n",
       "      <th>1</th>\n",
       "      <td>tt0066787</td>\n",
       "      <td>One Day Before the Rainy Season</td>\n",
       "      <td>Ashad Ka Ek Din</td>\n",
       "      <td>2019</td>\n",
       "      <td>114.0</td>\n",
       "      <td>Biography,Drama</td>\n",
       "    </tr>\n",
       "    <tr>\n",
       "      <th>2</th>\n",
       "      <td>tt0069049</td>\n",
       "      <td>The Other Side of the Wind</td>\n",
       "      <td>The Other Side of the Wind</td>\n",
       "      <td>2018</td>\n",
       "      <td>122.0</td>\n",
       "      <td>Drama</td>\n",
       "    </tr>\n",
       "    <tr>\n",
       "      <th>3</th>\n",
       "      <td>tt0069204</td>\n",
       "      <td>Sabse Bada Sukh</td>\n",
       "      <td>Sabse Bada Sukh</td>\n",
       "      <td>2018</td>\n",
       "      <td>NaN</td>\n",
       "      <td>Comedy,Drama</td>\n",
       "    </tr>\n",
       "    <tr>\n",
       "      <th>4</th>\n",
       "      <td>tt0100275</td>\n",
       "      <td>The Wandering Soap Opera</td>\n",
       "      <td>La Telenovela Errante</td>\n",
       "      <td>2017</td>\n",
       "      <td>80.0</td>\n",
       "      <td>Comedy,Drama,Fantasy</td>\n",
       "    </tr>\n",
       "  </tbody>\n",
       "</table>\n",
       "</div>"
      ],
      "text/plain": [
       "      tconst                    primary_title              original_title  \\\n",
       "0  tt0063540                        Sunghursh                   Sunghursh   \n",
       "1  tt0066787  One Day Before the Rainy Season             Ashad Ka Ek Din   \n",
       "2  tt0069049       The Other Side of the Wind  The Other Side of the Wind   \n",
       "3  tt0069204                  Sabse Bada Sukh             Sabse Bada Sukh   \n",
       "4  tt0100275         The Wandering Soap Opera       La Telenovela Errante   \n",
       "\n",
       "   start_year  runtime_minutes                genres  \n",
       "0        2013            175.0    Action,Crime,Drama  \n",
       "1        2019            114.0       Biography,Drama  \n",
       "2        2018            122.0                 Drama  \n",
       "3        2018              NaN          Comedy,Drama  \n",
       "4        2017             80.0  Comedy,Drama,Fantasy  "
      ]
     },
     "execution_count": 4,
     "metadata": {},
     "output_type": "execute_result"
    }
   ],
   "source": [
    "imdb_df.head()"
   ]
  },
  {
   "cell_type": "code",
   "execution_count": 5,
   "metadata": {
    "scrolled": true
   },
   "outputs": [
    {
     "data": {
      "text/html": [
       "<div>\n",
       "<style scoped>\n",
       "    .dataframe tbody tr th:only-of-type {\n",
       "        vertical-align: middle;\n",
       "    }\n",
       "\n",
       "    .dataframe tbody tr th {\n",
       "        vertical-align: top;\n",
       "    }\n",
       "\n",
       "    .dataframe thead th {\n",
       "        text-align: right;\n",
       "    }\n",
       "</style>\n",
       "<table border=\"1\" class=\"dataframe\">\n",
       "  <thead>\n",
       "    <tr style=\"text-align: right;\">\n",
       "      <th></th>\n",
       "      <th>id</th>\n",
       "      <th>synopsis</th>\n",
       "      <th>rating</th>\n",
       "      <th>genre</th>\n",
       "      <th>director</th>\n",
       "      <th>writer</th>\n",
       "      <th>theater_date</th>\n",
       "      <th>dvd_date</th>\n",
       "      <th>currency</th>\n",
       "      <th>box_office</th>\n",
       "      <th>runtime</th>\n",
       "      <th>studio</th>\n",
       "    </tr>\n",
       "  </thead>\n",
       "  <tbody>\n",
       "    <tr>\n",
       "      <th>0</th>\n",
       "      <td>1</td>\n",
       "      <td>This gritty, fast-paced, and innovative police...</td>\n",
       "      <td>R</td>\n",
       "      <td>Action and Adventure|Classics|Drama</td>\n",
       "      <td>William Friedkin</td>\n",
       "      <td>Ernest Tidyman</td>\n",
       "      <td>Oct 9, 1971</td>\n",
       "      <td>Sep 25, 2001</td>\n",
       "      <td>NaN</td>\n",
       "      <td>NaN</td>\n",
       "      <td>104 minutes</td>\n",
       "      <td>NaN</td>\n",
       "    </tr>\n",
       "    <tr>\n",
       "      <th>1</th>\n",
       "      <td>3</td>\n",
       "      <td>New York City, not-too-distant-future: Eric Pa...</td>\n",
       "      <td>R</td>\n",
       "      <td>Drama|Science Fiction and Fantasy</td>\n",
       "      <td>David Cronenberg</td>\n",
       "      <td>David Cronenberg|Don DeLillo</td>\n",
       "      <td>Aug 17, 2012</td>\n",
       "      <td>Jan 1, 2013</td>\n",
       "      <td>$</td>\n",
       "      <td>600,000</td>\n",
       "      <td>108 minutes</td>\n",
       "      <td>Entertainment One</td>\n",
       "    </tr>\n",
       "    <tr>\n",
       "      <th>2</th>\n",
       "      <td>5</td>\n",
       "      <td>Illeana Douglas delivers a superb performance ...</td>\n",
       "      <td>R</td>\n",
       "      <td>Drama|Musical and Performing Arts</td>\n",
       "      <td>Allison Anders</td>\n",
       "      <td>Allison Anders</td>\n",
       "      <td>Sep 13, 1996</td>\n",
       "      <td>Apr 18, 2000</td>\n",
       "      <td>NaN</td>\n",
       "      <td>NaN</td>\n",
       "      <td>116 minutes</td>\n",
       "      <td>NaN</td>\n",
       "    </tr>\n",
       "    <tr>\n",
       "      <th>3</th>\n",
       "      <td>6</td>\n",
       "      <td>Michael Douglas runs afoul of a treacherous su...</td>\n",
       "      <td>R</td>\n",
       "      <td>Drama|Mystery and Suspense</td>\n",
       "      <td>Barry Levinson</td>\n",
       "      <td>Paul Attanasio|Michael Crichton</td>\n",
       "      <td>Dec 9, 1994</td>\n",
       "      <td>Aug 27, 1997</td>\n",
       "      <td>NaN</td>\n",
       "      <td>NaN</td>\n",
       "      <td>128 minutes</td>\n",
       "      <td>NaN</td>\n",
       "    </tr>\n",
       "    <tr>\n",
       "      <th>4</th>\n",
       "      <td>7</td>\n",
       "      <td>NaN</td>\n",
       "      <td>NR</td>\n",
       "      <td>Drama|Romance</td>\n",
       "      <td>Rodney Bennett</td>\n",
       "      <td>Giles Cooper</td>\n",
       "      <td>NaN</td>\n",
       "      <td>NaN</td>\n",
       "      <td>NaN</td>\n",
       "      <td>NaN</td>\n",
       "      <td>200 minutes</td>\n",
       "      <td>NaN</td>\n",
       "    </tr>\n",
       "  </tbody>\n",
       "</table>\n",
       "</div>"
      ],
      "text/plain": [
       "   id                                           synopsis rating  \\\n",
       "0   1  This gritty, fast-paced, and innovative police...      R   \n",
       "1   3  New York City, not-too-distant-future: Eric Pa...      R   \n",
       "2   5  Illeana Douglas delivers a superb performance ...      R   \n",
       "3   6  Michael Douglas runs afoul of a treacherous su...      R   \n",
       "4   7                                                NaN     NR   \n",
       "\n",
       "                                 genre          director  \\\n",
       "0  Action and Adventure|Classics|Drama  William Friedkin   \n",
       "1    Drama|Science Fiction and Fantasy  David Cronenberg   \n",
       "2    Drama|Musical and Performing Arts    Allison Anders   \n",
       "3           Drama|Mystery and Suspense    Barry Levinson   \n",
       "4                        Drama|Romance    Rodney Bennett   \n",
       "\n",
       "                            writer  theater_date      dvd_date currency  \\\n",
       "0                   Ernest Tidyman   Oct 9, 1971  Sep 25, 2001      NaN   \n",
       "1     David Cronenberg|Don DeLillo  Aug 17, 2012   Jan 1, 2013        $   \n",
       "2                   Allison Anders  Sep 13, 1996  Apr 18, 2000      NaN   \n",
       "3  Paul Attanasio|Michael Crichton   Dec 9, 1994  Aug 27, 1997      NaN   \n",
       "4                     Giles Cooper           NaN           NaN      NaN   \n",
       "\n",
       "  box_office      runtime             studio  \n",
       "0        NaN  104 minutes                NaN  \n",
       "1    600,000  108 minutes  Entertainment One  \n",
       "2        NaN  116 minutes                NaN  \n",
       "3        NaN  128 minutes                NaN  \n",
       "4        NaN  200 minutes                NaN  "
      ]
     },
     "execution_count": 5,
     "metadata": {},
     "output_type": "execute_result"
    }
   ],
   "source": [
    "rt_df.head()"
   ]
  },
  {
   "cell_type": "code",
   "execution_count": 6,
   "metadata": {},
   "outputs": [
    {
     "data": {
      "text/html": [
       "<div>\n",
       "<style scoped>\n",
       "    .dataframe tbody tr th:only-of-type {\n",
       "        vertical-align: middle;\n",
       "    }\n",
       "\n",
       "    .dataframe tbody tr th {\n",
       "        vertical-align: top;\n",
       "    }\n",
       "\n",
       "    .dataframe thead th {\n",
       "        text-align: right;\n",
       "    }\n",
       "</style>\n",
       "<table border=\"1\" class=\"dataframe\">\n",
       "  <thead>\n",
       "    <tr style=\"text-align: right;\">\n",
       "      <th></th>\n",
       "      <th>title_id</th>\n",
       "      <th>ordering</th>\n",
       "      <th>title</th>\n",
       "      <th>region</th>\n",
       "      <th>language</th>\n",
       "      <th>types</th>\n",
       "      <th>attributes</th>\n",
       "      <th>is_original_title</th>\n",
       "    </tr>\n",
       "  </thead>\n",
       "  <tbody>\n",
       "    <tr>\n",
       "      <th>0</th>\n",
       "      <td>tt0369610</td>\n",
       "      <td>10</td>\n",
       "      <td>Джурасик свят</td>\n",
       "      <td>BG</td>\n",
       "      <td>bg</td>\n",
       "      <td>NaN</td>\n",
       "      <td>NaN</td>\n",
       "      <td>0.0</td>\n",
       "    </tr>\n",
       "    <tr>\n",
       "      <th>1</th>\n",
       "      <td>tt0369610</td>\n",
       "      <td>11</td>\n",
       "      <td>Jurashikku warudo</td>\n",
       "      <td>JP</td>\n",
       "      <td>NaN</td>\n",
       "      <td>imdbDisplay</td>\n",
       "      <td>NaN</td>\n",
       "      <td>0.0</td>\n",
       "    </tr>\n",
       "    <tr>\n",
       "      <th>2</th>\n",
       "      <td>tt0369610</td>\n",
       "      <td>12</td>\n",
       "      <td>Jurassic World: O Mundo dos Dinossauros</td>\n",
       "      <td>BR</td>\n",
       "      <td>NaN</td>\n",
       "      <td>imdbDisplay</td>\n",
       "      <td>NaN</td>\n",
       "      <td>0.0</td>\n",
       "    </tr>\n",
       "    <tr>\n",
       "      <th>3</th>\n",
       "      <td>tt0369610</td>\n",
       "      <td>13</td>\n",
       "      <td>O Mundo dos Dinossauros</td>\n",
       "      <td>BR</td>\n",
       "      <td>NaN</td>\n",
       "      <td>NaN</td>\n",
       "      <td>short title</td>\n",
       "      <td>0.0</td>\n",
       "    </tr>\n",
       "    <tr>\n",
       "      <th>4</th>\n",
       "      <td>tt0369610</td>\n",
       "      <td>14</td>\n",
       "      <td>Jurassic World</td>\n",
       "      <td>FR</td>\n",
       "      <td>NaN</td>\n",
       "      <td>imdbDisplay</td>\n",
       "      <td>NaN</td>\n",
       "      <td>0.0</td>\n",
       "    </tr>\n",
       "  </tbody>\n",
       "</table>\n",
       "</div>"
      ],
      "text/plain": [
       "    title_id  ordering                                    title region  \\\n",
       "0  tt0369610        10                            Джурасик свят     BG   \n",
       "1  tt0369610        11                        Jurashikku warudo     JP   \n",
       "2  tt0369610        12  Jurassic World: O Mundo dos Dinossauros     BR   \n",
       "3  tt0369610        13                  O Mundo dos Dinossauros     BR   \n",
       "4  tt0369610        14                           Jurassic World     FR   \n",
       "\n",
       "  language        types   attributes  is_original_title  \n",
       "0       bg          NaN          NaN                0.0  \n",
       "1      NaN  imdbDisplay          NaN                0.0  \n",
       "2      NaN  imdbDisplay          NaN                0.0  \n",
       "3      NaN          NaN  short title                0.0  \n",
       "4      NaN  imdbDisplay          NaN                0.0  "
      ]
     },
     "execution_count": 6,
     "metadata": {},
     "output_type": "execute_result"
    }
   ],
   "source": [
    "title_aka_df.head()"
   ]
  },
  {
   "cell_type": "markdown",
   "metadata": {},
   "source": [
    "## b. Reviews and ratings\n",
    "- ratings_df: imdb title id, average score and number of votes...needs enrichment\n",
    "- tmdb_ratings_df: has a lot of cool features like a popularity score, release date, vote_average, vote_count, original_language -- can by joined by 'original_title' or 'title'\n",
    "- rt_reviews_df: again, no movie titles included, includes a top critic designation which is cool, and a fresh/not fresh binary categorization column, also 'publisher' columns\n",
    "\n",
    "##### CONCLUSIONS:\n",
    "- use ratings_df as my starting point for reviews and ratings data, because of easy join-ability with movie metadata via IMDB title id\n",
    "- find way to enrich this review data via API/web-scraping or by joining some features from the TMDB dataset, which has a lot of features that would be interesting to play with ('original language', 'popularity', 'vote_average', 'vote count')\n",
    "- RT data has a couple interesting features, but no movie title column will make this data very hard to join with my other rating/review data"
   ]
  },
  {
   "cell_type": "code",
   "execution_count": 7,
   "metadata": {},
   "outputs": [
    {
     "data": {
      "text/html": [
       "<div>\n",
       "<style scoped>\n",
       "    .dataframe tbody tr th:only-of-type {\n",
       "        vertical-align: middle;\n",
       "    }\n",
       "\n",
       "    .dataframe tbody tr th {\n",
       "        vertical-align: top;\n",
       "    }\n",
       "\n",
       "    .dataframe thead th {\n",
       "        text-align: right;\n",
       "    }\n",
       "</style>\n",
       "<table border=\"1\" class=\"dataframe\">\n",
       "  <thead>\n",
       "    <tr style=\"text-align: right;\">\n",
       "      <th></th>\n",
       "      <th>tconst</th>\n",
       "      <th>averagerating</th>\n",
       "      <th>numvotes</th>\n",
       "    </tr>\n",
       "  </thead>\n",
       "  <tbody>\n",
       "    <tr>\n",
       "      <th>0</th>\n",
       "      <td>tt10356526</td>\n",
       "      <td>8.3</td>\n",
       "      <td>31</td>\n",
       "    </tr>\n",
       "    <tr>\n",
       "      <th>1</th>\n",
       "      <td>tt10384606</td>\n",
       "      <td>8.9</td>\n",
       "      <td>559</td>\n",
       "    </tr>\n",
       "    <tr>\n",
       "      <th>2</th>\n",
       "      <td>tt1042974</td>\n",
       "      <td>6.4</td>\n",
       "      <td>20</td>\n",
       "    </tr>\n",
       "    <tr>\n",
       "      <th>3</th>\n",
       "      <td>tt1043726</td>\n",
       "      <td>4.2</td>\n",
       "      <td>50352</td>\n",
       "    </tr>\n",
       "    <tr>\n",
       "      <th>4</th>\n",
       "      <td>tt1060240</td>\n",
       "      <td>6.5</td>\n",
       "      <td>21</td>\n",
       "    </tr>\n",
       "  </tbody>\n",
       "</table>\n",
       "</div>"
      ],
      "text/plain": [
       "       tconst  averagerating  numvotes\n",
       "0  tt10356526            8.3        31\n",
       "1  tt10384606            8.9       559\n",
       "2   tt1042974            6.4        20\n",
       "3   tt1043726            4.2     50352\n",
       "4   tt1060240            6.5        21"
      ]
     },
     "execution_count": 7,
     "metadata": {},
     "output_type": "execute_result"
    }
   ],
   "source": [
    "ratings_df.head()"
   ]
  },
  {
   "cell_type": "code",
   "execution_count": 8,
   "metadata": {},
   "outputs": [
    {
     "data": {
      "text/html": [
       "<div>\n",
       "<style scoped>\n",
       "    .dataframe tbody tr th:only-of-type {\n",
       "        vertical-align: middle;\n",
       "    }\n",
       "\n",
       "    .dataframe tbody tr th {\n",
       "        vertical-align: top;\n",
       "    }\n",
       "\n",
       "    .dataframe thead th {\n",
       "        text-align: right;\n",
       "    }\n",
       "</style>\n",
       "<table border=\"1\" class=\"dataframe\">\n",
       "  <thead>\n",
       "    <tr style=\"text-align: right;\">\n",
       "      <th></th>\n",
       "      <th>Unnamed: 0</th>\n",
       "      <th>genre_ids</th>\n",
       "      <th>id</th>\n",
       "      <th>original_language</th>\n",
       "      <th>original_title</th>\n",
       "      <th>popularity</th>\n",
       "      <th>release_date</th>\n",
       "      <th>title</th>\n",
       "      <th>vote_average</th>\n",
       "      <th>vote_count</th>\n",
       "    </tr>\n",
       "  </thead>\n",
       "  <tbody>\n",
       "    <tr>\n",
       "      <th>0</th>\n",
       "      <td>0</td>\n",
       "      <td>[12, 14, 10751]</td>\n",
       "      <td>12444</td>\n",
       "      <td>en</td>\n",
       "      <td>Harry Potter and the Deathly Hallows: Part 1</td>\n",
       "      <td>33.533</td>\n",
       "      <td>2010-11-19</td>\n",
       "      <td>Harry Potter and the Deathly Hallows: Part 1</td>\n",
       "      <td>7.7</td>\n",
       "      <td>10788</td>\n",
       "    </tr>\n",
       "    <tr>\n",
       "      <th>1</th>\n",
       "      <td>1</td>\n",
       "      <td>[14, 12, 16, 10751]</td>\n",
       "      <td>10191</td>\n",
       "      <td>en</td>\n",
       "      <td>How to Train Your Dragon</td>\n",
       "      <td>28.734</td>\n",
       "      <td>2010-03-26</td>\n",
       "      <td>How to Train Your Dragon</td>\n",
       "      <td>7.7</td>\n",
       "      <td>7610</td>\n",
       "    </tr>\n",
       "    <tr>\n",
       "      <th>2</th>\n",
       "      <td>2</td>\n",
       "      <td>[12, 28, 878]</td>\n",
       "      <td>10138</td>\n",
       "      <td>en</td>\n",
       "      <td>Iron Man 2</td>\n",
       "      <td>28.515</td>\n",
       "      <td>2010-05-07</td>\n",
       "      <td>Iron Man 2</td>\n",
       "      <td>6.8</td>\n",
       "      <td>12368</td>\n",
       "    </tr>\n",
       "    <tr>\n",
       "      <th>3</th>\n",
       "      <td>3</td>\n",
       "      <td>[16, 35, 10751]</td>\n",
       "      <td>862</td>\n",
       "      <td>en</td>\n",
       "      <td>Toy Story</td>\n",
       "      <td>28.005</td>\n",
       "      <td>1995-11-22</td>\n",
       "      <td>Toy Story</td>\n",
       "      <td>7.9</td>\n",
       "      <td>10174</td>\n",
       "    </tr>\n",
       "    <tr>\n",
       "      <th>4</th>\n",
       "      <td>4</td>\n",
       "      <td>[28, 878, 12]</td>\n",
       "      <td>27205</td>\n",
       "      <td>en</td>\n",
       "      <td>Inception</td>\n",
       "      <td>27.920</td>\n",
       "      <td>2010-07-16</td>\n",
       "      <td>Inception</td>\n",
       "      <td>8.3</td>\n",
       "      <td>22186</td>\n",
       "    </tr>\n",
       "  </tbody>\n",
       "</table>\n",
       "</div>"
      ],
      "text/plain": [
       "   Unnamed: 0            genre_ids     id original_language  \\\n",
       "0           0      [12, 14, 10751]  12444                en   \n",
       "1           1  [14, 12, 16, 10751]  10191                en   \n",
       "2           2        [12, 28, 878]  10138                en   \n",
       "3           3      [16, 35, 10751]    862                en   \n",
       "4           4        [28, 878, 12]  27205                en   \n",
       "\n",
       "                                 original_title  popularity release_date  \\\n",
       "0  Harry Potter and the Deathly Hallows: Part 1      33.533   2010-11-19   \n",
       "1                      How to Train Your Dragon      28.734   2010-03-26   \n",
       "2                                    Iron Man 2      28.515   2010-05-07   \n",
       "3                                     Toy Story      28.005   1995-11-22   \n",
       "4                                     Inception      27.920   2010-07-16   \n",
       "\n",
       "                                          title  vote_average  vote_count  \n",
       "0  Harry Potter and the Deathly Hallows: Part 1           7.7       10788  \n",
       "1                      How to Train Your Dragon           7.7        7610  \n",
       "2                                    Iron Man 2           6.8       12368  \n",
       "3                                     Toy Story           7.9       10174  \n",
       "4                                     Inception           8.3       22186  "
      ]
     },
     "execution_count": 8,
     "metadata": {},
     "output_type": "execute_result"
    }
   ],
   "source": [
    "tmdb_ratings_df.head()"
   ]
  },
  {
   "cell_type": "code",
   "execution_count": 9,
   "metadata": {},
   "outputs": [
    {
     "data": {
      "text/html": [
       "<div>\n",
       "<style scoped>\n",
       "    .dataframe tbody tr th:only-of-type {\n",
       "        vertical-align: middle;\n",
       "    }\n",
       "\n",
       "    .dataframe tbody tr th {\n",
       "        vertical-align: top;\n",
       "    }\n",
       "\n",
       "    .dataframe thead th {\n",
       "        text-align: right;\n",
       "    }\n",
       "</style>\n",
       "<table border=\"1\" class=\"dataframe\">\n",
       "  <thead>\n",
       "    <tr style=\"text-align: right;\">\n",
       "      <th></th>\n",
       "      <th>id</th>\n",
       "      <th>review</th>\n",
       "      <th>rating</th>\n",
       "      <th>fresh</th>\n",
       "      <th>critic</th>\n",
       "      <th>top_critic</th>\n",
       "      <th>publisher</th>\n",
       "      <th>date</th>\n",
       "    </tr>\n",
       "  </thead>\n",
       "  <tbody>\n",
       "    <tr>\n",
       "      <th>0</th>\n",
       "      <td>3</td>\n",
       "      <td>A distinctly gallows take on contemporary fina...</td>\n",
       "      <td>3/5</td>\n",
       "      <td>fresh</td>\n",
       "      <td>PJ Nabarro</td>\n",
       "      <td>0</td>\n",
       "      <td>Patrick Nabarro</td>\n",
       "      <td>November 10, 2018</td>\n",
       "    </tr>\n",
       "    <tr>\n",
       "      <th>1</th>\n",
       "      <td>3</td>\n",
       "      <td>It's an allegory in search of a meaning that n...</td>\n",
       "      <td>NaN</td>\n",
       "      <td>rotten</td>\n",
       "      <td>Annalee Newitz</td>\n",
       "      <td>0</td>\n",
       "      <td>io9.com</td>\n",
       "      <td>May 23, 2018</td>\n",
       "    </tr>\n",
       "    <tr>\n",
       "      <th>2</th>\n",
       "      <td>3</td>\n",
       "      <td>... life lived in a bubble in financial dealin...</td>\n",
       "      <td>NaN</td>\n",
       "      <td>fresh</td>\n",
       "      <td>Sean Axmaker</td>\n",
       "      <td>0</td>\n",
       "      <td>Stream on Demand</td>\n",
       "      <td>January 4, 2018</td>\n",
       "    </tr>\n",
       "    <tr>\n",
       "      <th>3</th>\n",
       "      <td>3</td>\n",
       "      <td>Continuing along a line introduced in last yea...</td>\n",
       "      <td>NaN</td>\n",
       "      <td>fresh</td>\n",
       "      <td>Daniel Kasman</td>\n",
       "      <td>0</td>\n",
       "      <td>MUBI</td>\n",
       "      <td>November 16, 2017</td>\n",
       "    </tr>\n",
       "    <tr>\n",
       "      <th>4</th>\n",
       "      <td>3</td>\n",
       "      <td>... a perverse twist on neorealism...</td>\n",
       "      <td>NaN</td>\n",
       "      <td>fresh</td>\n",
       "      <td>NaN</td>\n",
       "      <td>0</td>\n",
       "      <td>Cinema Scope</td>\n",
       "      <td>October 12, 2017</td>\n",
       "    </tr>\n",
       "  </tbody>\n",
       "</table>\n",
       "</div>"
      ],
      "text/plain": [
       "   id                                             review rating   fresh  \\\n",
       "0   3  A distinctly gallows take on contemporary fina...    3/5   fresh   \n",
       "1   3  It's an allegory in search of a meaning that n...    NaN  rotten   \n",
       "2   3  ... life lived in a bubble in financial dealin...    NaN   fresh   \n",
       "3   3  Continuing along a line introduced in last yea...    NaN   fresh   \n",
       "4   3             ... a perverse twist on neorealism...     NaN   fresh   \n",
       "\n",
       "           critic  top_critic         publisher               date  \n",
       "0      PJ Nabarro           0   Patrick Nabarro  November 10, 2018  \n",
       "1  Annalee Newitz           0           io9.com       May 23, 2018  \n",
       "2    Sean Axmaker           0  Stream on Demand    January 4, 2018  \n",
       "3   Daniel Kasman           0              MUBI  November 16, 2017  \n",
       "4             NaN           0      Cinema Scope   October 12, 2017  "
      ]
     },
     "execution_count": 9,
     "metadata": {},
     "output_type": "execute_result"
    }
   ],
   "source": [
    "rt_reviews_df.head()"
   ]
  },
  {
   "cell_type": "markdown",
   "metadata": {},
   "source": [
    "## c. People involved\n",
    "- ppl_df: full list of people in film industry, with unique imdb name ids, known_for_titles by imdb title id\n",
    "- crew_df: imdb name ids for directors and writers, associated with imdb film ids\n",
    "- principals_df: imdb film ids, with imdb name ids of principal resources associated, by job function\n",
    "\n",
    "##### CONCLUSIONS:\n",
    "- principals_df could be useful for developing recommendations for specific writers, directors, actors/actresses, etc. to use\n",
    "- may need to use ppl_df and crew_df to perform any necessary joins between people data and our other data sub-sets (movie metadata, ratings/reviews, and financials)\n",
    "- all of these are from IMDB and use IMDB's title ID and name ID, which should make for easy joining"
   ]
  },
  {
   "cell_type": "code",
   "execution_count": 10,
   "metadata": {},
   "outputs": [
    {
     "data": {
      "text/html": [
       "<div>\n",
       "<style scoped>\n",
       "    .dataframe tbody tr th:only-of-type {\n",
       "        vertical-align: middle;\n",
       "    }\n",
       "\n",
       "    .dataframe tbody tr th {\n",
       "        vertical-align: top;\n",
       "    }\n",
       "\n",
       "    .dataframe thead th {\n",
       "        text-align: right;\n",
       "    }\n",
       "</style>\n",
       "<table border=\"1\" class=\"dataframe\">\n",
       "  <thead>\n",
       "    <tr style=\"text-align: right;\">\n",
       "      <th></th>\n",
       "      <th>nconst</th>\n",
       "      <th>primary_name</th>\n",
       "      <th>birth_year</th>\n",
       "      <th>death_year</th>\n",
       "      <th>primary_profession</th>\n",
       "      <th>known_for_titles</th>\n",
       "    </tr>\n",
       "  </thead>\n",
       "  <tbody>\n",
       "    <tr>\n",
       "      <th>0</th>\n",
       "      <td>nm0061671</td>\n",
       "      <td>Mary Ellen Bauder</td>\n",
       "      <td>NaN</td>\n",
       "      <td>NaN</td>\n",
       "      <td>miscellaneous,production_manager,producer</td>\n",
       "      <td>tt0837562,tt2398241,tt0844471,tt0118553</td>\n",
       "    </tr>\n",
       "    <tr>\n",
       "      <th>1</th>\n",
       "      <td>nm0061865</td>\n",
       "      <td>Joseph Bauer</td>\n",
       "      <td>NaN</td>\n",
       "      <td>NaN</td>\n",
       "      <td>composer,music_department,sound_department</td>\n",
       "      <td>tt0896534,tt6791238,tt0287072,tt1682940</td>\n",
       "    </tr>\n",
       "    <tr>\n",
       "      <th>2</th>\n",
       "      <td>nm0062070</td>\n",
       "      <td>Bruce Baum</td>\n",
       "      <td>NaN</td>\n",
       "      <td>NaN</td>\n",
       "      <td>miscellaneous,actor,writer</td>\n",
       "      <td>tt1470654,tt0363631,tt0104030,tt0102898</td>\n",
       "    </tr>\n",
       "    <tr>\n",
       "      <th>3</th>\n",
       "      <td>nm0062195</td>\n",
       "      <td>Axel Baumann</td>\n",
       "      <td>NaN</td>\n",
       "      <td>NaN</td>\n",
       "      <td>camera_department,cinematographer,art_department</td>\n",
       "      <td>tt0114371,tt2004304,tt1618448,tt1224387</td>\n",
       "    </tr>\n",
       "    <tr>\n",
       "      <th>4</th>\n",
       "      <td>nm0062798</td>\n",
       "      <td>Pete Baxter</td>\n",
       "      <td>NaN</td>\n",
       "      <td>NaN</td>\n",
       "      <td>production_designer,art_department,set_decorator</td>\n",
       "      <td>tt0452644,tt0452692,tt3458030,tt2178256</td>\n",
       "    </tr>\n",
       "  </tbody>\n",
       "</table>\n",
       "</div>"
      ],
      "text/plain": [
       "      nconst       primary_name  birth_year  death_year  \\\n",
       "0  nm0061671  Mary Ellen Bauder         NaN         NaN   \n",
       "1  nm0061865       Joseph Bauer         NaN         NaN   \n",
       "2  nm0062070         Bruce Baum         NaN         NaN   \n",
       "3  nm0062195       Axel Baumann         NaN         NaN   \n",
       "4  nm0062798        Pete Baxter         NaN         NaN   \n",
       "\n",
       "                                 primary_profession  \\\n",
       "0         miscellaneous,production_manager,producer   \n",
       "1        composer,music_department,sound_department   \n",
       "2                        miscellaneous,actor,writer   \n",
       "3  camera_department,cinematographer,art_department   \n",
       "4  production_designer,art_department,set_decorator   \n",
       "\n",
       "                          known_for_titles  \n",
       "0  tt0837562,tt2398241,tt0844471,tt0118553  \n",
       "1  tt0896534,tt6791238,tt0287072,tt1682940  \n",
       "2  tt1470654,tt0363631,tt0104030,tt0102898  \n",
       "3  tt0114371,tt2004304,tt1618448,tt1224387  \n",
       "4  tt0452644,tt0452692,tt3458030,tt2178256  "
      ]
     },
     "execution_count": 10,
     "metadata": {},
     "output_type": "execute_result"
    }
   ],
   "source": [
    "ppl_df.head()"
   ]
  },
  {
   "cell_type": "code",
   "execution_count": 11,
   "metadata": {},
   "outputs": [
    {
     "data": {
      "text/html": [
       "<div>\n",
       "<style scoped>\n",
       "    .dataframe tbody tr th:only-of-type {\n",
       "        vertical-align: middle;\n",
       "    }\n",
       "\n",
       "    .dataframe tbody tr th {\n",
       "        vertical-align: top;\n",
       "    }\n",
       "\n",
       "    .dataframe thead th {\n",
       "        text-align: right;\n",
       "    }\n",
       "</style>\n",
       "<table border=\"1\" class=\"dataframe\">\n",
       "  <thead>\n",
       "    <tr style=\"text-align: right;\">\n",
       "      <th></th>\n",
       "      <th>tconst</th>\n",
       "      <th>directors</th>\n",
       "      <th>writers</th>\n",
       "    </tr>\n",
       "  </thead>\n",
       "  <tbody>\n",
       "    <tr>\n",
       "      <th>0</th>\n",
       "      <td>tt0285252</td>\n",
       "      <td>nm0899854</td>\n",
       "      <td>nm0899854</td>\n",
       "    </tr>\n",
       "    <tr>\n",
       "      <th>1</th>\n",
       "      <td>tt0438973</td>\n",
       "      <td>NaN</td>\n",
       "      <td>nm0175726,nm1802864</td>\n",
       "    </tr>\n",
       "    <tr>\n",
       "      <th>2</th>\n",
       "      <td>tt0462036</td>\n",
       "      <td>nm1940585</td>\n",
       "      <td>nm1940585</td>\n",
       "    </tr>\n",
       "    <tr>\n",
       "      <th>3</th>\n",
       "      <td>tt0835418</td>\n",
       "      <td>nm0151540</td>\n",
       "      <td>nm0310087,nm0841532</td>\n",
       "    </tr>\n",
       "    <tr>\n",
       "      <th>4</th>\n",
       "      <td>tt0878654</td>\n",
       "      <td>nm0089502,nm2291498,nm2292011</td>\n",
       "      <td>nm0284943</td>\n",
       "    </tr>\n",
       "  </tbody>\n",
       "</table>\n",
       "</div>"
      ],
      "text/plain": [
       "      tconst                      directors              writers\n",
       "0  tt0285252                      nm0899854            nm0899854\n",
       "1  tt0438973                            NaN  nm0175726,nm1802864\n",
       "2  tt0462036                      nm1940585            nm1940585\n",
       "3  tt0835418                      nm0151540  nm0310087,nm0841532\n",
       "4  tt0878654  nm0089502,nm2291498,nm2292011            nm0284943"
      ]
     },
     "execution_count": 11,
     "metadata": {},
     "output_type": "execute_result"
    }
   ],
   "source": [
    "crew_df.head()"
   ]
  },
  {
   "cell_type": "code",
   "execution_count": 12,
   "metadata": {},
   "outputs": [
    {
     "data": {
      "text/html": [
       "<div>\n",
       "<style scoped>\n",
       "    .dataframe tbody tr th:only-of-type {\n",
       "        vertical-align: middle;\n",
       "    }\n",
       "\n",
       "    .dataframe tbody tr th {\n",
       "        vertical-align: top;\n",
       "    }\n",
       "\n",
       "    .dataframe thead th {\n",
       "        text-align: right;\n",
       "    }\n",
       "</style>\n",
       "<table border=\"1\" class=\"dataframe\">\n",
       "  <thead>\n",
       "    <tr style=\"text-align: right;\">\n",
       "      <th></th>\n",
       "      <th>tconst</th>\n",
       "      <th>ordering</th>\n",
       "      <th>nconst</th>\n",
       "      <th>category</th>\n",
       "      <th>job</th>\n",
       "      <th>characters</th>\n",
       "    </tr>\n",
       "  </thead>\n",
       "  <tbody>\n",
       "    <tr>\n",
       "      <th>0</th>\n",
       "      <td>tt0111414</td>\n",
       "      <td>1</td>\n",
       "      <td>nm0246005</td>\n",
       "      <td>actor</td>\n",
       "      <td>NaN</td>\n",
       "      <td>[\"The Man\"]</td>\n",
       "    </tr>\n",
       "    <tr>\n",
       "      <th>1</th>\n",
       "      <td>tt0111414</td>\n",
       "      <td>2</td>\n",
       "      <td>nm0398271</td>\n",
       "      <td>director</td>\n",
       "      <td>NaN</td>\n",
       "      <td>NaN</td>\n",
       "    </tr>\n",
       "    <tr>\n",
       "      <th>2</th>\n",
       "      <td>tt0111414</td>\n",
       "      <td>3</td>\n",
       "      <td>nm3739909</td>\n",
       "      <td>producer</td>\n",
       "      <td>producer</td>\n",
       "      <td>NaN</td>\n",
       "    </tr>\n",
       "    <tr>\n",
       "      <th>3</th>\n",
       "      <td>tt0323808</td>\n",
       "      <td>10</td>\n",
       "      <td>nm0059247</td>\n",
       "      <td>editor</td>\n",
       "      <td>NaN</td>\n",
       "      <td>NaN</td>\n",
       "    </tr>\n",
       "    <tr>\n",
       "      <th>4</th>\n",
       "      <td>tt0323808</td>\n",
       "      <td>1</td>\n",
       "      <td>nm3579312</td>\n",
       "      <td>actress</td>\n",
       "      <td>NaN</td>\n",
       "      <td>[\"Beth Boothby\"]</td>\n",
       "    </tr>\n",
       "  </tbody>\n",
       "</table>\n",
       "</div>"
      ],
      "text/plain": [
       "      tconst  ordering     nconst  category       job        characters\n",
       "0  tt0111414         1  nm0246005     actor       NaN       [\"The Man\"]\n",
       "1  tt0111414         2  nm0398271  director       NaN               NaN\n",
       "2  tt0111414         3  nm3739909  producer  producer               NaN\n",
       "3  tt0323808        10  nm0059247    editor       NaN               NaN\n",
       "4  tt0323808         1  nm3579312   actress       NaN  [\"Beth Boothby\"]"
      ]
     },
     "execution_count": 12,
     "metadata": {},
     "output_type": "execute_result"
    }
   ],
   "source": [
    "principals_df.head()"
   ]
  },
  {
   "cell_type": "markdown",
   "metadata": {},
   "source": [
    "## d. Financials\n",
    "- gross_df: includes a feature for studio abbreviations and a feature for the year the film was released\n",
    "- budget_df: includes a budget feature, along with revenue data, as well as a full 'release_date' feature\n",
    "\n",
    "##### CONCLUSIONS:\n",
    "- this will be the most challenging sub-set of data to join with the rest, as neither of the provided financial datasets is from IMDB\n",
    "- leaning towards using budget_df exclusively for my financial data at this point, due to inclusion of 'budget' feature and full 'release_date' feature rather than just the release year\n",
    "- hopefully there will be a more direct way to scrape and integrate these numbers from the internet"
   ]
  },
  {
   "cell_type": "code",
   "execution_count": 13,
   "metadata": {
    "scrolled": true
   },
   "outputs": [
    {
     "data": {
      "text/html": [
       "<div>\n",
       "<style scoped>\n",
       "    .dataframe tbody tr th:only-of-type {\n",
       "        vertical-align: middle;\n",
       "    }\n",
       "\n",
       "    .dataframe tbody tr th {\n",
       "        vertical-align: top;\n",
       "    }\n",
       "\n",
       "    .dataframe thead th {\n",
       "        text-align: right;\n",
       "    }\n",
       "</style>\n",
       "<table border=\"1\" class=\"dataframe\">\n",
       "  <thead>\n",
       "    <tr style=\"text-align: right;\">\n",
       "      <th></th>\n",
       "      <th>title</th>\n",
       "      <th>studio</th>\n",
       "      <th>domestic_gross</th>\n",
       "      <th>foreign_gross</th>\n",
       "      <th>year</th>\n",
       "    </tr>\n",
       "  </thead>\n",
       "  <tbody>\n",
       "    <tr>\n",
       "      <th>0</th>\n",
       "      <td>Toy Story 3</td>\n",
       "      <td>BV</td>\n",
       "      <td>415000000.0</td>\n",
       "      <td>652000000</td>\n",
       "      <td>2010</td>\n",
       "    </tr>\n",
       "    <tr>\n",
       "      <th>1</th>\n",
       "      <td>Alice in Wonderland (2010)</td>\n",
       "      <td>BV</td>\n",
       "      <td>334200000.0</td>\n",
       "      <td>691300000</td>\n",
       "      <td>2010</td>\n",
       "    </tr>\n",
       "    <tr>\n",
       "      <th>2</th>\n",
       "      <td>Harry Potter and the Deathly Hallows Part 1</td>\n",
       "      <td>WB</td>\n",
       "      <td>296000000.0</td>\n",
       "      <td>664300000</td>\n",
       "      <td>2010</td>\n",
       "    </tr>\n",
       "    <tr>\n",
       "      <th>3</th>\n",
       "      <td>Inception</td>\n",
       "      <td>WB</td>\n",
       "      <td>292600000.0</td>\n",
       "      <td>535700000</td>\n",
       "      <td>2010</td>\n",
       "    </tr>\n",
       "    <tr>\n",
       "      <th>4</th>\n",
       "      <td>Shrek Forever After</td>\n",
       "      <td>P/DW</td>\n",
       "      <td>238700000.0</td>\n",
       "      <td>513900000</td>\n",
       "      <td>2010</td>\n",
       "    </tr>\n",
       "  </tbody>\n",
       "</table>\n",
       "</div>"
      ],
      "text/plain": [
       "                                         title studio  domestic_gross  \\\n",
       "0                                  Toy Story 3     BV     415000000.0   \n",
       "1                   Alice in Wonderland (2010)     BV     334200000.0   \n",
       "2  Harry Potter and the Deathly Hallows Part 1     WB     296000000.0   \n",
       "3                                    Inception     WB     292600000.0   \n",
       "4                          Shrek Forever After   P/DW     238700000.0   \n",
       "\n",
       "  foreign_gross  year  \n",
       "0     652000000  2010  \n",
       "1     691300000  2010  \n",
       "2     664300000  2010  \n",
       "3     535700000  2010  \n",
       "4     513900000  2010  "
      ]
     },
     "execution_count": 13,
     "metadata": {},
     "output_type": "execute_result"
    }
   ],
   "source": [
    "gross_df.head()"
   ]
  },
  {
   "cell_type": "code",
   "execution_count": 14,
   "metadata": {},
   "outputs": [
    {
     "data": {
      "text/html": [
       "<div>\n",
       "<style scoped>\n",
       "    .dataframe tbody tr th:only-of-type {\n",
       "        vertical-align: middle;\n",
       "    }\n",
       "\n",
       "    .dataframe tbody tr th {\n",
       "        vertical-align: top;\n",
       "    }\n",
       "\n",
       "    .dataframe thead th {\n",
       "        text-align: right;\n",
       "    }\n",
       "</style>\n",
       "<table border=\"1\" class=\"dataframe\">\n",
       "  <thead>\n",
       "    <tr style=\"text-align: right;\">\n",
       "      <th></th>\n",
       "      <th>id</th>\n",
       "      <th>release_date</th>\n",
       "      <th>movie</th>\n",
       "      <th>production_budget</th>\n",
       "      <th>domestic_gross</th>\n",
       "      <th>worldwide_gross</th>\n",
       "    </tr>\n",
       "  </thead>\n",
       "  <tbody>\n",
       "    <tr>\n",
       "      <th>0</th>\n",
       "      <td>1</td>\n",
       "      <td>Dec 18, 2009</td>\n",
       "      <td>Avatar</td>\n",
       "      <td>$425,000,000</td>\n",
       "      <td>$760,507,625</td>\n",
       "      <td>$2,776,345,279</td>\n",
       "    </tr>\n",
       "    <tr>\n",
       "      <th>1</th>\n",
       "      <td>2</td>\n",
       "      <td>May 20, 2011</td>\n",
       "      <td>Pirates of the Caribbean: On Stranger Tides</td>\n",
       "      <td>$410,600,000</td>\n",
       "      <td>$241,063,875</td>\n",
       "      <td>$1,045,663,875</td>\n",
       "    </tr>\n",
       "    <tr>\n",
       "      <th>2</th>\n",
       "      <td>3</td>\n",
       "      <td>Jun 7, 2019</td>\n",
       "      <td>Dark Phoenix</td>\n",
       "      <td>$350,000,000</td>\n",
       "      <td>$42,762,350</td>\n",
       "      <td>$149,762,350</td>\n",
       "    </tr>\n",
       "    <tr>\n",
       "      <th>3</th>\n",
       "      <td>4</td>\n",
       "      <td>May 1, 2015</td>\n",
       "      <td>Avengers: Age of Ultron</td>\n",
       "      <td>$330,600,000</td>\n",
       "      <td>$459,005,868</td>\n",
       "      <td>$1,403,013,963</td>\n",
       "    </tr>\n",
       "    <tr>\n",
       "      <th>4</th>\n",
       "      <td>5</td>\n",
       "      <td>Dec 15, 2017</td>\n",
       "      <td>Star Wars Ep. VIII: The Last Jedi</td>\n",
       "      <td>$317,000,000</td>\n",
       "      <td>$620,181,382</td>\n",
       "      <td>$1,316,721,747</td>\n",
       "    </tr>\n",
       "  </tbody>\n",
       "</table>\n",
       "</div>"
      ],
      "text/plain": [
       "   id  release_date                                        movie  \\\n",
       "0   1  Dec 18, 2009                                       Avatar   \n",
       "1   2  May 20, 2011  Pirates of the Caribbean: On Stranger Tides   \n",
       "2   3   Jun 7, 2019                                 Dark Phoenix   \n",
       "3   4   May 1, 2015                      Avengers: Age of Ultron   \n",
       "4   5  Dec 15, 2017            Star Wars Ep. VIII: The Last Jedi   \n",
       "\n",
       "  production_budget domestic_gross worldwide_gross  \n",
       "0      $425,000,000   $760,507,625  $2,776,345,279  \n",
       "1      $410,600,000   $241,063,875  $1,045,663,875  \n",
       "2      $350,000,000    $42,762,350    $149,762,350  \n",
       "3      $330,600,000   $459,005,868  $1,403,013,963  \n",
       "4      $317,000,000   $620,181,382  $1,316,721,747  "
      ]
     },
     "execution_count": 14,
     "metadata": {},
     "output_type": "execute_result"
    }
   ],
   "source": [
    "budget_df.head()"
   ]
  },
  {
   "cell_type": "markdown",
   "metadata": {},
   "source": [
    "## Gap analysis\n",
    "\n",
    "- Use imdb_df as my base data set for movie metadata\n",
    "    - look for ways to pull in 'rating', 'studio', 'theater_date' and 'box_office' from rt_df or from the internet\n",
    "\n",
    "\n",
    "- Use ratings_df as my starting point for reviews and ratings data, because of easy join-ability with movie metadata via IMDB title id\n",
    "    - join in 'original language', 'popularity', 'vote_average', 'vote count' from tmdb_ratings_df or internet\n",
    "    - Unlikely to use RT data due to lack of movie title feature\n",
    "\n",
    "\n",
    "- Use principals_df for developing recommendations on specific writers, directors, actors/actresses, etc. to use (join with metadata via IMDB ID)\n",
    "    - may need to use ppl_df and crew_df to complete the joins with final combined dataset\n",
    "\n",
    "\n",
    "- sources of financial provided are NOT from IMDB, so cannot join financials via IMDB ID as above\n",
    "    - budget_df includes 'budget' along with gross totals, so this is the better of the two provided sets of data\n",
    "    - finding ways to scrape financials from web will be a top priority "
   ]
  },
  {
   "cell_type": "markdown",
   "metadata": {},
   "source": [
    "# Cleaning and tidying"
   ]
  },
  {
   "cell_type": "code",
   "execution_count": 15,
   "metadata": {},
   "outputs": [],
   "source": [
    "# I know these data sets are messy, so before attempting to clean I jumped online and found a Python toolkit called\n",
    "# IMDbPY that was specifically designed to query IMDb using python.  I will import below and see what gaps I can fill\n",
    "# in imdb_df using the API before attempting any joins."
   ]
  },
  {
   "cell_type": "markdown",
   "metadata": {},
   "source": [
    "## Exploring IMDbPY Python toolkit"
   ]
  },
  {
   "cell_type": "code",
   "execution_count": 16,
   "metadata": {},
   "outputs": [],
   "source": [
    "import imdb\n",
    "ia = imdb.IMDb()"
   ]
  },
  {
   "cell_type": "code",
   "execution_count": 17,
   "metadata": {
    "scrolled": true
   },
   "outputs": [
    {
     "data": {
      "text/plain": [
       "['airing',\n",
       " 'akas',\n",
       " 'alternate versions',\n",
       " 'awards',\n",
       " 'connections',\n",
       " 'crazy credits',\n",
       " 'critic reviews',\n",
       " 'episodes',\n",
       " 'external reviews',\n",
       " 'external sites',\n",
       " 'faqs',\n",
       " 'full credits',\n",
       " 'goofs',\n",
       " 'keywords',\n",
       " 'list',\n",
       " 'locations',\n",
       " 'main',\n",
       " 'misc sites',\n",
       " 'news',\n",
       " 'official sites',\n",
       " 'parents guide',\n",
       " 'photo sites',\n",
       " 'plot',\n",
       " 'quotes',\n",
       " 'recommendations',\n",
       " 'release dates',\n",
       " 'release info',\n",
       " 'reviews',\n",
       " 'sound clips',\n",
       " 'soundtrack',\n",
       " 'synopsis',\n",
       " 'taglines',\n",
       " 'technical',\n",
       " 'trivia',\n",
       " 'tv schedule',\n",
       " 'video clips',\n",
       " 'vote details']"
      ]
     },
     "execution_count": 17,
     "metadata": {},
     "output_type": "execute_result"
    }
   ],
   "source": [
    "# List of the sets of features we can import using IMDbPY\n",
    "ia.get_movie_infoset()"
   ]
  },
  {
   "cell_type": "code",
   "execution_count": 18,
   "metadata": {
    "scrolled": true
   },
   "outputs": [
    {
     "data": {
      "text/plain": [
       "['original title',\n",
       " 'cast',\n",
       " 'genres',\n",
       " 'runtimes',\n",
       " 'countries',\n",
       " 'country codes',\n",
       " 'language codes',\n",
       " 'color info',\n",
       " 'aspect ratio',\n",
       " 'sound mix',\n",
       " 'box office',\n",
       " 'certificates',\n",
       " 'original air date',\n",
       " 'rating',\n",
       " 'votes',\n",
       " 'cover url',\n",
       " 'imdbID',\n",
       " 'plot outline',\n",
       " 'languages',\n",
       " 'title',\n",
       " 'year',\n",
       " 'kind',\n",
       " 'directors',\n",
       " 'writers',\n",
       " 'producers',\n",
       " 'composers',\n",
       " 'cinematographers',\n",
       " 'editors',\n",
       " 'editorial department',\n",
       " 'casting directors',\n",
       " 'production designers',\n",
       " 'art directors',\n",
       " 'set decorators',\n",
       " 'costume designers',\n",
       " 'make up department',\n",
       " 'production managers',\n",
       " 'assistant directors',\n",
       " 'art department',\n",
       " 'sound department',\n",
       " 'visual effects',\n",
       " 'stunts',\n",
       " 'camera department',\n",
       " 'casting department',\n",
       " 'costume departmen',\n",
       " 'location management',\n",
       " 'music department',\n",
       " 'script department',\n",
       " 'miscellaneous',\n",
       " 'thanks',\n",
       " 'akas',\n",
       " 'writer',\n",
       " 'director',\n",
       " 'production companies',\n",
       " 'distributors',\n",
       " 'special effects',\n",
       " 'other companies',\n",
       " 'canonical title',\n",
       " 'long imdb title',\n",
       " 'long imdb canonical title',\n",
       " 'smart canonical title',\n",
       " 'smart long imdb canonical title',\n",
       " 'full-size cover url']"
      ]
     },
     "execution_count": 18,
     "metadata": {},
     "output_type": "execute_result"
    }
   ],
   "source": [
    "# List of features within the feature set 'main'\n",
    "# NOTE Moonlight (2016) aka 'tt4975722' used as placeholder for all following queries of IMDbPY\n",
    "ia.get_movie('4975722', info='main').keys()"
   ]
  },
  {
   "cell_type": "markdown",
   "metadata": {},
   "source": [
    "### Programmatic exploration of toolkit\n",
    "#### a. Movie metadata\n",
    "- movie rating:  IMDbPY 'main' 'certificates' (this lists theater rating for all countries, need to isolate US)\n",
    "- studio:  IMDbPY 'main' 'production companies'\n",
    "- theater date:  IMDbPY 'main' 'original air date' AND 'year'\n",
    "- PLUS original language:  this could be pulled in from TMDB_ratings_df as well\n",
    "\n",
    "#### b. Ratings and reviews\n",
    "- IMDbPY 'vote details' 'demographics' for demographic info about top voters of movies)\n",
    "- PLUS still need to join in TMDB_ratings_df for 'popularity', 'vote_average', 'vote_count'\n",
    "\n",
    "#### c. People\n",
    "- FIRST I want to explore principals_df, but if that proves to be too complicated for joining....\n",
    "- if not, I can at least pull 'writer' and 'director' data from IMDbPY\n",
    "\n",
    "#### d. Financials\n",
    "- IMDbPY 'main' 'box office' (includes budget, opening weekend gross, domestic gross, global gross)"
   ]
  },
  {
   "cell_type": "code",
   "execution_count": 19,
   "metadata": {
    "scrolled": true
   },
   "outputs": [
    {
     "data": {
      "text/plain": [
       "['Argentina:16',\n",
       " 'Australia:M',\n",
       " 'Austria:16',\n",
       " 'Brazil:16',\n",
       " 'Canada:14A::(Alberta/British Columbia/Manitoba)',\n",
       " 'Canada:13+::(Quebec)',\n",
       " 'Chile:14',\n",
       " 'Colombia:12',\n",
       " 'Denmark:11',\n",
       " 'Finland:K-12',\n",
       " 'France:Tous publics',\n",
       " 'Germany:12',\n",
       " 'Greece:K-16',\n",
       " 'Hong Kong:IIB',\n",
       " 'Hungary:16',\n",
       " 'India:A',\n",
       " 'Indonesia:17+',\n",
       " 'Ireland:15A',\n",
       " 'Italy:T',\n",
       " 'Japan:R15+',\n",
       " 'Lithuania:N-13',\n",
       " 'Malaysia:(Banned)',\n",
       " 'Malta:15',\n",
       " 'Mexico:B15',\n",
       " 'Netherlands:12',\n",
       " 'New Zealand:M',\n",
       " 'Norway:12',\n",
       " 'Philippines:R-16',\n",
       " 'Portugal:M/16',\n",
       " 'Singapore:M18',\n",
       " 'South Africa:13',\n",
       " 'South Korea:15',\n",
       " 'Spain:16',\n",
       " 'Sweden:11',\n",
       " 'Switzerland:14',\n",
       " 'Taiwan:R-15',\n",
       " 'Turkey:15+',\n",
       " 'United Kingdom:15',\n",
       " 'United States:R',\n",
       " 'Ukraine:16']"
      ]
     },
     "execution_count": 19,
     "metadata": {},
     "output_type": "execute_result"
    }
   ],
   "source": [
    "ia.get_movie('4975722', info='main')['certificates']"
   ]
  },
  {
   "cell_type": "code",
   "execution_count": 20,
   "metadata": {},
   "outputs": [
    {
     "data": {
      "text/plain": [
       "[<Company id:0390816[http] name:_A24_>,\n",
       " <Company id:0641956[http] name:_PASTEL_>,\n",
       " <Company id:0136967[http] name:_Plan B Entertainment_>]"
      ]
     },
     "execution_count": 20,
     "metadata": {},
     "output_type": "execute_result"
    }
   ],
   "source": [
    "ia.get_movie('4975722', info='main')['production companies']"
   ]
  },
  {
   "cell_type": "code",
   "execution_count": 21,
   "metadata": {
    "scrolled": true
   },
   "outputs": [
    {
     "data": {
      "text/plain": [
       "{'Budget': '$1,500,000 (estimated)',\n",
       " 'Opening Weekend United States': '$1,488,740, 18 Nov 2016',\n",
       " 'Cumulative Worldwide Gross': '$55,561,162, 20 Mar 2017'}"
      ]
     },
     "execution_count": 21,
     "metadata": {},
     "output_type": "execute_result"
    }
   ],
   "source": [
    "ia.get_movie('4975722', info='main')['box office']"
   ]
  },
  {
   "cell_type": "code",
   "execution_count": 22,
   "metadata": {
    "scrolled": false
   },
   "outputs": [
    {
     "data": {
      "text/plain": [
       "{'imdb users': {'votes': 261847, 'rating': 7.4},\n",
       " 'aged under 18': {'votes': 295, 'rating': 7.9},\n",
       " 'aged 18 29': {'votes': 68709, 'rating': 7.6},\n",
       " 'aged 30 44': {'votes': 84075, 'rating': 7.2},\n",
       " 'aged 45 plus': {'votes': 20049, 'rating': 7.2},\n",
       " 'males': {'votes': 147071, 'rating': 7.3},\n",
       " 'males aged under 18': {'votes': 202, 'rating': 8.0},\n",
       " 'males aged 18 29': {'votes': 50751, 'rating': 7.6},\n",
       " 'males aged 30 44': {'votes': 67279, 'rating': 7.2},\n",
       " 'males aged 45 plus': {'votes': 15888, 'rating': 7.1},\n",
       " 'females': {'votes': 39010, 'rating': 7.6},\n",
       " 'females aged under 18': {'votes': 67, 'rating': 7.8},\n",
       " 'females aged 18 29': {'votes': 16082, 'rating': 7.7},\n",
       " 'females aged 30 44': {'votes': 15275, 'rating': 7.5},\n",
       " 'females aged 45 plus': {'votes': 3710, 'rating': 7.5},\n",
       " 'top 1000 voters': {'votes': 566, 'rating': 6.7},\n",
       " 'us users': {'votes': 32784, 'rating': 7.8},\n",
       " 'non us users': {'votes': 105173, 'rating': 7.3}}"
      ]
     },
     "execution_count": 22,
     "metadata": {},
     "output_type": "execute_result"
    }
   ],
   "source": [
    "ia.get_movie('4975722', info='vote details')['demographics']"
   ]
  },
  {
   "cell_type": "code",
   "execution_count": 23,
   "metadata": {},
   "outputs": [
    {
     "data": {
      "text/plain": [
       "[<Person id:1503575[http] name:_Barry Jenkins_>,\n",
       " <Person id:4144120[http] name:_Tarell Alvin McCraney_>]"
      ]
     },
     "execution_count": 23,
     "metadata": {},
     "output_type": "execute_result"
    }
   ],
   "source": [
    "ia.get_movie('4975722', info='main')['writer']"
   ]
  },
  {
   "cell_type": "code",
   "execution_count": 24,
   "metadata": {},
   "outputs": [
    {
     "data": {
      "text/plain": [
       "[<Person id:1503575[http] name:_Barry Jenkins_>]"
      ]
     },
     "execution_count": 24,
     "metadata": {},
     "output_type": "execute_result"
    }
   ],
   "source": [
    "ia.get_movie('4975722', info='main')['director']"
   ]
  },
  {
   "cell_type": "markdown",
   "metadata": {},
   "source": [
    "### CONCLUSIONS\n",
    "\n",
    "- I will join imdb_df, ratings_df, and principals_df to start forming a fully combined dataframe for analysis\n",
    "- almost all interesting missing metadata can be pulled in from IMDbPY, including financials\n",
    "- TMDB_ratings_df is the only non-IMDB dataset I need to focus on joining in"
   ]
  },
  {
   "cell_type": "markdown",
   "metadata": {},
   "source": [
    "## Joining IMDB datasets\n",
    "\n",
    "### Metadata + ratings = full_df"
   ]
  },
  {
   "cell_type": "code",
   "execution_count": 25,
   "metadata": {
    "scrolled": true
   },
   "outputs": [
    {
     "data": {
      "text/html": [
       "<div>\n",
       "<style scoped>\n",
       "    .dataframe tbody tr th:only-of-type {\n",
       "        vertical-align: middle;\n",
       "    }\n",
       "\n",
       "    .dataframe tbody tr th {\n",
       "        vertical-align: top;\n",
       "    }\n",
       "\n",
       "    .dataframe thead th {\n",
       "        text-align: right;\n",
       "    }\n",
       "</style>\n",
       "<table border=\"1\" class=\"dataframe\">\n",
       "  <thead>\n",
       "    <tr style=\"text-align: right;\">\n",
       "      <th></th>\n",
       "      <th>tconst</th>\n",
       "      <th>primary_title</th>\n",
       "      <th>original_title</th>\n",
       "      <th>start_year</th>\n",
       "      <th>runtime_minutes</th>\n",
       "      <th>genres</th>\n",
       "    </tr>\n",
       "  </thead>\n",
       "  <tbody>\n",
       "    <tr>\n",
       "      <th>0</th>\n",
       "      <td>tt0063540</td>\n",
       "      <td>Sunghursh</td>\n",
       "      <td>Sunghursh</td>\n",
       "      <td>2013</td>\n",
       "      <td>175.0</td>\n",
       "      <td>Action,Crime,Drama</td>\n",
       "    </tr>\n",
       "    <tr>\n",
       "      <th>1</th>\n",
       "      <td>tt0066787</td>\n",
       "      <td>One Day Before the Rainy Season</td>\n",
       "      <td>Ashad Ka Ek Din</td>\n",
       "      <td>2019</td>\n",
       "      <td>114.0</td>\n",
       "      <td>Biography,Drama</td>\n",
       "    </tr>\n",
       "    <tr>\n",
       "      <th>2</th>\n",
       "      <td>tt0069049</td>\n",
       "      <td>The Other Side of the Wind</td>\n",
       "      <td>The Other Side of the Wind</td>\n",
       "      <td>2018</td>\n",
       "      <td>122.0</td>\n",
       "      <td>Drama</td>\n",
       "    </tr>\n",
       "    <tr>\n",
       "      <th>3</th>\n",
       "      <td>tt0069204</td>\n",
       "      <td>Sabse Bada Sukh</td>\n",
       "      <td>Sabse Bada Sukh</td>\n",
       "      <td>2018</td>\n",
       "      <td>NaN</td>\n",
       "      <td>Comedy,Drama</td>\n",
       "    </tr>\n",
       "    <tr>\n",
       "      <th>4</th>\n",
       "      <td>tt0100275</td>\n",
       "      <td>The Wandering Soap Opera</td>\n",
       "      <td>La Telenovela Errante</td>\n",
       "      <td>2017</td>\n",
       "      <td>80.0</td>\n",
       "      <td>Comedy,Drama,Fantasy</td>\n",
       "    </tr>\n",
       "  </tbody>\n",
       "</table>\n",
       "</div>"
      ],
      "text/plain": [
       "      tconst                    primary_title              original_title  \\\n",
       "0  tt0063540                        Sunghursh                   Sunghursh   \n",
       "1  tt0066787  One Day Before the Rainy Season             Ashad Ka Ek Din   \n",
       "2  tt0069049       The Other Side of the Wind  The Other Side of the Wind   \n",
       "3  tt0069204                  Sabse Bada Sukh             Sabse Bada Sukh   \n",
       "4  tt0100275         The Wandering Soap Opera       La Telenovela Errante   \n",
       "\n",
       "   start_year  runtime_minutes                genres  \n",
       "0        2013            175.0    Action,Crime,Drama  \n",
       "1        2019            114.0       Biography,Drama  \n",
       "2        2018            122.0                 Drama  \n",
       "3        2018              NaN          Comedy,Drama  \n",
       "4        2017             80.0  Comedy,Drama,Fantasy  "
      ]
     },
     "execution_count": 25,
     "metadata": {},
     "output_type": "execute_result"
    }
   ],
   "source": [
    "# First I will left-join imdb_df and ratings_df on 'tconst' to form full_df, my main data set for analysis\n",
    "\n",
    "imdb_df.head()"
   ]
  },
  {
   "cell_type": "code",
   "execution_count": 26,
   "metadata": {
    "scrolled": true
   },
   "outputs": [
    {
     "data": {
      "text/html": [
       "<div>\n",
       "<style scoped>\n",
       "    .dataframe tbody tr th:only-of-type {\n",
       "        vertical-align: middle;\n",
       "    }\n",
       "\n",
       "    .dataframe tbody tr th {\n",
       "        vertical-align: top;\n",
       "    }\n",
       "\n",
       "    .dataframe thead th {\n",
       "        text-align: right;\n",
       "    }\n",
       "</style>\n",
       "<table border=\"1\" class=\"dataframe\">\n",
       "  <thead>\n",
       "    <tr style=\"text-align: right;\">\n",
       "      <th></th>\n",
       "      <th>tconst</th>\n",
       "      <th>averagerating</th>\n",
       "      <th>numvotes</th>\n",
       "    </tr>\n",
       "  </thead>\n",
       "  <tbody>\n",
       "    <tr>\n",
       "      <th>0</th>\n",
       "      <td>tt10356526</td>\n",
       "      <td>8.3</td>\n",
       "      <td>31</td>\n",
       "    </tr>\n",
       "    <tr>\n",
       "      <th>1</th>\n",
       "      <td>tt10384606</td>\n",
       "      <td>8.9</td>\n",
       "      <td>559</td>\n",
       "    </tr>\n",
       "    <tr>\n",
       "      <th>2</th>\n",
       "      <td>tt1042974</td>\n",
       "      <td>6.4</td>\n",
       "      <td>20</td>\n",
       "    </tr>\n",
       "    <tr>\n",
       "      <th>3</th>\n",
       "      <td>tt1043726</td>\n",
       "      <td>4.2</td>\n",
       "      <td>50352</td>\n",
       "    </tr>\n",
       "    <tr>\n",
       "      <th>4</th>\n",
       "      <td>tt1060240</td>\n",
       "      <td>6.5</td>\n",
       "      <td>21</td>\n",
       "    </tr>\n",
       "  </tbody>\n",
       "</table>\n",
       "</div>"
      ],
      "text/plain": [
       "       tconst  averagerating  numvotes\n",
       "0  tt10356526            8.3        31\n",
       "1  tt10384606            8.9       559\n",
       "2   tt1042974            6.4        20\n",
       "3   tt1043726            4.2     50352\n",
       "4   tt1060240            6.5        21"
      ]
     },
     "execution_count": 26,
     "metadata": {},
     "output_type": "execute_result"
    }
   ],
   "source": [
    "ratings_df.head()"
   ]
  },
  {
   "cell_type": "code",
   "execution_count": 27,
   "metadata": {},
   "outputs": [],
   "source": [
    "full_df = pd.merge(imdb_df, ratings_df, on='tconst', how='left')"
   ]
  },
  {
   "cell_type": "markdown",
   "metadata": {},
   "source": [
    "### full_df += people data"
   ]
  },
  {
   "cell_type": "code",
   "execution_count": 28,
   "metadata": {},
   "outputs": [
    {
     "data": {
      "text/html": [
       "<div>\n",
       "<style scoped>\n",
       "    .dataframe tbody tr th:only-of-type {\n",
       "        vertical-align: middle;\n",
       "    }\n",
       "\n",
       "    .dataframe tbody tr th {\n",
       "        vertical-align: top;\n",
       "    }\n",
       "\n",
       "    .dataframe thead th {\n",
       "        text-align: right;\n",
       "    }\n",
       "</style>\n",
       "<table border=\"1\" class=\"dataframe\">\n",
       "  <thead>\n",
       "    <tr style=\"text-align: right;\">\n",
       "      <th></th>\n",
       "      <th>tconst</th>\n",
       "      <th>ordering</th>\n",
       "      <th>nconst</th>\n",
       "      <th>category</th>\n",
       "      <th>job</th>\n",
       "      <th>characters</th>\n",
       "    </tr>\n",
       "  </thead>\n",
       "  <tbody>\n",
       "    <tr>\n",
       "      <th>0</th>\n",
       "      <td>tt0111414</td>\n",
       "      <td>1</td>\n",
       "      <td>nm0246005</td>\n",
       "      <td>actor</td>\n",
       "      <td>NaN</td>\n",
       "      <td>[\"The Man\"]</td>\n",
       "    </tr>\n",
       "    <tr>\n",
       "      <th>1</th>\n",
       "      <td>tt0111414</td>\n",
       "      <td>2</td>\n",
       "      <td>nm0398271</td>\n",
       "      <td>director</td>\n",
       "      <td>NaN</td>\n",
       "      <td>NaN</td>\n",
       "    </tr>\n",
       "    <tr>\n",
       "      <th>2</th>\n",
       "      <td>tt0111414</td>\n",
       "      <td>3</td>\n",
       "      <td>nm3739909</td>\n",
       "      <td>producer</td>\n",
       "      <td>producer</td>\n",
       "      <td>NaN</td>\n",
       "    </tr>\n",
       "    <tr>\n",
       "      <th>3</th>\n",
       "      <td>tt0323808</td>\n",
       "      <td>10</td>\n",
       "      <td>nm0059247</td>\n",
       "      <td>editor</td>\n",
       "      <td>NaN</td>\n",
       "      <td>NaN</td>\n",
       "    </tr>\n",
       "    <tr>\n",
       "      <th>4</th>\n",
       "      <td>tt0323808</td>\n",
       "      <td>1</td>\n",
       "      <td>nm3579312</td>\n",
       "      <td>actress</td>\n",
       "      <td>NaN</td>\n",
       "      <td>[\"Beth Boothby\"]</td>\n",
       "    </tr>\n",
       "  </tbody>\n",
       "</table>\n",
       "</div>"
      ],
      "text/plain": [
       "      tconst  ordering     nconst  category       job        characters\n",
       "0  tt0111414         1  nm0246005     actor       NaN       [\"The Man\"]\n",
       "1  tt0111414         2  nm0398271  director       NaN               NaN\n",
       "2  tt0111414         3  nm3739909  producer  producer               NaN\n",
       "3  tt0323808        10  nm0059247    editor       NaN               NaN\n",
       "4  tt0323808         1  nm3579312   actress       NaN  [\"Beth Boothby\"]"
      ]
     },
     "execution_count": 28,
     "metadata": {},
     "output_type": "execute_result"
    }
   ],
   "source": [
    "# Now I will examine principals_df to see how I can join this info into full_df\n",
    "\n",
    "principals_df.head()"
   ]
  },
  {
   "cell_type": "code",
   "execution_count": 29,
   "metadata": {
    "scrolled": false
   },
   "outputs": [
    {
     "data": {
      "text/plain": [
       "actor                  256718\n",
       "director               146393\n",
       "actress                146208\n",
       "producer               113724\n",
       "cinematographer         80091\n",
       "composer                77063\n",
       "writer                  74357\n",
       "self                    65424\n",
       "editor                  55512\n",
       "production_designer      9373\n",
       "archive_footage          3307\n",
       "archive_sound              16\n",
       "Name: category, dtype: int64"
      ]
     },
     "execution_count": 29,
     "metadata": {},
     "output_type": "execute_result"
    }
   ],
   "source": [
    "# I will need to unmelt principals_df to get one single row for each film with separate columns \n",
    "# for each of the below categories containing the nconst ID where applicable\n",
    "\n",
    "principals_df.category.value_counts()"
   ]
  },
  {
   "cell_type": "code",
   "execution_count": 30,
   "metadata": {
    "scrolled": true
   },
   "outputs": [
    {
     "data": {
      "text/html": [
       "<div>\n",
       "<style scoped>\n",
       "    .dataframe tbody tr th:only-of-type {\n",
       "        vertical-align: middle;\n",
       "    }\n",
       "\n",
       "    .dataframe tbody tr th {\n",
       "        vertical-align: top;\n",
       "    }\n",
       "\n",
       "    .dataframe thead th {\n",
       "        text-align: right;\n",
       "    }\n",
       "</style>\n",
       "<table border=\"1\" class=\"dataframe\">\n",
       "  <thead>\n",
       "    <tr style=\"text-align: right;\">\n",
       "      <th></th>\n",
       "      <th>tconst</th>\n",
       "      <th>nconst</th>\n",
       "      <th>category</th>\n",
       "    </tr>\n",
       "  </thead>\n",
       "  <tbody>\n",
       "    <tr>\n",
       "      <th>0</th>\n",
       "      <td>tt0111414</td>\n",
       "      <td>nm0246005</td>\n",
       "      <td>actor</td>\n",
       "    </tr>\n",
       "    <tr>\n",
       "      <th>1</th>\n",
       "      <td>tt0111414</td>\n",
       "      <td>nm0398271</td>\n",
       "      <td>director</td>\n",
       "    </tr>\n",
       "    <tr>\n",
       "      <th>2</th>\n",
       "      <td>tt0111414</td>\n",
       "      <td>nm3739909</td>\n",
       "      <td>producer</td>\n",
       "    </tr>\n",
       "    <tr>\n",
       "      <th>3</th>\n",
       "      <td>tt0323808</td>\n",
       "      <td>nm0059247</td>\n",
       "      <td>editor</td>\n",
       "    </tr>\n",
       "    <tr>\n",
       "      <th>4</th>\n",
       "      <td>tt0323808</td>\n",
       "      <td>nm3579312</td>\n",
       "      <td>actress</td>\n",
       "    </tr>\n",
       "  </tbody>\n",
       "</table>\n",
       "</div>"
      ],
      "text/plain": [
       "      tconst     nconst  category\n",
       "0  tt0111414  nm0246005     actor\n",
       "1  tt0111414  nm0398271  director\n",
       "2  tt0111414  nm3739909  producer\n",
       "3  tt0323808  nm0059247    editor\n",
       "4  tt0323808  nm3579312   actress"
      ]
     },
     "execution_count": 30,
     "metadata": {},
     "output_type": "execute_result"
    }
   ],
   "source": [
    "# I will drop the unwanted columns 'ordering', 'job', and 'characters'\n",
    "principals_df2 = principals_df.copy()\n",
    "principals_df2.drop(['ordering', 'job', 'characters'], axis = 1, inplace=True)\n",
    "principals_df2.head()"
   ]
  },
  {
   "cell_type": "code",
   "execution_count": 31,
   "metadata": {
    "scrolled": false
   },
   "outputs": [
    {
     "ename": "ValueError",
     "evalue": "Index contains duplicate entries, cannot reshape",
     "output_type": "error",
     "traceback": [
      "\u001b[0;31m---------------------------------------------------------------------------\u001b[0m",
      "\u001b[0;31mValueError\u001b[0m                                Traceback (most recent call last)",
      "\u001b[0;32m<ipython-input-31-c84d35c3207a>\u001b[0m in \u001b[0;36m<module>\u001b[0;34m\u001b[0m\n\u001b[0;32m----> 1\u001b[0;31m \u001b[0mprincipals_df2\u001b[0m\u001b[0;34m.\u001b[0m\u001b[0mpivot\u001b[0m\u001b[0;34m(\u001b[0m\u001b[0mindex\u001b[0m\u001b[0;34m=\u001b[0m\u001b[0;34m'tconst'\u001b[0m\u001b[0;34m,\u001b[0m \u001b[0mcolumns\u001b[0m\u001b[0;34m=\u001b[0m\u001b[0;34m'category'\u001b[0m\u001b[0;34m,\u001b[0m \u001b[0mvalues\u001b[0m\u001b[0;34m=\u001b[0m\u001b[0;34m'nconst'\u001b[0m\u001b[0;34m)\u001b[0m\u001b[0;34m\u001b[0m\u001b[0;34m\u001b[0m\u001b[0m\n\u001b[0m",
      "\u001b[0;32m~/opt/anaconda3/envs/learn-env/lib/python3.6/site-packages/pandas/core/frame.py\u001b[0m in \u001b[0;36mpivot\u001b[0;34m(self, index, columns, values)\u001b[0m\n\u001b[1;32m   5921\u001b[0m         \u001b[0;32mfrom\u001b[0m \u001b[0mpandas\u001b[0m\u001b[0;34m.\u001b[0m\u001b[0mcore\u001b[0m\u001b[0;34m.\u001b[0m\u001b[0mreshape\u001b[0m\u001b[0;34m.\u001b[0m\u001b[0mpivot\u001b[0m \u001b[0;32mimport\u001b[0m \u001b[0mpivot\u001b[0m\u001b[0;34m\u001b[0m\u001b[0;34m\u001b[0m\u001b[0m\n\u001b[1;32m   5922\u001b[0m \u001b[0;34m\u001b[0m\u001b[0m\n\u001b[0;32m-> 5923\u001b[0;31m         \u001b[0;32mreturn\u001b[0m \u001b[0mpivot\u001b[0m\u001b[0;34m(\u001b[0m\u001b[0mself\u001b[0m\u001b[0;34m,\u001b[0m \u001b[0mindex\u001b[0m\u001b[0;34m=\u001b[0m\u001b[0mindex\u001b[0m\u001b[0;34m,\u001b[0m \u001b[0mcolumns\u001b[0m\u001b[0;34m=\u001b[0m\u001b[0mcolumns\u001b[0m\u001b[0;34m,\u001b[0m \u001b[0mvalues\u001b[0m\u001b[0;34m=\u001b[0m\u001b[0mvalues\u001b[0m\u001b[0;34m)\u001b[0m\u001b[0;34m\u001b[0m\u001b[0;34m\u001b[0m\u001b[0m\n\u001b[0m\u001b[1;32m   5924\u001b[0m \u001b[0;34m\u001b[0m\u001b[0m\n\u001b[1;32m   5925\u001b[0m     _shared_docs[\n",
      "\u001b[0;32m~/opt/anaconda3/envs/learn-env/lib/python3.6/site-packages/pandas/core/reshape/pivot.py\u001b[0m in \u001b[0;36mpivot\u001b[0;34m(data, index, columns, values)\u001b[0m\n\u001b[1;32m    448\u001b[0m         \u001b[0;32melse\u001b[0m\u001b[0;34m:\u001b[0m\u001b[0;34m\u001b[0m\u001b[0;34m\u001b[0m\u001b[0m\n\u001b[1;32m    449\u001b[0m             \u001b[0mindexed\u001b[0m \u001b[0;34m=\u001b[0m \u001b[0mdata\u001b[0m\u001b[0;34m.\u001b[0m\u001b[0m_constructor_sliced\u001b[0m\u001b[0;34m(\u001b[0m\u001b[0mdata\u001b[0m\u001b[0;34m[\u001b[0m\u001b[0mvalues\u001b[0m\u001b[0;34m]\u001b[0m\u001b[0;34m.\u001b[0m\u001b[0mvalues\u001b[0m\u001b[0;34m,\u001b[0m \u001b[0mindex\u001b[0m\u001b[0;34m=\u001b[0m\u001b[0mindex\u001b[0m\u001b[0;34m)\u001b[0m\u001b[0;34m\u001b[0m\u001b[0;34m\u001b[0m\u001b[0m\n\u001b[0;32m--> 450\u001b[0;31m     \u001b[0;32mreturn\u001b[0m \u001b[0mindexed\u001b[0m\u001b[0;34m.\u001b[0m\u001b[0munstack\u001b[0m\u001b[0;34m(\u001b[0m\u001b[0mcolumns\u001b[0m\u001b[0;34m)\u001b[0m\u001b[0;34m\u001b[0m\u001b[0;34m\u001b[0m\u001b[0m\n\u001b[0m\u001b[1;32m    451\u001b[0m \u001b[0;34m\u001b[0m\u001b[0m\n\u001b[1;32m    452\u001b[0m \u001b[0;34m\u001b[0m\u001b[0m\n",
      "\u001b[0;32m~/opt/anaconda3/envs/learn-env/lib/python3.6/site-packages/pandas/core/series.py\u001b[0m in \u001b[0;36munstack\u001b[0;34m(self, level, fill_value)\u001b[0m\n\u001b[1;32m   3548\u001b[0m         \u001b[0;32mfrom\u001b[0m \u001b[0mpandas\u001b[0m\u001b[0;34m.\u001b[0m\u001b[0mcore\u001b[0m\u001b[0;34m.\u001b[0m\u001b[0mreshape\u001b[0m\u001b[0;34m.\u001b[0m\u001b[0mreshape\u001b[0m \u001b[0;32mimport\u001b[0m \u001b[0munstack\u001b[0m\u001b[0;34m\u001b[0m\u001b[0;34m\u001b[0m\u001b[0m\n\u001b[1;32m   3549\u001b[0m \u001b[0;34m\u001b[0m\u001b[0m\n\u001b[0;32m-> 3550\u001b[0;31m         \u001b[0;32mreturn\u001b[0m \u001b[0munstack\u001b[0m\u001b[0;34m(\u001b[0m\u001b[0mself\u001b[0m\u001b[0;34m,\u001b[0m \u001b[0mlevel\u001b[0m\u001b[0;34m,\u001b[0m \u001b[0mfill_value\u001b[0m\u001b[0;34m)\u001b[0m\u001b[0;34m\u001b[0m\u001b[0;34m\u001b[0m\u001b[0m\n\u001b[0m\u001b[1;32m   3551\u001b[0m \u001b[0;34m\u001b[0m\u001b[0m\n\u001b[1;32m   3552\u001b[0m     \u001b[0;31m# ----------------------------------------------------------------------\u001b[0m\u001b[0;34m\u001b[0m\u001b[0;34m\u001b[0m\u001b[0;34m\u001b[0m\u001b[0m\n",
      "\u001b[0;32m~/opt/anaconda3/envs/learn-env/lib/python3.6/site-packages/pandas/core/reshape/reshape.py\u001b[0m in \u001b[0;36munstack\u001b[0;34m(obj, level, fill_value)\u001b[0m\n\u001b[1;32m    417\u001b[0m             \u001b[0mlevel\u001b[0m\u001b[0;34m=\u001b[0m\u001b[0mlevel\u001b[0m\u001b[0;34m,\u001b[0m\u001b[0;34m\u001b[0m\u001b[0;34m\u001b[0m\u001b[0m\n\u001b[1;32m    418\u001b[0m             \u001b[0mfill_value\u001b[0m\u001b[0;34m=\u001b[0m\u001b[0mfill_value\u001b[0m\u001b[0;34m,\u001b[0m\u001b[0;34m\u001b[0m\u001b[0;34m\u001b[0m\u001b[0m\n\u001b[0;32m--> 419\u001b[0;31m             \u001b[0mconstructor\u001b[0m\u001b[0;34m=\u001b[0m\u001b[0mobj\u001b[0m\u001b[0;34m.\u001b[0m\u001b[0m_constructor_expanddim\u001b[0m\u001b[0;34m,\u001b[0m\u001b[0;34m\u001b[0m\u001b[0;34m\u001b[0m\u001b[0m\n\u001b[0m\u001b[1;32m    420\u001b[0m         )\n\u001b[1;32m    421\u001b[0m         \u001b[0;32mreturn\u001b[0m \u001b[0munstacker\u001b[0m\u001b[0;34m.\u001b[0m\u001b[0mget_result\u001b[0m\u001b[0;34m(\u001b[0m\u001b[0;34m)\u001b[0m\u001b[0;34m\u001b[0m\u001b[0;34m\u001b[0m\u001b[0m\n",
      "\u001b[0;32m~/opt/anaconda3/envs/learn-env/lib/python3.6/site-packages/pandas/core/reshape/reshape.py\u001b[0m in \u001b[0;36m__init__\u001b[0;34m(self, values, index, level, value_columns, fill_value, constructor)\u001b[0m\n\u001b[1;32m    139\u001b[0m \u001b[0;34m\u001b[0m\u001b[0m\n\u001b[1;32m    140\u001b[0m         \u001b[0mself\u001b[0m\u001b[0;34m.\u001b[0m\u001b[0m_make_sorted_values_labels\u001b[0m\u001b[0;34m(\u001b[0m\u001b[0;34m)\u001b[0m\u001b[0;34m\u001b[0m\u001b[0;34m\u001b[0m\u001b[0m\n\u001b[0;32m--> 141\u001b[0;31m         \u001b[0mself\u001b[0m\u001b[0;34m.\u001b[0m\u001b[0m_make_selectors\u001b[0m\u001b[0;34m(\u001b[0m\u001b[0;34m)\u001b[0m\u001b[0;34m\u001b[0m\u001b[0;34m\u001b[0m\u001b[0m\n\u001b[0m\u001b[1;32m    142\u001b[0m \u001b[0;34m\u001b[0m\u001b[0m\n\u001b[1;32m    143\u001b[0m     \u001b[0;32mdef\u001b[0m \u001b[0m_make_sorted_values_labels\u001b[0m\u001b[0;34m(\u001b[0m\u001b[0mself\u001b[0m\u001b[0;34m)\u001b[0m\u001b[0;34m:\u001b[0m\u001b[0;34m\u001b[0m\u001b[0;34m\u001b[0m\u001b[0m\n",
      "\u001b[0;32m~/opt/anaconda3/envs/learn-env/lib/python3.6/site-packages/pandas/core/reshape/reshape.py\u001b[0m in \u001b[0;36m_make_selectors\u001b[0;34m(self)\u001b[0m\n\u001b[1;32m    177\u001b[0m \u001b[0;34m\u001b[0m\u001b[0m\n\u001b[1;32m    178\u001b[0m         \u001b[0;32mif\u001b[0m \u001b[0mmask\u001b[0m\u001b[0;34m.\u001b[0m\u001b[0msum\u001b[0m\u001b[0;34m(\u001b[0m\u001b[0;34m)\u001b[0m \u001b[0;34m<\u001b[0m \u001b[0mlen\u001b[0m\u001b[0;34m(\u001b[0m\u001b[0mself\u001b[0m\u001b[0;34m.\u001b[0m\u001b[0mindex\u001b[0m\u001b[0;34m)\u001b[0m\u001b[0;34m:\u001b[0m\u001b[0;34m\u001b[0m\u001b[0;34m\u001b[0m\u001b[0m\n\u001b[0;32m--> 179\u001b[0;31m             \u001b[0;32mraise\u001b[0m \u001b[0mValueError\u001b[0m\u001b[0;34m(\u001b[0m\u001b[0;34m\"Index contains duplicate entries, cannot reshape\"\u001b[0m\u001b[0;34m)\u001b[0m\u001b[0;34m\u001b[0m\u001b[0;34m\u001b[0m\u001b[0m\n\u001b[0m\u001b[1;32m    180\u001b[0m \u001b[0;34m\u001b[0m\u001b[0m\n\u001b[1;32m    181\u001b[0m         \u001b[0mself\u001b[0m\u001b[0;34m.\u001b[0m\u001b[0mgroup_index\u001b[0m \u001b[0;34m=\u001b[0m \u001b[0mcomp_index\u001b[0m\u001b[0;34m\u001b[0m\u001b[0;34m\u001b[0m\u001b[0m\n",
      "\u001b[0;31mValueError\u001b[0m: Index contains duplicate entries, cannot reshape"
     ]
    }
   ],
   "source": [
    "principals_df2.pivot(index='tconst', columns='category', values='nconst')"
   ]
  },
  {
   "cell_type": "code",
   "execution_count": null,
   "metadata": {},
   "outputs": [],
   "source": [
    "# Pivoting on the above dataframe produces a duplicate entries error, which I suspect means there are duplicate \n",
    "# tconst - category pairings for certain tconst ID's (i.e. multiple actors listed, each as its own row, for the \n",
    "# same movie)\n",
    "\n",
    "# I will first drop all categories that I'm not interested in joining with full_df\n",
    "# Then I will investigate the duplicates issue\n",
    "\n",
    "principals_df2 = principals_df2[(principals_df2.category == 'actor') | \n",
    "                                (principals_df2.category == 'director') | \n",
    "                                (principals_df2.category == 'producer') | \n",
    "                                (principals_df2.category == 'editor') | \n",
    "                                (principals_df2.category == 'actress') | \n",
    "                                (principals_df2.category == 'writer') | \n",
    "                                (principals_df2.category == 'composer')]"
   ]
  },
  {
   "cell_type": "code",
   "execution_count": null,
   "metadata": {},
   "outputs": [],
   "source": [
    "# Unfortunately, I was correct about the duplicates issue described above, based on below example\n",
    "principals_df3 = principals_df2.drop('nconst', axis=1)\n",
    "principals_df3[principals_df3.tconst == 'tt0323808']"
   ]
  },
  {
   "cell_type": "code",
   "execution_count": 32,
   "metadata": {},
   "outputs": [],
   "source": [
    "# To resolve the duplicate row problem, I will group principals_df2 by tconst and category, and aggregate \n",
    "# the matching nconst values into a single cell (when there are multiple), in order to execute a pivot\n",
    "\n",
    "principals_df4 = principals_df2.groupby(['tconst', 'category'], as_index=False).agg({'nconst':lambda x: ', '.join(tuple(x.tolist()))})\n"
   ]
  },
  {
   "cell_type": "code",
   "execution_count": 33,
   "metadata": {},
   "outputs": [
    {
     "data": {
      "text/html": [
       "<div>\n",
       "<style scoped>\n",
       "    .dataframe tbody tr th:only-of-type {\n",
       "        vertical-align: middle;\n",
       "    }\n",
       "\n",
       "    .dataframe tbody tr th {\n",
       "        vertical-align: top;\n",
       "    }\n",
       "\n",
       "    .dataframe thead th {\n",
       "        text-align: right;\n",
       "    }\n",
       "</style>\n",
       "<table border=\"1\" class=\"dataframe\">\n",
       "  <thead>\n",
       "    <tr style=\"text-align: right;\">\n",
       "      <th></th>\n",
       "      <th>tconst</th>\n",
       "      <th>category</th>\n",
       "      <th>nconst</th>\n",
       "    </tr>\n",
       "  </thead>\n",
       "  <tbody>\n",
       "    <tr>\n",
       "      <th>0</th>\n",
       "      <td>tt0063540</td>\n",
       "      <td>actor</td>\n",
       "      <td>nm0474801, nm0756379, nm0474876</td>\n",
       "    </tr>\n",
       "    <tr>\n",
       "      <th>1</th>\n",
       "      <td>tt0063540</td>\n",
       "      <td>actress</td>\n",
       "      <td>nm0904537</td>\n",
       "    </tr>\n",
       "    <tr>\n",
       "      <th>2</th>\n",
       "      <td>tt0063540</td>\n",
       "      <td>composer</td>\n",
       "      <td>nm0006210</td>\n",
       "    </tr>\n",
       "    <tr>\n",
       "      <th>3</th>\n",
       "      <td>tt0063540</td>\n",
       "      <td>director</td>\n",
       "      <td>nm0712540</td>\n",
       "    </tr>\n",
       "    <tr>\n",
       "      <th>4</th>\n",
       "      <td>tt0063540</td>\n",
       "      <td>writer</td>\n",
       "      <td>nm0023551, nm1194313, nm0347899, nm1391276</td>\n",
       "    </tr>\n",
       "  </tbody>\n",
       "</table>\n",
       "</div>"
      ],
      "text/plain": [
       "      tconst  category                                      nconst\n",
       "0  tt0063540     actor             nm0474801, nm0756379, nm0474876\n",
       "1  tt0063540   actress                                   nm0904537\n",
       "2  tt0063540  composer                                   nm0006210\n",
       "3  tt0063540  director                                   nm0712540\n",
       "4  tt0063540    writer  nm0023551, nm1194313, nm0347899, nm1391276"
      ]
     },
     "execution_count": 33,
     "metadata": {},
     "output_type": "execute_result"
    }
   ],
   "source": [
    "# Nice - this worked, we have combined duplicate category items into a single cell for each tconst ID\n",
    "principals_df4.head()"
   ]
  },
  {
   "cell_type": "code",
   "execution_count": 34,
   "metadata": {
    "scrolled": true
   },
   "outputs": [
    {
     "data": {
      "text/html": [
       "<div>\n",
       "<style scoped>\n",
       "    .dataframe tbody tr th:only-of-type {\n",
       "        vertical-align: middle;\n",
       "    }\n",
       "\n",
       "    .dataframe tbody tr th {\n",
       "        vertical-align: top;\n",
       "    }\n",
       "\n",
       "    .dataframe thead th {\n",
       "        text-align: right;\n",
       "    }\n",
       "</style>\n",
       "<table border=\"1\" class=\"dataframe\">\n",
       "  <thead>\n",
       "    <tr style=\"text-align: right;\">\n",
       "      <th>category</th>\n",
       "      <th>tconst</th>\n",
       "      <th>actor</th>\n",
       "      <th>actress</th>\n",
       "      <th>archive_footage</th>\n",
       "      <th>archive_sound</th>\n",
       "      <th>cinematographer</th>\n",
       "      <th>composer</th>\n",
       "      <th>director</th>\n",
       "      <th>editor</th>\n",
       "      <th>producer</th>\n",
       "      <th>production_designer</th>\n",
       "      <th>self</th>\n",
       "      <th>writer</th>\n",
       "    </tr>\n",
       "  </thead>\n",
       "  <tbody>\n",
       "    <tr>\n",
       "      <th>0</th>\n",
       "      <td>tt0063540</td>\n",
       "      <td>nm0474801, nm0756379, nm0474876</td>\n",
       "      <td>nm0904537</td>\n",
       "      <td>NaN</td>\n",
       "      <td>NaN</td>\n",
       "      <td>NaN</td>\n",
       "      <td>nm0006210</td>\n",
       "      <td>nm0712540</td>\n",
       "      <td>NaN</td>\n",
       "      <td>NaN</td>\n",
       "      <td>NaN</td>\n",
       "      <td>NaN</td>\n",
       "      <td>nm0023551, nm1194313, nm0347899, nm1391276</td>\n",
       "    </tr>\n",
       "    <tr>\n",
       "      <th>1</th>\n",
       "      <td>tt0066787</td>\n",
       "      <td>nm0451809, nm0794511</td>\n",
       "      <td>nm0045119, nm0754829</td>\n",
       "      <td>NaN</td>\n",
       "      <td>NaN</td>\n",
       "      <td>nm0536728</td>\n",
       "      <td>nm2600399</td>\n",
       "      <td>nm0002411</td>\n",
       "      <td>NaN</td>\n",
       "      <td>NaN</td>\n",
       "      <td>NaN</td>\n",
       "      <td>NaN</td>\n",
       "      <td>NaN</td>\n",
       "    </tr>\n",
       "    <tr>\n",
       "      <th>2</th>\n",
       "      <td>tt0069049</td>\n",
       "      <td>nm0001379, nm0000953</td>\n",
       "      <td>nm0462648, nm0001782</td>\n",
       "      <td>NaN</td>\n",
       "      <td>NaN</td>\n",
       "      <td>nm0004372</td>\n",
       "      <td>nm0006166</td>\n",
       "      <td>nm0000080</td>\n",
       "      <td>nm0613657</td>\n",
       "      <td>nm0550881, nm1475059</td>\n",
       "      <td>NaN</td>\n",
       "      <td>NaN</td>\n",
       "      <td>NaN</td>\n",
       "    </tr>\n",
       "    <tr>\n",
       "      <th>3</th>\n",
       "      <td>tt0069204</td>\n",
       "      <td>nm0315917, nm0037026, nm2147526, nm0244884</td>\n",
       "      <td>nm1027929, nm1875977, nm1877741</td>\n",
       "      <td>NaN</td>\n",
       "      <td>NaN</td>\n",
       "      <td>NaN</td>\n",
       "      <td>nm0006005</td>\n",
       "      <td>nm0611531</td>\n",
       "      <td>NaN</td>\n",
       "      <td>NaN</td>\n",
       "      <td>NaN</td>\n",
       "      <td>NaN</td>\n",
       "      <td>nm0347899</td>\n",
       "    </tr>\n",
       "    <tr>\n",
       "      <th>4</th>\n",
       "      <td>tt0100275</td>\n",
       "      <td>nm0016013, nm0721280</td>\n",
       "      <td>nm0728971, nm1415193</td>\n",
       "      <td>NaN</td>\n",
       "      <td>NaN</td>\n",
       "      <td>NaN</td>\n",
       "      <td>nm0005948</td>\n",
       "      <td>nm0749914, nm0765384</td>\n",
       "      <td>NaN</td>\n",
       "      <td>nm0462571, nm1856792</td>\n",
       "      <td>NaN</td>\n",
       "      <td>NaN</td>\n",
       "      <td>nm1360635</td>\n",
       "    </tr>\n",
       "  </tbody>\n",
       "</table>\n",
       "</div>"
      ],
      "text/plain": [
       "category     tconst                                       actor  \\\n",
       "0         tt0063540             nm0474801, nm0756379, nm0474876   \n",
       "1         tt0066787                        nm0451809, nm0794511   \n",
       "2         tt0069049                        nm0001379, nm0000953   \n",
       "3         tt0069204  nm0315917, nm0037026, nm2147526, nm0244884   \n",
       "4         tt0100275                        nm0016013, nm0721280   \n",
       "\n",
       "category                          actress archive_footage archive_sound  \\\n",
       "0                               nm0904537             NaN           NaN   \n",
       "1                    nm0045119, nm0754829             NaN           NaN   \n",
       "2                    nm0462648, nm0001782             NaN           NaN   \n",
       "3         nm1027929, nm1875977, nm1877741             NaN           NaN   \n",
       "4                    nm0728971, nm1415193             NaN           NaN   \n",
       "\n",
       "category cinematographer   composer              director     editor  \\\n",
       "0                    NaN  nm0006210             nm0712540        NaN   \n",
       "1              nm0536728  nm2600399             nm0002411        NaN   \n",
       "2              nm0004372  nm0006166             nm0000080  nm0613657   \n",
       "3                    NaN  nm0006005             nm0611531        NaN   \n",
       "4                    NaN  nm0005948  nm0749914, nm0765384        NaN   \n",
       "\n",
       "category              producer production_designer self  \\\n",
       "0                          NaN                 NaN  NaN   \n",
       "1                          NaN                 NaN  NaN   \n",
       "2         nm0550881, nm1475059                 NaN  NaN   \n",
       "3                          NaN                 NaN  NaN   \n",
       "4         nm0462571, nm1856792                 NaN  NaN   \n",
       "\n",
       "category                                      writer  \n",
       "0         nm0023551, nm1194313, nm0347899, nm1391276  \n",
       "1                                                NaN  \n",
       "2                                                NaN  \n",
       "3                                          nm0347899  \n",
       "4                                          nm1360635  "
      ]
     },
     "execution_count": 34,
     "metadata": {},
     "output_type": "execute_result"
    }
   ],
   "source": [
    "# Pivoting on the above, I can now join each of the below \"people\" columns with full_df by using tconst\n",
    "principals_piv = principals_df4.pivot(index='tconst', columns='category', values='nconst')\n",
    "principals_piv = principals_piv.reset_index()\n",
    "principals_piv.head()"
   ]
  },
  {
   "cell_type": "code",
   "execution_count": 35,
   "metadata": {
    "scrolled": true
   },
   "outputs": [],
   "source": [
    "full_df = full_df.merge(principals_piv, on='tconst', how='left')"
   ]
  },
  {
   "cell_type": "code",
   "execution_count": 36,
   "metadata": {},
   "outputs": [
    {
     "data": {
      "text/html": [
       "<div>\n",
       "<style scoped>\n",
       "    .dataframe tbody tr th:only-of-type {\n",
       "        vertical-align: middle;\n",
       "    }\n",
       "\n",
       "    .dataframe tbody tr th {\n",
       "        vertical-align: top;\n",
       "    }\n",
       "\n",
       "    .dataframe thead th {\n",
       "        text-align: right;\n",
       "    }\n",
       "</style>\n",
       "<table border=\"1\" class=\"dataframe\">\n",
       "  <thead>\n",
       "    <tr style=\"text-align: right;\">\n",
       "      <th></th>\n",
       "      <th>tconst</th>\n",
       "      <th>primary_title</th>\n",
       "      <th>original_title</th>\n",
       "      <th>start_year</th>\n",
       "      <th>runtime_minutes</th>\n",
       "      <th>genres</th>\n",
       "      <th>averagerating</th>\n",
       "      <th>numvotes</th>\n",
       "      <th>actor</th>\n",
       "      <th>actress</th>\n",
       "      <th>archive_footage</th>\n",
       "      <th>archive_sound</th>\n",
       "      <th>cinematographer</th>\n",
       "      <th>composer</th>\n",
       "      <th>director</th>\n",
       "      <th>editor</th>\n",
       "      <th>producer</th>\n",
       "      <th>production_designer</th>\n",
       "      <th>self</th>\n",
       "      <th>writer</th>\n",
       "    </tr>\n",
       "  </thead>\n",
       "  <tbody>\n",
       "    <tr>\n",
       "      <th>0</th>\n",
       "      <td>tt0063540</td>\n",
       "      <td>Sunghursh</td>\n",
       "      <td>Sunghursh</td>\n",
       "      <td>2013</td>\n",
       "      <td>175.0</td>\n",
       "      <td>Action,Crime,Drama</td>\n",
       "      <td>7.0</td>\n",
       "      <td>77.0</td>\n",
       "      <td>nm0474801, nm0756379, nm0474876</td>\n",
       "      <td>nm0904537</td>\n",
       "      <td>NaN</td>\n",
       "      <td>NaN</td>\n",
       "      <td>NaN</td>\n",
       "      <td>nm0006210</td>\n",
       "      <td>nm0712540</td>\n",
       "      <td>NaN</td>\n",
       "      <td>NaN</td>\n",
       "      <td>NaN</td>\n",
       "      <td>NaN</td>\n",
       "      <td>nm0023551, nm1194313, nm0347899, nm1391276</td>\n",
       "    </tr>\n",
       "    <tr>\n",
       "      <th>1</th>\n",
       "      <td>tt0066787</td>\n",
       "      <td>One Day Before the Rainy Season</td>\n",
       "      <td>Ashad Ka Ek Din</td>\n",
       "      <td>2019</td>\n",
       "      <td>114.0</td>\n",
       "      <td>Biography,Drama</td>\n",
       "      <td>7.2</td>\n",
       "      <td>43.0</td>\n",
       "      <td>nm0451809, nm0794511</td>\n",
       "      <td>nm0045119, nm0754829</td>\n",
       "      <td>NaN</td>\n",
       "      <td>NaN</td>\n",
       "      <td>nm0536728</td>\n",
       "      <td>nm2600399</td>\n",
       "      <td>nm0002411</td>\n",
       "      <td>NaN</td>\n",
       "      <td>NaN</td>\n",
       "      <td>NaN</td>\n",
       "      <td>NaN</td>\n",
       "      <td>NaN</td>\n",
       "    </tr>\n",
       "    <tr>\n",
       "      <th>2</th>\n",
       "      <td>tt0069049</td>\n",
       "      <td>The Other Side of the Wind</td>\n",
       "      <td>The Other Side of the Wind</td>\n",
       "      <td>2018</td>\n",
       "      <td>122.0</td>\n",
       "      <td>Drama</td>\n",
       "      <td>6.9</td>\n",
       "      <td>4517.0</td>\n",
       "      <td>nm0001379, nm0000953</td>\n",
       "      <td>nm0462648, nm0001782</td>\n",
       "      <td>NaN</td>\n",
       "      <td>NaN</td>\n",
       "      <td>nm0004372</td>\n",
       "      <td>nm0006166</td>\n",
       "      <td>nm0000080</td>\n",
       "      <td>nm0613657</td>\n",
       "      <td>nm0550881, nm1475059</td>\n",
       "      <td>NaN</td>\n",
       "      <td>NaN</td>\n",
       "      <td>NaN</td>\n",
       "    </tr>\n",
       "    <tr>\n",
       "      <th>3</th>\n",
       "      <td>tt0069204</td>\n",
       "      <td>Sabse Bada Sukh</td>\n",
       "      <td>Sabse Bada Sukh</td>\n",
       "      <td>2018</td>\n",
       "      <td>NaN</td>\n",
       "      <td>Comedy,Drama</td>\n",
       "      <td>6.1</td>\n",
       "      <td>13.0</td>\n",
       "      <td>nm0315917, nm0037026, nm2147526, nm0244884</td>\n",
       "      <td>nm1027929, nm1875977, nm1877741</td>\n",
       "      <td>NaN</td>\n",
       "      <td>NaN</td>\n",
       "      <td>NaN</td>\n",
       "      <td>nm0006005</td>\n",
       "      <td>nm0611531</td>\n",
       "      <td>NaN</td>\n",
       "      <td>NaN</td>\n",
       "      <td>NaN</td>\n",
       "      <td>NaN</td>\n",
       "      <td>nm0347899</td>\n",
       "    </tr>\n",
       "    <tr>\n",
       "      <th>4</th>\n",
       "      <td>tt0100275</td>\n",
       "      <td>The Wandering Soap Opera</td>\n",
       "      <td>La Telenovela Errante</td>\n",
       "      <td>2017</td>\n",
       "      <td>80.0</td>\n",
       "      <td>Comedy,Drama,Fantasy</td>\n",
       "      <td>6.5</td>\n",
       "      <td>119.0</td>\n",
       "      <td>nm0016013, nm0721280</td>\n",
       "      <td>nm0728971, nm1415193</td>\n",
       "      <td>NaN</td>\n",
       "      <td>NaN</td>\n",
       "      <td>NaN</td>\n",
       "      <td>nm0005948</td>\n",
       "      <td>nm0749914, nm0765384</td>\n",
       "      <td>NaN</td>\n",
       "      <td>nm0462571, nm1856792</td>\n",
       "      <td>NaN</td>\n",
       "      <td>NaN</td>\n",
       "      <td>nm1360635</td>\n",
       "    </tr>\n",
       "  </tbody>\n",
       "</table>\n",
       "</div>"
      ],
      "text/plain": [
       "      tconst                    primary_title              original_title  \\\n",
       "0  tt0063540                        Sunghursh                   Sunghursh   \n",
       "1  tt0066787  One Day Before the Rainy Season             Ashad Ka Ek Din   \n",
       "2  tt0069049       The Other Side of the Wind  The Other Side of the Wind   \n",
       "3  tt0069204                  Sabse Bada Sukh             Sabse Bada Sukh   \n",
       "4  tt0100275         The Wandering Soap Opera       La Telenovela Errante   \n",
       "\n",
       "   start_year  runtime_minutes                genres  averagerating  numvotes  \\\n",
       "0        2013            175.0    Action,Crime,Drama            7.0      77.0   \n",
       "1        2019            114.0       Biography,Drama            7.2      43.0   \n",
       "2        2018            122.0                 Drama            6.9    4517.0   \n",
       "3        2018              NaN          Comedy,Drama            6.1      13.0   \n",
       "4        2017             80.0  Comedy,Drama,Fantasy            6.5     119.0   \n",
       "\n",
       "                                        actor  \\\n",
       "0             nm0474801, nm0756379, nm0474876   \n",
       "1                        nm0451809, nm0794511   \n",
       "2                        nm0001379, nm0000953   \n",
       "3  nm0315917, nm0037026, nm2147526, nm0244884   \n",
       "4                        nm0016013, nm0721280   \n",
       "\n",
       "                           actress archive_footage archive_sound  \\\n",
       "0                        nm0904537             NaN           NaN   \n",
       "1             nm0045119, nm0754829             NaN           NaN   \n",
       "2             nm0462648, nm0001782             NaN           NaN   \n",
       "3  nm1027929, nm1875977, nm1877741             NaN           NaN   \n",
       "4             nm0728971, nm1415193             NaN           NaN   \n",
       "\n",
       "  cinematographer   composer              director     editor  \\\n",
       "0             NaN  nm0006210             nm0712540        NaN   \n",
       "1       nm0536728  nm2600399             nm0002411        NaN   \n",
       "2       nm0004372  nm0006166             nm0000080  nm0613657   \n",
       "3             NaN  nm0006005             nm0611531        NaN   \n",
       "4             NaN  nm0005948  nm0749914, nm0765384        NaN   \n",
       "\n",
       "               producer production_designer self  \\\n",
       "0                   NaN                 NaN  NaN   \n",
       "1                   NaN                 NaN  NaN   \n",
       "2  nm0550881, nm1475059                 NaN  NaN   \n",
       "3                   NaN                 NaN  NaN   \n",
       "4  nm0462571, nm1856792                 NaN  NaN   \n",
       "\n",
       "                                       writer  \n",
       "0  nm0023551, nm1194313, nm0347899, nm1391276  \n",
       "1                                         NaN  \n",
       "2                                         NaN  \n",
       "3                                   nm0347899  \n",
       "4                                   nm1360635  "
      ]
     },
     "execution_count": 36,
     "metadata": {},
     "output_type": "execute_result"
    }
   ],
   "source": [
    "full_df.head()"
   ]
  },
  {
   "cell_type": "markdown",
   "metadata": {},
   "source": [
    "## Initial IMDB data clean"
   ]
  },
  {
   "cell_type": "code",
   "execution_count": 37,
   "metadata": {},
   "outputs": [
    {
     "name": "stdout",
     "output_type": "stream",
     "text": [
      "<class 'pandas.core.frame.DataFrame'>\n",
      "Int64Index: 146144 entries, 0 to 146143\n",
      "Data columns (total 20 columns):\n",
      " #   Column               Non-Null Count   Dtype  \n",
      "---  ------               --------------   -----  \n",
      " 0   tconst               146144 non-null  object \n",
      " 1   primary_title        146144 non-null  object \n",
      " 2   original_title       146123 non-null  object \n",
      " 3   start_year           146144 non-null  int64  \n",
      " 4   runtime_minutes      114405 non-null  float64\n",
      " 5   genres               140736 non-null  object \n",
      " 6   averagerating        73856 non-null   float64\n",
      " 7   numvotes             73856 non-null   float64\n",
      " 8   actor                95162 non-null   object \n",
      " 9   actress              77333 non-null   object \n",
      " 10  archive_footage      1714 non-null    object \n",
      " 11  archive_sound        15 non-null      object \n",
      " 12  cinematographer      67928 non-null   object \n",
      " 13  composer             63521 non-null   object \n",
      " 14  director             128436 non-null  object \n",
      " 15  editor               48950 non-null   object \n",
      " 16  producer             70319 non-null   object \n",
      " 17  production_designer  8965 non-null    object \n",
      " 18  self                 19863 non-null   object \n",
      " 19  writer               49297 non-null   object \n",
      "dtypes: float64(3), int64(1), object(16)\n",
      "memory usage: 23.4+ MB\n"
     ]
    }
   ],
   "source": [
    "# Before I query IMDbPY, I want to thin out the data included in full_df, to minimize query execution time\n",
    "full_df.info()"
   ]
  },
  {
   "cell_type": "code",
   "execution_count": 38,
   "metadata": {},
   "outputs": [],
   "source": [
    "# To start, I will drop any rows that don't have a value for \"averagerating\" or \"numvotes\"\n",
    "full_df.dropna(subset=['numvotes'], axis=0, inplace=True)"
   ]
  },
  {
   "cell_type": "code",
   "execution_count": 39,
   "metadata": {},
   "outputs": [
    {
     "name": "stdout",
     "output_type": "stream",
     "text": [
      "<class 'pandas.core.frame.DataFrame'>\n",
      "Int64Index: 73856 entries, 0 to 146134\n",
      "Data columns (total 20 columns):\n",
      " #   Column               Non-Null Count  Dtype  \n",
      "---  ------               --------------  -----  \n",
      " 0   tconst               73856 non-null  object \n",
      " 1   primary_title        73856 non-null  object \n",
      " 2   original_title       73856 non-null  object \n",
      " 3   start_year           73856 non-null  int64  \n",
      " 4   runtime_minutes      66236 non-null  float64\n",
      " 5   genres               73052 non-null  object \n",
      " 6   averagerating        73856 non-null  float64\n",
      " 7   numvotes             73856 non-null  float64\n",
      " 8   actor                58001 non-null  object \n",
      " 9   actress              49952 non-null  object \n",
      " 10  archive_footage      1151 non-null   object \n",
      " 11  archive_sound        11 non-null     object \n",
      " 12  cinematographer      40662 non-null  object \n",
      " 13  composer             41547 non-null  object \n",
      " 14  director             67757 non-null  object \n",
      " 15  editor               28664 non-null  object \n",
      " 16  producer             46674 non-null  object \n",
      " 17  production_designer  6746 non-null   object \n",
      " 18  self                 9870 non-null   object \n",
      " 19  writer               32894 non-null  object \n",
      "dtypes: float64(3), int64(1), object(16)\n",
      "memory usage: 11.8+ MB\n"
     ]
    }
   ],
   "source": [
    "full_df.info()"
   ]
  },
  {
   "cell_type": "code",
   "execution_count": 40,
   "metadata": {},
   "outputs": [],
   "source": [
    "# Now I will drop any rows without runtime_minutes \n",
    "full_df.dropna(subset=['runtime_minutes'], axis=0, inplace=True)"
   ]
  },
  {
   "cell_type": "code",
   "execution_count": 41,
   "metadata": {},
   "outputs": [
    {
     "name": "stdout",
     "output_type": "stream",
     "text": [
      "<class 'pandas.core.frame.DataFrame'>\n",
      "Int64Index: 66236 entries, 0 to 146134\n",
      "Data columns (total 20 columns):\n",
      " #   Column               Non-Null Count  Dtype  \n",
      "---  ------               --------------  -----  \n",
      " 0   tconst               66236 non-null  object \n",
      " 1   primary_title        66236 non-null  object \n",
      " 2   original_title       66236 non-null  object \n",
      " 3   start_year           66236 non-null  int64  \n",
      " 4   runtime_minutes      66236 non-null  float64\n",
      " 5   genres               65720 non-null  object \n",
      " 6   averagerating        66236 non-null  float64\n",
      " 7   numvotes             66236 non-null  float64\n",
      " 8   actor                51825 non-null  object \n",
      " 9   actress              44617 non-null  object \n",
      " 10  archive_footage      1090 non-null   object \n",
      " 11  archive_sound        11 non-null     object \n",
      " 12  cinematographer      36810 non-null  object \n",
      " 13  composer             38200 non-null  object \n",
      " 14  director             60983 non-null  object \n",
      " 15  editor               25983 non-null  object \n",
      " 16  producer             42762 non-null  object \n",
      " 17  production_designer  6210 non-null   object \n",
      " 18  self                 9115 non-null   object \n",
      " 19  writer               29812 non-null  object \n",
      "dtypes: float64(3), int64(1), object(16)\n",
      "memory usage: 10.6+ MB\n"
     ]
    }
   ],
   "source": [
    "full_df.info()"
   ]
  },
  {
   "cell_type": "code",
   "execution_count": 42,
   "metadata": {
    "scrolled": true
   },
   "outputs": [
    {
     "data": {
      "text/plain": [
       "6.0         2281\n",
       "5.0         2134\n",
       "7.0         1962\n",
       "8.0         1739\n",
       "9.0         1551\n",
       "            ... \n",
       "6380.0         1\n",
       "9167.0         1\n",
       "3843.0         1\n",
       "179453.0       1\n",
       "4176.0         1\n",
       "Name: numvotes, Length: 7349, dtype: int64"
      ]
     },
     "execution_count": 42,
     "metadata": {},
     "output_type": "execute_result"
    }
   ],
   "source": [
    "full_df.numvotes.value_counts()"
   ]
  },
  {
   "cell_type": "code",
   "execution_count": 43,
   "metadata": {},
   "outputs": [],
   "source": [
    "# To further shave down the data set, I will remove all titles that received fewer than 100 votes\n",
    "# so we are only getting those titles that have the most engagement with fans on IMDB\n",
    "full_df = full_df[(full_df.numvotes >= 100)]"
   ]
  },
  {
   "cell_type": "code",
   "execution_count": 44,
   "metadata": {
    "scrolled": false
   },
   "outputs": [
    {
     "data": {
      "text/plain": [
       "2017    3402\n",
       "2016    3369\n",
       "2015    3276\n",
       "2014    3258\n",
       "2013    3103\n",
       "2012    2895\n",
       "2018    2809\n",
       "2011    2720\n",
       "2010    2540\n",
       "2019     606\n",
       "Name: start_year, dtype: int64"
      ]
     },
     "execution_count": 44,
     "metadata": {},
     "output_type": "execute_result"
    }
   ],
   "source": [
    "# Finally, I will drop all movies from 2014 and earlier, so any insights we derive are based on only the most\n",
    "# recent information\n",
    "full_df.start_year.value_counts()"
   ]
  },
  {
   "cell_type": "code",
   "execution_count": 45,
   "metadata": {},
   "outputs": [],
   "source": [
    "full_df = full_df[(full_df.start_year >= 2015)]"
   ]
  },
  {
   "cell_type": "code",
   "execution_count": 46,
   "metadata": {},
   "outputs": [],
   "source": [
    "full_df = full_df.reset_index()"
   ]
  },
  {
   "cell_type": "code",
   "execution_count": 47,
   "metadata": {},
   "outputs": [
    {
     "name": "stdout",
     "output_type": "stream",
     "text": [
      "<class 'pandas.core.frame.DataFrame'>\n",
      "RangeIndex: 13462 entries, 0 to 13461\n",
      "Data columns (total 21 columns):\n",
      " #   Column               Non-Null Count  Dtype  \n",
      "---  ------               --------------  -----  \n",
      " 0   index                13462 non-null  int64  \n",
      " 1   tconst               13462 non-null  object \n",
      " 2   primary_title        13462 non-null  object \n",
      " 3   original_title       13462 non-null  object \n",
      " 4   start_year           13462 non-null  int64  \n",
      " 5   runtime_minutes      13462 non-null  float64\n",
      " 6   genres               13451 non-null  object \n",
      " 7   averagerating        13462 non-null  float64\n",
      " 8   numvotes             13462 non-null  float64\n",
      " 9   actor                11877 non-null  object \n",
      " 10  actress              10775 non-null  object \n",
      " 11  archive_footage      238 non-null    object \n",
      " 12  archive_sound        3 non-null      object \n",
      " 13  cinematographer      7279 non-null   object \n",
      " 14  composer             8352 non-null   object \n",
      " 15  director             12740 non-null  object \n",
      " 16  editor               4723 non-null   object \n",
      " 17  producer             10686 non-null  object \n",
      " 18  production_designer  1507 non-null   object \n",
      " 19  self                 1238 non-null   object \n",
      " 20  writer               7930 non-null   object \n",
      "dtypes: float64(3), int64(2), object(16)\n",
      "memory usage: 2.2+ MB\n"
     ]
    }
   ],
   "source": [
    "full_df.info()"
   ]
  },
  {
   "cell_type": "markdown",
   "metadata": {},
   "source": [
    "## IMDbPY query:  Financials"
   ]
  },
  {
   "cell_type": "markdown",
   "metadata": {},
   "source": [
    "### Performing the query"
   ]
  },
  {
   "cell_type": "code",
   "execution_count": 48,
   "metadata": {},
   "outputs": [],
   "source": [
    "# SEE OTHER PROJECT FILE"
   ]
  },
  {
   "cell_type": "markdown",
   "metadata": {},
   "source": [
    "### Joining and cleaning"
   ]
  },
  {
   "cell_type": "code",
   "execution_count": 49,
   "metadata": {},
   "outputs": [],
   "source": [
    "## found this code online at:\n",
    "## https://stackoverflow.com/questions/55424733/how-can-i-reformat-a-json-file-to-contain-an-array\n",
    "\n",
    "json_filename = 'imdb_financials.json'\n",
    "\n",
    "with open(json_filename) as file:\n",
    "    array = {'foo': []}\n",
    "    foo_list = array['foo']\n",
    "    for line in file:\n",
    "        obj = json.loads(line)\n",
    "        foo_list.append(obj)"
   ]
  },
  {
   "cell_type": "code",
   "execution_count": 50,
   "metadata": {},
   "outputs": [
    {
     "data": {
      "text/plain": [
       "13462"
      ]
     },
     "execution_count": 50,
     "metadata": {},
     "output_type": "execute_result"
    }
   ],
   "source": [
    "len(foo_list)"
   ]
  },
  {
   "cell_type": "code",
   "execution_count": 52,
   "metadata": {},
   "outputs": [],
   "source": [
    "full_df['financials'] = foo_list"
   ]
  },
  {
   "cell_type": "code",
   "execution_count": 53,
   "metadata": {},
   "outputs": [
    {
     "data": {
      "text/html": [
       "<div>\n",
       "<style scoped>\n",
       "    .dataframe tbody tr th:only-of-type {\n",
       "        vertical-align: middle;\n",
       "    }\n",
       "\n",
       "    .dataframe tbody tr th {\n",
       "        vertical-align: top;\n",
       "    }\n",
       "\n",
       "    .dataframe thead th {\n",
       "        text-align: right;\n",
       "    }\n",
       "</style>\n",
       "<table border=\"1\" class=\"dataframe\">\n",
       "  <thead>\n",
       "    <tr style=\"text-align: right;\">\n",
       "      <th></th>\n",
       "      <th>index</th>\n",
       "      <th>tconst</th>\n",
       "      <th>primary_title</th>\n",
       "      <th>original_title</th>\n",
       "      <th>start_year</th>\n",
       "      <th>runtime_minutes</th>\n",
       "      <th>genres</th>\n",
       "      <th>averagerating</th>\n",
       "      <th>numvotes</th>\n",
       "      <th>actor</th>\n",
       "      <th>actress</th>\n",
       "      <th>composer</th>\n",
       "      <th>director</th>\n",
       "      <th>editor</th>\n",
       "      <th>producer</th>\n",
       "      <th>writer</th>\n",
       "      <th>financials</th>\n",
       "    </tr>\n",
       "  </thead>\n",
       "  <tbody>\n",
       "    <tr>\n",
       "      <th>0</th>\n",
       "      <td>2</td>\n",
       "      <td>tt0069049</td>\n",
       "      <td>The Other Side of the Wind</td>\n",
       "      <td>The Other Side of the Wind</td>\n",
       "      <td>2018</td>\n",
       "      <td>122.0</td>\n",
       "      <td>Drama</td>\n",
       "      <td>6.9</td>\n",
       "      <td>4517.0</td>\n",
       "      <td>nm0001379, nm0000953</td>\n",
       "      <td>nm0462648, nm0001782</td>\n",
       "      <td>nm0006166</td>\n",
       "      <td>nm0000080</td>\n",
       "      <td>nm0613657</td>\n",
       "      <td>nm0550881, nm1475059</td>\n",
       "      <td>NaN</td>\n",
       "      <td>0</td>\n",
       "    </tr>\n",
       "    <tr>\n",
       "      <th>1</th>\n",
       "      <td>4</td>\n",
       "      <td>tt0100275</td>\n",
       "      <td>The Wandering Soap Opera</td>\n",
       "      <td>La Telenovela Errante</td>\n",
       "      <td>2017</td>\n",
       "      <td>80.0</td>\n",
       "      <td>Comedy,Drama,Fantasy</td>\n",
       "      <td>6.5</td>\n",
       "      <td>119.0</td>\n",
       "      <td>nm0016013, nm0721280</td>\n",
       "      <td>nm0728971, nm1415193</td>\n",
       "      <td>nm0005948</td>\n",
       "      <td>nm0749914, nm0765384</td>\n",
       "      <td>NaN</td>\n",
       "      <td>nm0462571, nm1856792</td>\n",
       "      <td>nm1360635</td>\n",
       "      <td>0</td>\n",
       "    </tr>\n",
       "    <tr>\n",
       "      <th>2</th>\n",
       "      <td>7</td>\n",
       "      <td>tt0137204</td>\n",
       "      <td>Joe Finds Grace</td>\n",
       "      <td>Joe Finds Grace</td>\n",
       "      <td>2017</td>\n",
       "      <td>83.0</td>\n",
       "      <td>Adventure,Animation,Comedy</td>\n",
       "      <td>8.1</td>\n",
       "      <td>263.0</td>\n",
       "      <td>nm0365480, nm0003210</td>\n",
       "      <td>nm0367762, nm0186322</td>\n",
       "      <td>nm1930572</td>\n",
       "      <td>NaN</td>\n",
       "      <td>NaN</td>\n",
       "      <td>nm0153581, nm0448515, nm0908708</td>\n",
       "      <td>NaN</td>\n",
       "      <td>0</td>\n",
       "    </tr>\n",
       "    <tr>\n",
       "      <th>3</th>\n",
       "      <td>38</td>\n",
       "      <td>tt0315642</td>\n",
       "      <td>Wazir</td>\n",
       "      <td>Wazir</td>\n",
       "      <td>2016</td>\n",
       "      <td>103.0</td>\n",
       "      <td>Action,Crime,Drama</td>\n",
       "      <td>7.1</td>\n",
       "      <td>15378.0</td>\n",
       "      <td>nm0000821, nm1027719, nm1303433</td>\n",
       "      <td>nm2390814</td>\n",
       "      <td>NaN</td>\n",
       "      <td>nm2349060</td>\n",
       "      <td>NaN</td>\n",
       "      <td>NaN</td>\n",
       "      <td>nm3871075, nm0006765, nm0430785, nm5241801, nm...</td>\n",
       "      <td>0</td>\n",
       "    </tr>\n",
       "    <tr>\n",
       "      <th>4</th>\n",
       "      <td>47</td>\n",
       "      <td>tt0331314</td>\n",
       "      <td>Bunyan and Babe</td>\n",
       "      <td>Bunyan and Babe</td>\n",
       "      <td>2017</td>\n",
       "      <td>84.0</td>\n",
       "      <td>Adventure,Animation,Comedy</td>\n",
       "      <td>5.0</td>\n",
       "      <td>302.0</td>\n",
       "      <td>nm0000422, nm0289344, nm0001288, nm2259477</td>\n",
       "      <td>NaN</td>\n",
       "      <td>nm1356349, nm0688953</td>\n",
       "      <td>nm8625898</td>\n",
       "      <td>NaN</td>\n",
       "      <td>nm1240210</td>\n",
       "      <td>nm0630057, nm0908438</td>\n",
       "      <td>0</td>\n",
       "    </tr>\n",
       "    <tr>\n",
       "      <th>5</th>\n",
       "      <td>50</td>\n",
       "      <td>tt0337926</td>\n",
       "      <td>Chatô - The King of Brazil</td>\n",
       "      <td>Chatô: O Rei do Brasil</td>\n",
       "      <td>2015</td>\n",
       "      <td>102.0</td>\n",
       "      <td>Biography</td>\n",
       "      <td>6.0</td>\n",
       "      <td>558.0</td>\n",
       "      <td>nm0723142, nm0079343</td>\n",
       "      <td>nm0069683, nm0754542</td>\n",
       "      <td>NaN</td>\n",
       "      <td>nm0285071</td>\n",
       "      <td>nm0479884</td>\n",
       "      <td>NaN</td>\n",
       "      <td>nm0138676, nm0730422, nm1412474</td>\n",
       "      <td>0</td>\n",
       "    </tr>\n",
       "    <tr>\n",
       "      <th>6</th>\n",
       "      <td>51</td>\n",
       "      <td>tt0339736</td>\n",
       "      <td>The Evil Within</td>\n",
       "      <td>The Evil Within</td>\n",
       "      <td>2017</td>\n",
       "      <td>98.0</td>\n",
       "      <td>Horror</td>\n",
       "      <td>5.6</td>\n",
       "      <td>2420.0</td>\n",
       "      <td>nm0001218, nm0462735, nm0077720</td>\n",
       "      <td>nm0000539</td>\n",
       "      <td>nm0339704</td>\n",
       "      <td>nm1274189</td>\n",
       "      <td>NaN</td>\n",
       "      <td>nm0524451, nm0823123, nm2999181</td>\n",
       "      <td>NaN</td>\n",
       "      <td>{'Budget': '$6,000,000 (estimated)'}</td>\n",
       "    </tr>\n",
       "    <tr>\n",
       "      <th>7</th>\n",
       "      <td>55</td>\n",
       "      <td>tt0360556</td>\n",
       "      <td>Fahrenheit 451</td>\n",
       "      <td>Fahrenheit 451</td>\n",
       "      <td>2018</td>\n",
       "      <td>100.0</td>\n",
       "      <td>Drama,Sci-Fi,Thriller</td>\n",
       "      <td>4.9</td>\n",
       "      <td>14469.0</td>\n",
       "      <td>nm0430107, nm2210323, nm0788335</td>\n",
       "      <td>nm0441654</td>\n",
       "      <td>nm1902248, nm0664020</td>\n",
       "      <td>nm1023919</td>\n",
       "      <td>NaN</td>\n",
       "      <td>nm0167708</td>\n",
       "      <td>nm0001969, nm0618881</td>\n",
       "      <td>0</td>\n",
       "    </tr>\n",
       "    <tr>\n",
       "      <th>8</th>\n",
       "      <td>57</td>\n",
       "      <td>tt0365545</td>\n",
       "      <td>Nappily Ever After</td>\n",
       "      <td>Nappily Ever After</td>\n",
       "      <td>2018</td>\n",
       "      <td>98.0</td>\n",
       "      <td>Comedy,Drama,Romance</td>\n",
       "      <td>6.4</td>\n",
       "      <td>6287.0</td>\n",
       "      <td>nm1340638, nm0072713</td>\n",
       "      <td>nm0005125, nm0005551</td>\n",
       "      <td>NaN</td>\n",
       "      <td>nm2223783</td>\n",
       "      <td>NaN</td>\n",
       "      <td>nm1545176, nm0082894</td>\n",
       "      <td>nm0111845, nm10021676, nm1946260</td>\n",
       "      <td>0</td>\n",
       "    </tr>\n",
       "    <tr>\n",
       "      <th>9</th>\n",
       "      <td>60</td>\n",
       "      <td>tt0369610</td>\n",
       "      <td>Jurassic World</td>\n",
       "      <td>Jurassic World</td>\n",
       "      <td>2015</td>\n",
       "      <td>124.0</td>\n",
       "      <td>Action,Adventure,Sci-Fi</td>\n",
       "      <td>7.0</td>\n",
       "      <td>539338.0</td>\n",
       "      <td>nm0695435, nm1339223</td>\n",
       "      <td>nm0397171, nm0339460</td>\n",
       "      <td>NaN</td>\n",
       "      <td>nm1119880</td>\n",
       "      <td>NaN</td>\n",
       "      <td>nm0189777</td>\n",
       "      <td>nm0415425, nm0798646, nm2081046, nm0000341</td>\n",
       "      <td>{'Budget': '$150,000,000 (estimated)', 'Openin...</td>\n",
       "    </tr>\n",
       "  </tbody>\n",
       "</table>\n",
       "</div>"
      ],
      "text/plain": [
       "   index     tconst               primary_title              original_title  \\\n",
       "0      2  tt0069049  The Other Side of the Wind  The Other Side of the Wind   \n",
       "1      4  tt0100275    The Wandering Soap Opera       La Telenovela Errante   \n",
       "2      7  tt0137204             Joe Finds Grace             Joe Finds Grace   \n",
       "3     38  tt0315642                       Wazir                       Wazir   \n",
       "4     47  tt0331314             Bunyan and Babe             Bunyan and Babe   \n",
       "5     50  tt0337926  Chatô - The King of Brazil      Chatô: O Rei do Brasil   \n",
       "6     51  tt0339736             The Evil Within             The Evil Within   \n",
       "7     55  tt0360556              Fahrenheit 451              Fahrenheit 451   \n",
       "8     57  tt0365545          Nappily Ever After          Nappily Ever After   \n",
       "9     60  tt0369610              Jurassic World              Jurassic World   \n",
       "\n",
       "   start_year  runtime_minutes                      genres  averagerating  \\\n",
       "0        2018            122.0                       Drama            6.9   \n",
       "1        2017             80.0        Comedy,Drama,Fantasy            6.5   \n",
       "2        2017             83.0  Adventure,Animation,Comedy            8.1   \n",
       "3        2016            103.0          Action,Crime,Drama            7.1   \n",
       "4        2017             84.0  Adventure,Animation,Comedy            5.0   \n",
       "5        2015            102.0                   Biography            6.0   \n",
       "6        2017             98.0                      Horror            5.6   \n",
       "7        2018            100.0       Drama,Sci-Fi,Thriller            4.9   \n",
       "8        2018             98.0        Comedy,Drama,Romance            6.4   \n",
       "9        2015            124.0     Action,Adventure,Sci-Fi            7.0   \n",
       "\n",
       "   numvotes                                       actor               actress  \\\n",
       "0    4517.0                        nm0001379, nm0000953  nm0462648, nm0001782   \n",
       "1     119.0                        nm0016013, nm0721280  nm0728971, nm1415193   \n",
       "2     263.0                        nm0365480, nm0003210  nm0367762, nm0186322   \n",
       "3   15378.0             nm0000821, nm1027719, nm1303433             nm2390814   \n",
       "4     302.0  nm0000422, nm0289344, nm0001288, nm2259477                   NaN   \n",
       "5     558.0                        nm0723142, nm0079343  nm0069683, nm0754542   \n",
       "6    2420.0             nm0001218, nm0462735, nm0077720             nm0000539   \n",
       "7   14469.0             nm0430107, nm2210323, nm0788335             nm0441654   \n",
       "8    6287.0                        nm1340638, nm0072713  nm0005125, nm0005551   \n",
       "9  539338.0                        nm0695435, nm1339223  nm0397171, nm0339460   \n",
       "\n",
       "               composer              director     editor  \\\n",
       "0             nm0006166             nm0000080  nm0613657   \n",
       "1             nm0005948  nm0749914, nm0765384        NaN   \n",
       "2             nm1930572                   NaN        NaN   \n",
       "3                   NaN             nm2349060        NaN   \n",
       "4  nm1356349, nm0688953             nm8625898        NaN   \n",
       "5                   NaN             nm0285071  nm0479884   \n",
       "6             nm0339704             nm1274189        NaN   \n",
       "7  nm1902248, nm0664020             nm1023919        NaN   \n",
       "8                   NaN             nm2223783        NaN   \n",
       "9                   NaN             nm1119880        NaN   \n",
       "\n",
       "                          producer  \\\n",
       "0             nm0550881, nm1475059   \n",
       "1             nm0462571, nm1856792   \n",
       "2  nm0153581, nm0448515, nm0908708   \n",
       "3                              NaN   \n",
       "4                        nm1240210   \n",
       "5                              NaN   \n",
       "6  nm0524451, nm0823123, nm2999181   \n",
       "7                        nm0167708   \n",
       "8             nm1545176, nm0082894   \n",
       "9                        nm0189777   \n",
       "\n",
       "                                              writer  \\\n",
       "0                                                NaN   \n",
       "1                                          nm1360635   \n",
       "2                                                NaN   \n",
       "3  nm3871075, nm0006765, nm0430785, nm5241801, nm...   \n",
       "4                               nm0630057, nm0908438   \n",
       "5                    nm0138676, nm0730422, nm1412474   \n",
       "6                                                NaN   \n",
       "7                               nm0001969, nm0618881   \n",
       "8                   nm0111845, nm10021676, nm1946260   \n",
       "9         nm0415425, nm0798646, nm2081046, nm0000341   \n",
       "\n",
       "                                          financials  \n",
       "0                                                  0  \n",
       "1                                                  0  \n",
       "2                                                  0  \n",
       "3                                                  0  \n",
       "4                                                  0  \n",
       "5                                                  0  \n",
       "6               {'Budget': '$6,000,000 (estimated)'}  \n",
       "7                                                  0  \n",
       "8                                                  0  \n",
       "9  {'Budget': '$150,000,000 (estimated)', 'Openin...  "
      ]
     },
     "execution_count": 53,
     "metadata": {},
     "output_type": "execute_result"
    }
   ],
   "source": [
    "full_df.head(10)"
   ]
  },
  {
   "cell_type": "code",
   "execution_count": 54,
   "metadata": {},
   "outputs": [
    {
     "ename": "TypeError",
     "evalue": "unhashable type: 'dict'",
     "output_type": "error",
     "traceback": [
      "\u001b[0;31m---------------------------------------------------------------------------\u001b[0m",
      "\u001b[0;31mTypeError\u001b[0m                                 Traceback (most recent call last)",
      "\u001b[0;32mpandas/_libs/hashtable_class_helper.pxi\u001b[0m in \u001b[0;36mpandas._libs.hashtable.PyObjectHashTable.map_locations\u001b[0;34m()\u001b[0m\n",
      "\u001b[0;31mTypeError\u001b[0m: unhashable type: 'dict'"
     ]
    },
    {
     "name": "stderr",
     "output_type": "stream",
     "text": [
      "Exception ignored in: 'pandas._libs.index.IndexEngine._call_map_locations'\n",
      "Traceback (most recent call last):\n",
      "  File \"pandas/_libs/hashtable_class_helper.pxi\", line 1653, in pandas._libs.hashtable.PyObjectHashTable.map_locations\n",
      "TypeError: unhashable type: 'dict'\n"
     ]
    },
    {
     "data": {
      "text/plain": [
       "0                                                                                                                                                 8961\n",
       "{'Budget': '$1,000,000 (estimated)'}                                                                                                               104\n",
       "{'Budget': '$500,000 (estimated)'}                                                                                                                  59\n",
       "{'Budget': '$2,000,000 (estimated)'}                                                                                                                58\n",
       "{'Budget': '$3,000,000 (estimated)'}                                                                                                                57\n",
       "                                                                                                                                                  ... \n",
       "{'Budget': '$16,000,000 (estimated)', 'Opening Weekend United States': '$6,870,740, 17 Jun 2018'}                                                    1\n",
       "{'Budget': '$12,000,000 (estimated)', 'Opening Weekend United States': '$8,500,000, 01 Feb 2015', 'Cumulative Worldwide Gross': '$33,213,241'}       1\n",
       "{'Budget': '$65,000,000 (estimated)', 'Opening Weekend United States': '$29,085,719, 07 Jun 2015'}                                                   1\n",
       "{'Opening Weekend Italy': 'EUR75,948, 07 May 2017'}                                                                                                  1\n",
       "{'Budget': 'CAD13,000,000 (estimated)'}                                                                                                              1\n",
       "Name: financials, Length: 2934, dtype: int64"
      ]
     },
     "execution_count": 54,
     "metadata": {},
     "output_type": "execute_result"
    }
   ],
   "source": [
    "# Getting the value_counts() for the new financials column returns an error, as the non-zero entries\n",
    "# are all dictionaries\n",
    "\n",
    "full_df['financials'].value_counts()"
   ]
  },
  {
   "cell_type": "code",
   "execution_count": 55,
   "metadata": {},
   "outputs": [],
   "source": [
    "# The results indicate 8961 items in full_df don't have associated financial data - so I will drop these \n",
    "# rows below\n",
    "\n",
    "full_df = full_df[(full_df['financials'] != 0)]"
   ]
  },
  {
   "cell_type": "code",
   "execution_count": 56,
   "metadata": {},
   "outputs": [
    {
     "data": {
      "text/plain": [
       "4501"
      ]
     },
     "execution_count": 56,
     "metadata": {},
     "output_type": "execute_result"
    }
   ],
   "source": [
    "len(full_df)"
   ]
  },
  {
   "cell_type": "code",
   "execution_count": 57,
   "metadata": {},
   "outputs": [
    {
     "data": {
      "text/html": [
       "<div>\n",
       "<style scoped>\n",
       "    .dataframe tbody tr th:only-of-type {\n",
       "        vertical-align: middle;\n",
       "    }\n",
       "\n",
       "    .dataframe tbody tr th {\n",
       "        vertical-align: top;\n",
       "    }\n",
       "\n",
       "    .dataframe thead th {\n",
       "        text-align: right;\n",
       "    }\n",
       "</style>\n",
       "<table border=\"1\" class=\"dataframe\">\n",
       "  <thead>\n",
       "    <tr style=\"text-align: right;\">\n",
       "      <th></th>\n",
       "      <th>index</th>\n",
       "      <th>tconst</th>\n",
       "      <th>primary_title</th>\n",
       "      <th>original_title</th>\n",
       "      <th>start_year</th>\n",
       "      <th>runtime_minutes</th>\n",
       "      <th>genres</th>\n",
       "      <th>averagerating</th>\n",
       "      <th>numvotes</th>\n",
       "      <th>actor</th>\n",
       "      <th>actress</th>\n",
       "      <th>composer</th>\n",
       "      <th>director</th>\n",
       "      <th>editor</th>\n",
       "      <th>producer</th>\n",
       "      <th>writer</th>\n",
       "      <th>financials</th>\n",
       "    </tr>\n",
       "  </thead>\n",
       "  <tbody>\n",
       "    <tr>\n",
       "      <th>6</th>\n",
       "      <td>51</td>\n",
       "      <td>tt0339736</td>\n",
       "      <td>The Evil Within</td>\n",
       "      <td>The Evil Within</td>\n",
       "      <td>2017</td>\n",
       "      <td>98.0</td>\n",
       "      <td>Horror</td>\n",
       "      <td>5.6</td>\n",
       "      <td>2420.0</td>\n",
       "      <td>nm0001218, nm0462735, nm0077720</td>\n",
       "      <td>nm0000539</td>\n",
       "      <td>nm0339704</td>\n",
       "      <td>nm1274189</td>\n",
       "      <td>NaN</td>\n",
       "      <td>nm0524451, nm0823123, nm2999181</td>\n",
       "      <td>NaN</td>\n",
       "      <td>{'Budget': '$6,000,000 (estimated)'}</td>\n",
       "    </tr>\n",
       "    <tr>\n",
       "      <th>9</th>\n",
       "      <td>60</td>\n",
       "      <td>tt0369610</td>\n",
       "      <td>Jurassic World</td>\n",
       "      <td>Jurassic World</td>\n",
       "      <td>2015</td>\n",
       "      <td>124.0</td>\n",
       "      <td>Action,Adventure,Sci-Fi</td>\n",
       "      <td>7.0</td>\n",
       "      <td>539338.0</td>\n",
       "      <td>nm0695435, nm1339223</td>\n",
       "      <td>nm0397171, nm0339460</td>\n",
       "      <td>NaN</td>\n",
       "      <td>nm1119880</td>\n",
       "      <td>NaN</td>\n",
       "      <td>nm0189777</td>\n",
       "      <td>nm0415425, nm0798646, nm2081046, nm0000341</td>\n",
       "      <td>{'Budget': '$150,000,000 (estimated)', 'Openin...</td>\n",
       "    </tr>\n",
       "    <tr>\n",
       "      <th>11</th>\n",
       "      <td>86</td>\n",
       "      <td>tt0420293</td>\n",
       "      <td>The Stanford Prison Experiment</td>\n",
       "      <td>The Stanford Prison Experiment</td>\n",
       "      <td>2015</td>\n",
       "      <td>122.0</td>\n",
       "      <td>Biography,Drama,History</td>\n",
       "      <td>6.9</td>\n",
       "      <td>32591.0</td>\n",
       "      <td>nm3009232, nm4446467, nm0001082</td>\n",
       "      <td>nm1880888</td>\n",
       "      <td>NaN</td>\n",
       "      <td>nm1547859</td>\n",
       "      <td>NaN</td>\n",
       "      <td>nm0295288, nm2886189, nm0256283</td>\n",
       "      <td>nm0848003, nm1674354</td>\n",
       "      <td>{'Opening Weekend United States': '$37,514, 19...</td>\n",
       "    </tr>\n",
       "    <tr>\n",
       "      <th>13</th>\n",
       "      <td>107</td>\n",
       "      <td>tt0437086</td>\n",
       "      <td>Alita: Battle Angel</td>\n",
       "      <td>Alita: Battle Angel</td>\n",
       "      <td>2019</td>\n",
       "      <td>122.0</td>\n",
       "      <td>Action,Adventure,Sci-Fi</td>\n",
       "      <td>7.5</td>\n",
       "      <td>88207.0</td>\n",
       "      <td>nm0910607, nm0991810</td>\n",
       "      <td>nm4023073, nm0000124</td>\n",
       "      <td>nm0432725</td>\n",
       "      <td>nm0001675</td>\n",
       "      <td>NaN</td>\n",
       "      <td>nm0484457</td>\n",
       "      <td>nm0000116, nm0436164, nm1738737</td>\n",
       "      <td>{'Budget': '$170,000,000 (estimated)', 'Openin...</td>\n",
       "    </tr>\n",
       "    <tr>\n",
       "      <th>14</th>\n",
       "      <td>118</td>\n",
       "      <td>tt0443533</td>\n",
       "      <td>The History of Love</td>\n",
       "      <td>The History of Love</td>\n",
       "      <td>2016</td>\n",
       "      <td>134.0</td>\n",
       "      <td>Drama,Romance,War</td>\n",
       "      <td>6.3</td>\n",
       "      <td>1024.0</td>\n",
       "      <td>nm0001394, nm0001285</td>\n",
       "      <td>nm2605345, nm4563869</td>\n",
       "      <td>nm0023940</td>\n",
       "      <td>nm0586123</td>\n",
       "      <td>NaN</td>\n",
       "      <td>nm2275877, nm2274042</td>\n",
       "      <td>nm0738925, nm1842569</td>\n",
       "      <td>{'Budget': 'EUR15,000,000 (estimated)'}</td>\n",
       "    </tr>\n",
       "  </tbody>\n",
       "</table>\n",
       "</div>"
      ],
      "text/plain": [
       "    index     tconst                   primary_title  \\\n",
       "6      51  tt0339736                 The Evil Within   \n",
       "9      60  tt0369610                  Jurassic World   \n",
       "11     86  tt0420293  The Stanford Prison Experiment   \n",
       "13    107  tt0437086             Alita: Battle Angel   \n",
       "14    118  tt0443533             The History of Love   \n",
       "\n",
       "                    original_title  start_year  runtime_minutes  \\\n",
       "6                  The Evil Within        2017             98.0   \n",
       "9                   Jurassic World        2015            124.0   \n",
       "11  The Stanford Prison Experiment        2015            122.0   \n",
       "13             Alita: Battle Angel        2019            122.0   \n",
       "14             The History of Love        2016            134.0   \n",
       "\n",
       "                     genres  averagerating  numvotes  \\\n",
       "6                    Horror            5.6    2420.0   \n",
       "9   Action,Adventure,Sci-Fi            7.0  539338.0   \n",
       "11  Biography,Drama,History            6.9   32591.0   \n",
       "13  Action,Adventure,Sci-Fi            7.5   88207.0   \n",
       "14        Drama,Romance,War            6.3    1024.0   \n",
       "\n",
       "                              actor               actress   composer  \\\n",
       "6   nm0001218, nm0462735, nm0077720             nm0000539  nm0339704   \n",
       "9              nm0695435, nm1339223  nm0397171, nm0339460        NaN   \n",
       "11  nm3009232, nm4446467, nm0001082             nm1880888        NaN   \n",
       "13             nm0910607, nm0991810  nm4023073, nm0000124  nm0432725   \n",
       "14             nm0001394, nm0001285  nm2605345, nm4563869  nm0023940   \n",
       "\n",
       "     director editor                         producer  \\\n",
       "6   nm1274189    NaN  nm0524451, nm0823123, nm2999181   \n",
       "9   nm1119880    NaN                        nm0189777   \n",
       "11  nm1547859    NaN  nm0295288, nm2886189, nm0256283   \n",
       "13  nm0001675    NaN                        nm0484457   \n",
       "14  nm0586123    NaN             nm2275877, nm2274042   \n",
       "\n",
       "                                        writer  \\\n",
       "6                                          NaN   \n",
       "9   nm0415425, nm0798646, nm2081046, nm0000341   \n",
       "11                        nm0848003, nm1674354   \n",
       "13             nm0000116, nm0436164, nm1738737   \n",
       "14                        nm0738925, nm1842569   \n",
       "\n",
       "                                           financials  \n",
       "6                {'Budget': '$6,000,000 (estimated)'}  \n",
       "9   {'Budget': '$150,000,000 (estimated)', 'Openin...  \n",
       "11  {'Opening Weekend United States': '$37,514, 19...  \n",
       "13  {'Budget': '$170,000,000 (estimated)', 'Openin...  \n",
       "14            {'Budget': 'EUR15,000,000 (estimated)'}  "
      ]
     },
     "execution_count": 57,
     "metadata": {},
     "output_type": "execute_result"
    }
   ],
   "source": [
    "full_df.head()"
   ]
  },
  {
   "cell_type": "code",
   "execution_count": 58,
   "metadata": {},
   "outputs": [],
   "source": [
    "full_df.reset_index(inplace=True)\n",
    "full_df = full_df.drop(['level_0','index'], axis = 1)"
   ]
  },
  {
   "cell_type": "code",
   "execution_count": 59,
   "metadata": {},
   "outputs": [
    {
     "name": "stdout",
     "output_type": "stream",
     "text": [
      "<class 'pandas.core.frame.DataFrame'>\n",
      "RangeIndex: 4501 entries, 0 to 4500\n",
      "Data columns (total 16 columns):\n",
      " #   Column           Non-Null Count  Dtype  \n",
      "---  ------           --------------  -----  \n",
      " 0   tconst           4501 non-null   object \n",
      " 1   primary_title    4501 non-null   object \n",
      " 2   original_title   4501 non-null   object \n",
      " 3   start_year       4501 non-null   int64  \n",
      " 4   runtime_minutes  4501 non-null   float64\n",
      " 5   genres           4499 non-null   object \n",
      " 6   averagerating    4501 non-null   float64\n",
      " 7   numvotes         4501 non-null   float64\n",
      " 8   actor            4101 non-null   object \n",
      " 9   actress          3676 non-null   object \n",
      " 10  composer         2611 non-null   object \n",
      " 11  director         4244 non-null   object \n",
      " 12  editor           1294 non-null   object \n",
      " 13  producer         3691 non-null   object \n",
      " 14  writer           2967 non-null   object \n",
      " 15  financials       4501 non-null   object \n",
      "dtypes: float64(3), int64(1), object(12)\n",
      "memory usage: 562.8+ KB\n"
     ]
    }
   ],
   "source": [
    "full_df.info()"
   ]
  },
  {
   "cell_type": "code",
   "execution_count": 60,
   "metadata": {},
   "outputs": [
    {
     "data": {
      "text/plain": [
       "0                    {'Budget': '$6,000,000 (estimated)'}\n",
       "1       {'Budget': '$150,000,000 (estimated)', 'Openin...\n",
       "2       {'Opening Weekend United States': '$37,514, 19...\n",
       "3       {'Budget': '$170,000,000 (estimated)', 'Openin...\n",
       "4                 {'Budget': 'EUR15,000,000 (estimated)'}\n",
       "                              ...                        \n",
       "4496                 {'Budget': '$1,500,000 (estimated)'}\n",
       "4497                 {'Budget': '$3,000,000 (estimated)'}\n",
       "4498    {'Budget': 'MYR20,000,000 (estimated)', 'Cumul...\n",
       "4499               {'Budget': 'INR4,000,000 (estimated)'}\n",
       "4500              {'Budget': 'INR10,000,000 (estimated)'}\n",
       "Name: financials, Length: 4501, dtype: object"
      ]
     },
     "execution_count": 60,
     "metadata": {},
     "output_type": "execute_result"
    }
   ],
   "source": [
    "full_df.financials"
   ]
  },
  {
   "cell_type": "code",
   "execution_count": 61,
   "metadata": {},
   "outputs": [],
   "source": [
    "# Found code online to extract multiple dict items into their own appropriately named columns:\n",
    "# https://codereview.stackexchange.com/questions/93923/extracting-contents-of-dictionary-contained-in-pandas-dataframe-to-make-new-data\n",
    "\n",
    "def unpack(df, column, fillna=None):\n",
    "    ret = None\n",
    "    if fillna is None:\n",
    "        ret = pd.concat([df, pd.DataFrame((d for idx, d in df[column].iteritems()))], axis=1)\n",
    "        del ret[column]\n",
    "    else:\n",
    "        ret = pd.concat([df, pd.DataFrame((d for idx, d in df[column].iteritems())).fillna(fillna)], axis=1)\n",
    "        del ret[column]\n",
    "    return ret"
   ]
  },
  {
   "cell_type": "code",
   "execution_count": 62,
   "metadata": {},
   "outputs": [],
   "source": [
    "full_df = unpack(full_df, 'financials', 0)"
   ]
  },
  {
   "cell_type": "code",
   "execution_count": 63,
   "metadata": {},
   "outputs": [
    {
     "name": "stdout",
     "output_type": "stream",
     "text": [
      "<class 'pandas.core.frame.DataFrame'>\n",
      "RangeIndex: 4501 entries, 0 to 4500\n",
      "Data columns (total 59 columns):\n",
      " #   Column                                Non-Null Count  Dtype  \n",
      "---  ------                                --------------  -----  \n",
      " 0   tconst                                4501 non-null   object \n",
      " 1   primary_title                         4501 non-null   object \n",
      " 2   original_title                        4501 non-null   object \n",
      " 3   start_year                            4501 non-null   int64  \n",
      " 4   runtime_minutes                       4501 non-null   float64\n",
      " 5   genres                                4499 non-null   object \n",
      " 6   averagerating                         4501 non-null   float64\n",
      " 7   numvotes                              4501 non-null   float64\n",
      " 8   actor                                 4101 non-null   object \n",
      " 9   actress                               3676 non-null   object \n",
      " 10  composer                              2611 non-null   object \n",
      " 11  director                              4244 non-null   object \n",
      " 12  editor                                1294 non-null   object \n",
      " 13  producer                              3691 non-null   object \n",
      " 14  writer                                2967 non-null   object \n",
      " 15  Budget                                4501 non-null   object \n",
      " 16  Opening Weekend United States         4501 non-null   object \n",
      " 17  Cumulative Worldwide Gross            4501 non-null   object \n",
      " 18  Opening Weekend United Kingdom        4501 non-null   object \n",
      " 19  Opening Weekend Turkey                4501 non-null   object \n",
      " 20  Opening Weekend Italy                 4501 non-null   object \n",
      " 21  Opening Weekend Netherlands           4501 non-null   object \n",
      " 22  Opening Weekend Spain                 4501 non-null   object \n",
      " 23  Opening Weekend France                4501 non-null   object \n",
      " 24  Opening Weekend India                 4501 non-null   object \n",
      " 25  Opening Weekend China                 4501 non-null   object \n",
      " 26  Opening Weekend Japan                 4501 non-null   object \n",
      " 27  Opening Weekend Russia                4501 non-null   object \n",
      " 28  Opening Weekend Brazil                4501 non-null   object \n",
      " 29  Opening Weekend Pakistan              4501 non-null   object \n",
      " 30  Opening Weekend Sweden                4501 non-null   object \n",
      " 31  Opening Weekend Mexico                4501 non-null   object \n",
      " 32  Opening Weekend Germany               4501 non-null   object \n",
      " 33  Opening Weekend Greece                4501 non-null   object \n",
      " 34  Opening Weekend South Korea           4501 non-null   object \n",
      " 35  Opening Weekend Belgium               4501 non-null   object \n",
      " 36  Opening Weekend Finland               4501 non-null   object \n",
      " 37  Opening Weekend Ireland               4501 non-null   object \n",
      " 38  Opening Weekend Chile                 4501 non-null   object \n",
      " 39  Opening Weekend Egypt                 4501 non-null   object \n",
      " 40  Opening Weekend Vietnam               4501 non-null   object \n",
      " 41  Opening Weekend New Zealand           4501 non-null   object \n",
      " 42  Opening Weekend Philippines           4501 non-null   object \n",
      " 43  Opening Weekend Hungary               4501 non-null   object \n",
      " 44  Opening Weekend Hong Kong             4501 non-null   object \n",
      " 45  Opening Weekend Serbia                4501 non-null   object \n",
      " 46  Opening Weekend United Arab Emirates  4501 non-null   object \n",
      " 47  Opening Weekend Romania               4501 non-null   object \n",
      " 48  Opening Weekend Poland                4501 non-null   object \n",
      " 49  Opening Weekend Malaysia              4501 non-null   object \n",
      " 50  Opening Weekend Argentina             4501 non-null   object \n",
      " 51  Opening Weekend Iran                  4501 non-null   object \n",
      " 52  Opening Weekend South Africa          4501 non-null   object \n",
      " 53  Opening Weekend Canada                4501 non-null   object \n",
      " 54  Opening Weekend Portugal              4501 non-null   object \n",
      " 55  Opening Weekend Ukraine               4501 non-null   object \n",
      " 56  Opening Weekend Bangladesh            4501 non-null   object \n",
      " 57  Opening Weekend Indonesia             4501 non-null   object \n",
      " 58  Opening Weekend Yemen                 4501 non-null   object \n",
      "dtypes: float64(3), int64(1), object(55)\n",
      "memory usage: 2.0+ MB\n"
     ]
    }
   ],
   "source": [
    "full_df.info()"
   ]
  },
  {
   "cell_type": "code",
   "execution_count": 64,
   "metadata": {
    "scrolled": true
   },
   "outputs": [
    {
     "name": "stdout",
     "output_type": "stream",
     "text": [
      "<class 'pandas.core.frame.DataFrame'>\n",
      "RangeIndex: 4501 entries, 0 to 4500\n",
      "Data columns (total 18 columns):\n",
      " #   Column                         Non-Null Count  Dtype  \n",
      "---  ------                         --------------  -----  \n",
      " 0   tconst                         4501 non-null   object \n",
      " 1   primary_title                  4501 non-null   object \n",
      " 2   original_title                 4501 non-null   object \n",
      " 3   start_year                     4501 non-null   int64  \n",
      " 4   runtime_minutes                4501 non-null   float64\n",
      " 5   genres                         4499 non-null   object \n",
      " 6   averagerating                  4501 non-null   float64\n",
      " 7   numvotes                       4501 non-null   float64\n",
      " 8   actor                          4101 non-null   object \n",
      " 9   actress                        3676 non-null   object \n",
      " 10  composer                       2611 non-null   object \n",
      " 11  director                       4244 non-null   object \n",
      " 12  editor                         1294 non-null   object \n",
      " 13  producer                       3691 non-null   object \n",
      " 14  writer                         2967 non-null   object \n",
      " 15  Budget                         4501 non-null   object \n",
      " 16  Opening Weekend United States  4501 non-null   object \n",
      " 17  Cumulative Worldwide Gross     4501 non-null   object \n",
      "dtypes: float64(3), int64(1), object(14)\n",
      "memory usage: 633.1+ KB\n"
     ]
    }
   ],
   "source": [
    "# Now I will drop columns 18 to the end, so I am left with just Budget, Opening Wkdn US, and Worldwide Gross \n",
    "full_df = full_df.iloc[:,0:18]\n",
    "full_df.info()"
   ]
  },
  {
   "cell_type": "code",
   "execution_count": 65,
   "metadata": {},
   "outputs": [
    {
     "data": {
      "text/plain": [
       "0                           3570\n",
       "$90,000,000                    2\n",
       "INR520,000,000                 2\n",
       "$44,328,624, 21 Aug 2017       1\n",
       "$522,236,223                   1\n",
       "                            ... \n",
       "$48,277,588                    1\n",
       "$269,920, 19 Mar 2017          1\n",
       "$125,186,461                   1\n",
       "$31,882,724, 06 Dec 2018       1\n",
       "$34,742,348, 10 Jan 2019       1\n",
       "Name: Cumulative Worldwide Gross, Length: 930, dtype: int64"
      ]
     },
     "execution_count": 65,
     "metadata": {},
     "output_type": "execute_result"
    }
   ],
   "source": [
    "full_df['Cumulative Worldwide Gross'].value_counts()"
   ]
  },
  {
   "cell_type": "code",
   "execution_count": 66,
   "metadata": {},
   "outputs": [],
   "source": [
    "# My primary measure of financial success will be via the 'Cumulative Worldwide Gross' column\n",
    "# so I will drop all rows where there is no measure for this value\n",
    "\n",
    "full_df = full_df[(full_df['Cumulative Worldwide Gross'] != 0)]"
   ]
  },
  {
   "cell_type": "code",
   "execution_count": 67,
   "metadata": {},
   "outputs": [
    {
     "name": "stdout",
     "output_type": "stream",
     "text": [
      "<class 'pandas.core.frame.DataFrame'>\n",
      "Int64Index: 931 entries, 1 to 4498\n",
      "Data columns (total 18 columns):\n",
      " #   Column                         Non-Null Count  Dtype  \n",
      "---  ------                         --------------  -----  \n",
      " 0   tconst                         931 non-null    object \n",
      " 1   primary_title                  931 non-null    object \n",
      " 2   original_title                 931 non-null    object \n",
      " 3   start_year                     931 non-null    int64  \n",
      " 4   runtime_minutes                931 non-null    float64\n",
      " 5   genres                         931 non-null    object \n",
      " 6   averagerating                  931 non-null    float64\n",
      " 7   numvotes                       931 non-null    float64\n",
      " 8   actor                          882 non-null    object \n",
      " 9   actress                        802 non-null    object \n",
      " 10  composer                       478 non-null    object \n",
      " 11  director                       898 non-null    object \n",
      " 12  editor                         165 non-null    object \n",
      " 13  producer                       777 non-null    object \n",
      " 14  writer                         737 non-null    object \n",
      " 15  Budget                         931 non-null    object \n",
      " 16  Opening Weekend United States  931 non-null    object \n",
      " 17  Cumulative Worldwide Gross     931 non-null    object \n",
      "dtypes: float64(3), int64(1), object(14)\n",
      "memory usage: 138.2+ KB\n"
     ]
    }
   ],
   "source": [
    "full_df.info()"
   ]
  },
  {
   "cell_type": "code",
   "execution_count": 68,
   "metadata": {},
   "outputs": [],
   "source": [
    "# rename the columns\n",
    "full_df.rename(columns = {'Budget':'budget', \n",
    "                          'Opening Weekend United States':'usa_opening_wknd', \n",
    "                          'Cumulative Worldwide Gross':'global_gross'}, inplace=True)"
   ]
  },
  {
   "cell_type": "code",
   "execution_count": 69,
   "metadata": {},
   "outputs": [
    {
     "data": {
      "text/plain": [
       "$90,000,000                    2\n",
       "INR520,000,000                 2\n",
       "$11,692,444, 27 Jan 2017       1\n",
       "$259,344,059                   1\n",
       "$5,900,000, 10 Feb 2017        1\n",
       "                              ..\n",
       "$183,887,723                   1\n",
       "$3,500,000, 26 Jan 2018        1\n",
       "$3,450,000, 23 Sep 2018        1\n",
       "INR130,900,000, 03 Sep 2019    1\n",
       "$96,881                        1\n",
       "Name: global_gross, Length: 929, dtype: int64"
      ]
     },
     "execution_count": 69,
     "metadata": {},
     "output_type": "execute_result"
    }
   ],
   "source": [
    "# It looked like some values in global_gross are not in USD, so I will try to find and drop those rows too\n",
    "# There also appear to be some items with a date included, so I will need to isolate just the dollar values\n",
    "full_df.global_gross.value_counts()"
   ]
  },
  {
   "cell_type": "code",
   "execution_count": 70,
   "metadata": {},
   "outputs": [],
   "source": [
    "# splitting items with dates included\n",
    "full_df['globalgross'] = full_df['global_gross'].map(lambda x: x.split(', '))"
   ]
  },
  {
   "cell_type": "code",
   "execution_count": 71,
   "metadata": {},
   "outputs": [
    {
     "data": {
      "text/plain": [
       "<bound method IndexOpsMixin.value_counts of 1       [$1,648,854,864, 04 Mar 2016]\n",
       "3                      [$404,852,543]\n",
       "5                      [$365,971,656]\n",
       "6                      [$821,763,408]\n",
       "7             [$494,123, 20 Aug 2017]\n",
       "                    ...              \n",
       "4475    [PHP600,000,000, 30 Jan 2019]\n",
       "4485                    [$94,951,615]\n",
       "4488    [PHP370,000,000, 13 Mar 2019]\n",
       "4491                   [$255,863,112]\n",
       "4498     [MYR25,280,000, 27 May 2019]\n",
       "Name: globalgross, Length: 931, dtype: object>"
      ]
     },
     "execution_count": 71,
     "metadata": {},
     "output_type": "execute_result"
    }
   ],
   "source": [
    "full_df.globalgross.value_counts"
   ]
  },
  {
   "cell_type": "code",
   "execution_count": 72,
   "metadata": {},
   "outputs": [],
   "source": [
    "# Any items that the split was applied to were turned into 2-item lists\n",
    "# I need to keep just the monetary value component of those items and drop the date\n",
    "\n",
    "globgross = []\n",
    "\n",
    "for i in full_df.globalgross:\n",
    "        globgross.append(str(i[0]))"
   ]
  },
  {
   "cell_type": "code",
   "execution_count": 73,
   "metadata": {},
   "outputs": [
    {
     "data": {
      "text/plain": [
       "True"
      ]
     },
     "execution_count": 73,
     "metadata": {},
     "output_type": "execute_result"
    }
   ],
   "source": [
    "len(full_df['global_gross']) == len(globgross)"
   ]
  },
  {
   "cell_type": "code",
   "execution_count": 74,
   "metadata": {},
   "outputs": [],
   "source": [
    "# now I will apply my cleaned column values within the globgross list to my full_df dataframe\n",
    "\n",
    "full_df['global_gross'] = globgross"
   ]
  },
  {
   "cell_type": "code",
   "execution_count": 75,
   "metadata": {},
   "outputs": [],
   "source": [
    "full_df = full_df.drop('globalgross', axis=1)"
   ]
  },
  {
   "cell_type": "code",
   "execution_count": 76,
   "metadata": {
    "scrolled": true
   },
   "outputs": [
    {
     "data": {
      "text/plain": [
       "INR200,000,000    4\n",
       "$3,500,000        3\n",
       "INR520,000,000    3\n",
       "$1,000,000        2\n",
       "$90,000,000       2\n",
       "                 ..\n",
       "CNY9,904,000      1\n",
       "$28,000,000       1\n",
       "$180,613,180      1\n",
       "$119,100,758      1\n",
       "$96,881           1\n",
       "Name: global_gross, Length: 919, dtype: int64"
      ]
     },
     "execution_count": 76,
     "metadata": {},
     "output_type": "execute_result"
    }
   ],
   "source": [
    "full_df['global_gross'].value_counts()"
   ]
  },
  {
   "cell_type": "code",
   "execution_count": 77,
   "metadata": {},
   "outputs": [],
   "source": [
    "# Using regex, I will filter for all rows that start with a non-alphanumeric character\n",
    "full_df = full_df[(full_df.global_gross.str.match('(\\W)')==True)]"
   ]
  },
  {
   "cell_type": "code",
   "execution_count": 78,
   "metadata": {},
   "outputs": [],
   "source": [
    "full_df.reset_index(inplace=True)"
   ]
  },
  {
   "cell_type": "code",
   "execution_count": 79,
   "metadata": {},
   "outputs": [
    {
     "name": "stdout",
     "output_type": "stream",
     "text": [
      "<class 'pandas.core.frame.DataFrame'>\n",
      "RangeIndex: 833 entries, 0 to 832\n",
      "Data columns (total 19 columns):\n",
      " #   Column            Non-Null Count  Dtype  \n",
      "---  ------            --------------  -----  \n",
      " 0   index             833 non-null    int64  \n",
      " 1   tconst            833 non-null    object \n",
      " 2   primary_title     833 non-null    object \n",
      " 3   original_title    833 non-null    object \n",
      " 4   start_year        833 non-null    int64  \n",
      " 5   runtime_minutes   833 non-null    float64\n",
      " 6   genres            833 non-null    object \n",
      " 7   averagerating     833 non-null    float64\n",
      " 8   numvotes          833 non-null    float64\n",
      " 9   actor             785 non-null    object \n",
      " 10  actress           716 non-null    object \n",
      " 11  composer          396 non-null    object \n",
      " 12  director          806 non-null    object \n",
      " 13  editor            122 non-null    object \n",
      " 14  producer          694 non-null    object \n",
      " 15  writer            675 non-null    object \n",
      " 16  budget            833 non-null    object \n",
      " 17  usa_opening_wknd  833 non-null    object \n",
      " 18  global_gross      833 non-null    object \n",
      "dtypes: float64(3), int64(2), object(14)\n",
      "memory usage: 123.8+ KB\n"
     ]
    }
   ],
   "source": [
    "full_df.info()"
   ]
  },
  {
   "cell_type": "code",
   "execution_count": 80,
   "metadata": {
    "scrolled": false
   },
   "outputs": [
    {
     "data": {
      "text/plain": [
       "$3,500,000      3\n",
       "$1,000,000      2\n",
       "$90,000,000     2\n",
       "$20,000         2\n",
       "$10,200,000     1\n",
       "               ..\n",
       "$119,100,758    1\n",
       "$544,068,574    1\n",
       "$473,990,832    1\n",
       "$3,700,000      1\n",
       "$96,881         1\n",
       "Name: global_gross, Length: 828, dtype: int64"
      ]
     },
     "execution_count": 80,
     "metadata": {},
     "output_type": "execute_result"
    }
   ],
   "source": [
    "full_df.global_gross.value_counts()"
   ]
  },
  {
   "cell_type": "code",
   "execution_count": 81,
   "metadata": {},
   "outputs": [],
   "source": [
    "full_df.to_csv('full_df_3.5_883rows')"
   ]
  },
  {
   "cell_type": "markdown",
   "metadata": {},
   "source": [
    "## IMDbPY query: Add'l metadata\n",
    "\n",
    "### Performing the query"
   ]
  },
  {
   "cell_type": "code",
   "execution_count": 82,
   "metadata": {},
   "outputs": [],
   "source": [
    "# Per section 3.1, I will pull the following additional metadata and rating features using IMDbPY\n",
    "\n",
    "# 1. MOVIE RATING: IMDbPY 'main', 'certificates'\n",
    "# 2. PRODUCTION STUDIO: IMDbPY 'main', 'production companies'\n",
    "# 3. VOTING DEMOGRAPHICS: 'vote details', 'demographics'"
   ]
  },
  {
   "cell_type": "code",
   "execution_count": 83,
   "metadata": {
    "scrolled": true
   },
   "outputs": [],
   "source": [
    "# SEE OTHER PROJECT FILE"
   ]
  },
  {
   "cell_type": "markdown",
   "metadata": {},
   "source": [
    "### Joining & cleaning: Ratings"
   ]
  },
  {
   "cell_type": "code",
   "execution_count": 84,
   "metadata": {},
   "outputs": [],
   "source": [
    "with open(r\"imdb_ratings.json\", \"r\") as read_file:\n",
    "    ratings_json = json.load(read_file)"
   ]
  },
  {
   "cell_type": "code",
   "execution_count": 85,
   "metadata": {},
   "outputs": [
    {
     "data": {
      "text/plain": [
       "['Argentina:13::(with warning)',\n",
       " 'Australia:M',\n",
       " 'Austria:12',\n",
       " 'Brazil:12',\n",
       " 'Canada:PG::(British Columbia)',\n",
       " 'Canada:PG::(tv rating)',\n",
       " 'Chile:TE+7',\n",
       " 'Colombia:T',\n",
       " 'Denmark:11',\n",
       " 'Finland:K-12',\n",
       " 'France:Tous publics::(with warning)',\n",
       " 'Germany:12',\n",
       " 'Greece:K-13',\n",
       " 'Hong Kong:IIA',\n",
       " 'Hungary:12',\n",
       " 'Hungary:16',\n",
       " 'Iceland:12',\n",
       " 'India:UA',\n",
       " 'Ireland:12A',\n",
       " 'Ireland:12',\n",
       " 'Italy:T',\n",
       " 'Japan:G',\n",
       " 'Lithuania:N-13',\n",
       " 'Malaysia:P13',\n",
       " 'Maldives:15+',\n",
       " 'Mexico:B',\n",
       " 'Netherlands:12',\n",
       " 'New Zealand:M',\n",
       " 'Norway:12',\n",
       " 'Norway:12::(cinema rating)',\n",
       " 'Philippines:PG-13',\n",
       " 'Poland:12',\n",
       " 'Portugal:M/12',\n",
       " 'Russia:12+',\n",
       " 'Russia:16+::(DVD rating)',\n",
       " 'Singapore:PG13',\n",
       " 'South Africa:10-12',\n",
       " 'South Korea:12',\n",
       " 'Spain:12',\n",
       " 'Spain:16::(Movistar+)',\n",
       " 'Sweden:11',\n",
       " 'Switzerland:12',\n",
       " 'Thailand:G',\n",
       " 'Thailand:13::(DVD rating)',\n",
       " 'United Kingdom:12A',\n",
       " 'United Kingdom:12',\n",
       " 'United States:TV-14::(LV)',\n",
       " 'United States:PG-13',\n",
       " 'Vietnam:P::(2015, self-applied)']"
      ]
     },
     "execution_count": 85,
     "metadata": {},
     "output_type": "execute_result"
    }
   ],
   "source": [
    "# Quick exploration of the file imdb_ratings.json\n",
    "ratings_json[0]"
   ]
  },
  {
   "cell_type": "code",
   "execution_count": 86,
   "metadata": {},
   "outputs": [
    {
     "data": {
      "text/plain": [
       "'Argentina:13::(with warning)'"
      ]
     },
     "execution_count": 86,
     "metadata": {},
     "output_type": "execute_result"
    }
   ],
   "source": [
    "ratings_json[0][0]"
   ]
  },
  {
   "cell_type": "code",
   "execution_count": 87,
   "metadata": {},
   "outputs": [],
   "source": [
    "# Code that iterates through imdb_rating, finds and extracts the USA rating for each film\n",
    "# Some films have two ratings listed for the USA, so code needs to associate both of these with the same row #\n",
    "\n",
    "countries = []\n",
    "ratings = []\n",
    "rownums = []\n",
    "\n",
    "for x, i in enumerate(ratings_json):\n",
    "    if i == 0:\n",
    "        continue\n",
    "    else:\n",
    "        for item in i:\n",
    "            country = str(item).split(':')[0]\n",
    "            if country != \"United States\":\n",
    "                continue\n",
    "            else:\n",
    "                countries.append(item.split(\":\")[0])\n",
    "                ratings.append(item.split(\":\")[1])\n",
    "            rownums.append(x)"
   ]
  },
  {
   "cell_type": "code",
   "execution_count": 88,
   "metadata": {},
   "outputs": [],
   "source": [
    "# Zipping row numbers and ratings together, so each rating is associated with the correct row in full_df\n",
    "ratingdata = list(zip(rownums, ratings))"
   ]
  },
  {
   "cell_type": "code",
   "execution_count": 89,
   "metadata": {},
   "outputs": [
    {
     "data": {
      "text/plain": [
       "[(0, 'TV-14'),\n",
       " (0, 'PG-13'),\n",
       " (1, 'PG-13'),\n",
       " (2, 'PG-13'),\n",
       " (3, 'PG-13'),\n",
       " (4, 'R'),\n",
       " (5, 'PG-13'),\n",
       " (6, 'PG-13'),\n",
       " (7, 'R'),\n",
       " (8, 'PG-13')]"
      ]
     },
     "execution_count": 89,
     "metadata": {},
     "output_type": "execute_result"
    }
   ],
   "source": [
    "ratingdata[:10]"
   ]
  },
  {
   "cell_type": "code",
   "execution_count": 90,
   "metadata": {},
   "outputs": [],
   "source": [
    "# Remove duplicate ratings for any film that had both TV and movie ratings listed\n",
    "\n",
    "movieratings = []\n",
    "for item in ratingdata:\n",
    "    if item[1].split('-')[0] == 'TV':\n",
    "        continue\n",
    "    else:\n",
    "        movieratings.append(item)"
   ]
  },
  {
   "cell_type": "code",
   "execution_count": 91,
   "metadata": {},
   "outputs": [],
   "source": [
    "# Split row number and rating into their own separate lists, in prep for conversion to dataframe\n",
    "row = []\n",
    "rating = []\n",
    "\n",
    "for i in movieratings:\n",
    "    row.append(i[0])\n",
    "    rating.append(i[1])\n",
    "\n",
    "seriesrow = pd.Series(row)\n",
    "seriesratings = pd.Series(rating)"
   ]
  },
  {
   "cell_type": "code",
   "execution_count": 92,
   "metadata": {},
   "outputs": [],
   "source": [
    "#convert to dictionary, for two column dataframe\n",
    "ratingdict = {'rownum':row, 'movrating':rating}"
   ]
  },
  {
   "cell_type": "code",
   "execution_count": 93,
   "metadata": {},
   "outputs": [],
   "source": [
    "df_movieratings = pd.DataFrame(ratingdict)"
   ]
  },
  {
   "cell_type": "code",
   "execution_count": 94,
   "metadata": {
    "scrolled": false
   },
   "outputs": [
    {
     "name": "stdout",
     "output_type": "stream",
     "text": [
      "<class 'pandas.core.frame.DataFrame'>\n",
      "RangeIndex: 731 entries, 0 to 730\n",
      "Data columns (total 2 columns):\n",
      " #   Column     Non-Null Count  Dtype \n",
      "---  ------     --------------  ----- \n",
      " 0   rownum     731 non-null    int64 \n",
      " 1   movrating  731 non-null    object\n",
      "dtypes: int64(1), object(1)\n",
      "memory usage: 11.5+ KB\n"
     ]
    }
   ],
   "source": [
    "df_movieratings.info()"
   ]
  },
  {
   "cell_type": "code",
   "execution_count": 95,
   "metadata": {},
   "outputs": [
    {
     "data": {
      "text/html": [
       "<div>\n",
       "<style scoped>\n",
       "    .dataframe tbody tr th:only-of-type {\n",
       "        vertical-align: middle;\n",
       "    }\n",
       "\n",
       "    .dataframe tbody tr th {\n",
       "        vertical-align: top;\n",
       "    }\n",
       "\n",
       "    .dataframe thead th {\n",
       "        text-align: right;\n",
       "    }\n",
       "</style>\n",
       "<table border=\"1\" class=\"dataframe\">\n",
       "  <thead>\n",
       "    <tr style=\"text-align: right;\">\n",
       "      <th></th>\n",
       "      <th>rownum</th>\n",
       "      <th>movrating</th>\n",
       "    </tr>\n",
       "  </thead>\n",
       "  <tbody>\n",
       "    <tr>\n",
       "      <th>726</th>\n",
       "      <td>823</td>\n",
       "      <td>R</td>\n",
       "    </tr>\n",
       "    <tr>\n",
       "      <th>727</th>\n",
       "      <td>825</td>\n",
       "      <td>G</td>\n",
       "    </tr>\n",
       "    <tr>\n",
       "      <th>728</th>\n",
       "      <td>826</td>\n",
       "      <td>Not Rated</td>\n",
       "    </tr>\n",
       "    <tr>\n",
       "      <th>729</th>\n",
       "      <td>828</td>\n",
       "      <td>PG</td>\n",
       "    </tr>\n",
       "    <tr>\n",
       "      <th>730</th>\n",
       "      <td>829</td>\n",
       "      <td>Unrated</td>\n",
       "    </tr>\n",
       "  </tbody>\n",
       "</table>\n",
       "</div>"
      ],
      "text/plain": [
       "     rownum  movrating\n",
       "726     823          R\n",
       "727     825          G\n",
       "728     826  Not Rated\n",
       "729     828         PG\n",
       "730     829    Unrated"
      ]
     },
     "execution_count": 95,
     "metadata": {},
     "output_type": "execute_result"
    }
   ],
   "source": [
    "df_movieratings.tail()"
   ]
  },
  {
   "cell_type": "code",
   "execution_count": 96,
   "metadata": {},
   "outputs": [
    {
     "data": {
      "text/plain": [
       "11"
      ]
     },
     "execution_count": 96,
     "metadata": {},
     "output_type": "execute_result"
    }
   ],
   "source": [
    "df_movieratings['rownum'].duplicated().sum()"
   ]
  },
  {
   "cell_type": "code",
   "execution_count": 97,
   "metadata": {},
   "outputs": [
    {
     "data": {
      "text/plain": [
       "720"
      ]
     },
     "execution_count": 97,
     "metadata": {},
     "output_type": "execute_result"
    }
   ],
   "source": [
    "len(df_movieratings[~df_movieratings['rownum'].duplicated()])"
   ]
  },
  {
   "cell_type": "code",
   "execution_count": 98,
   "metadata": {},
   "outputs": [],
   "source": [
    "df_movieratings = df_movieratings[~df_movieratings['rownum'].duplicated()]"
   ]
  },
  {
   "cell_type": "code",
   "execution_count": 99,
   "metadata": {},
   "outputs": [
    {
     "data": {
      "text/plain": [
       "829    1\n",
       "251    1\n",
       "249    1\n",
       "248    1\n",
       "247    1\n",
       "      ..\n",
       "508    1\n",
       "507    1\n",
       "506    1\n",
       "505    1\n",
       "0      1\n",
       "Name: rownum, Length: 720, dtype: int64"
      ]
     },
     "execution_count": 99,
     "metadata": {},
     "output_type": "execute_result"
    }
   ],
   "source": [
    "df_movieratings['rownum'].value_counts()"
   ]
  },
  {
   "cell_type": "code",
   "execution_count": 100,
   "metadata": {},
   "outputs": [
    {
     "data": {
      "text/html": [
       "<div>\n",
       "<style scoped>\n",
       "    .dataframe tbody tr th:only-of-type {\n",
       "        vertical-align: middle;\n",
       "    }\n",
       "\n",
       "    .dataframe tbody tr th {\n",
       "        vertical-align: top;\n",
       "    }\n",
       "\n",
       "    .dataframe thead th {\n",
       "        text-align: right;\n",
       "    }\n",
       "</style>\n",
       "<table border=\"1\" class=\"dataframe\">\n",
       "  <thead>\n",
       "    <tr style=\"text-align: right;\">\n",
       "      <th></th>\n",
       "      <th>index</th>\n",
       "      <th>tconst</th>\n",
       "      <th>primary_title</th>\n",
       "      <th>original_title</th>\n",
       "      <th>start_year</th>\n",
       "      <th>runtime_minutes</th>\n",
       "      <th>genres</th>\n",
       "      <th>averagerating</th>\n",
       "      <th>numvotes</th>\n",
       "      <th>actor</th>\n",
       "      <th>actress</th>\n",
       "      <th>composer</th>\n",
       "      <th>director</th>\n",
       "      <th>editor</th>\n",
       "      <th>producer</th>\n",
       "      <th>writer</th>\n",
       "      <th>budget</th>\n",
       "      <th>usa_opening_wknd</th>\n",
       "      <th>global_gross</th>\n",
       "    </tr>\n",
       "  </thead>\n",
       "  <tbody>\n",
       "    <tr>\n",
       "      <th>828</th>\n",
       "      <td>4441</td>\n",
       "      <td>tt8969332</td>\n",
       "      <td>The Biggest Little Farm</td>\n",
       "      <td>The Biggest Little Farm</td>\n",
       "      <td>2018</td>\n",
       "      <td>91.0</td>\n",
       "      <td>Documentary</td>\n",
       "      <td>8.0</td>\n",
       "      <td>421.0</td>\n",
       "      <td>nm10726590</td>\n",
       "      <td>NaN</td>\n",
       "      <td>nm0063618</td>\n",
       "      <td>NaN</td>\n",
       "      <td>NaN</td>\n",
       "      <td>nm3537480</td>\n",
       "      <td>nm0598531</td>\n",
       "      <td>0</td>\n",
       "      <td>$110,492, 12 May 2019</td>\n",
       "      <td>$5,293,304</td>\n",
       "    </tr>\n",
       "    <tr>\n",
       "      <th>829</th>\n",
       "      <td>4442</td>\n",
       "      <td>tt8991268</td>\n",
       "      <td>Honeyland</td>\n",
       "      <td>Honeyland</td>\n",
       "      <td>2019</td>\n",
       "      <td>87.0</td>\n",
       "      <td>Documentary</td>\n",
       "      <td>8.5</td>\n",
       "      <td>158.0</td>\n",
       "      <td>NaN</td>\n",
       "      <td>NaN</td>\n",
       "      <td>nm3334929</td>\n",
       "      <td>nm9393813, nm10118100</td>\n",
       "      <td>NaN</td>\n",
       "      <td>nm1389493</td>\n",
       "      <td>NaN</td>\n",
       "      <td>0</td>\n",
       "      <td>0</td>\n",
       "      <td>$1,140,879</td>\n",
       "    </tr>\n",
       "    <tr>\n",
       "      <th>830</th>\n",
       "      <td>4456</td>\n",
       "      <td>tt9081562</td>\n",
       "      <td>More Than Blue</td>\n",
       "      <td>Bi bei shang geng bei shang de gu shi</td>\n",
       "      <td>2018</td>\n",
       "      <td>105.0</td>\n",
       "      <td>Romance</td>\n",
       "      <td>5.6</td>\n",
       "      <td>566.0</td>\n",
       "      <td>nm6630432, nm3214105</td>\n",
       "      <td>nm2442121, nm5397122</td>\n",
       "      <td>nm3871161, nm3928207</td>\n",
       "      <td>nm4341096</td>\n",
       "      <td>NaN</td>\n",
       "      <td>nm7599343</td>\n",
       "      <td>nm7250425</td>\n",
       "      <td>0</td>\n",
       "      <td>0</td>\n",
       "      <td>$153,000,000</td>\n",
       "    </tr>\n",
       "    <tr>\n",
       "      <th>831</th>\n",
       "      <td>4485</td>\n",
       "      <td>tt9408490</td>\n",
       "      <td>Kill Mobile</td>\n",
       "      <td>Shoujikuang xiang</td>\n",
       "      <td>2018</td>\n",
       "      <td>90.0</td>\n",
       "      <td>Drama</td>\n",
       "      <td>5.7</td>\n",
       "      <td>198.0</td>\n",
       "      <td>nm1291827, nm4596259</td>\n",
       "      <td>nm4454684, nm2356251</td>\n",
       "      <td>NaN</td>\n",
       "      <td>nm6785661</td>\n",
       "      <td>NaN</td>\n",
       "      <td>NaN</td>\n",
       "      <td>nm2601560, nm3798121, nm0182499, nm0002645, nm...</td>\n",
       "      <td>0</td>\n",
       "      <td>0</td>\n",
       "      <td>$94,951,615</td>\n",
       "    </tr>\n",
       "    <tr>\n",
       "      <th>832</th>\n",
       "      <td>4491</td>\n",
       "      <td>tt9597190</td>\n",
       "      <td>Pegasus</td>\n",
       "      <td>Fei chi ren sheng</td>\n",
       "      <td>2019</td>\n",
       "      <td>98.0</td>\n",
       "      <td>Comedy,Sport</td>\n",
       "      <td>6.4</td>\n",
       "      <td>817.0</td>\n",
       "      <td>nm7613067, nm8361677, nm7613069, nm8288748</td>\n",
       "      <td>NaN</td>\n",
       "      <td>nm0150989</td>\n",
       "      <td>nm3954274</td>\n",
       "      <td>NaN</td>\n",
       "      <td>nm10464217, nm7815808, nm7815809, nm10464218</td>\n",
       "      <td>NaN</td>\n",
       "      <td>0</td>\n",
       "      <td>0</td>\n",
       "      <td>$255,863,112</td>\n",
       "    </tr>\n",
       "  </tbody>\n",
       "</table>\n",
       "</div>"
      ],
      "text/plain": [
       "     index     tconst            primary_title  \\\n",
       "828   4441  tt8969332  The Biggest Little Farm   \n",
       "829   4442  tt8991268                Honeyland   \n",
       "830   4456  tt9081562           More Than Blue   \n",
       "831   4485  tt9408490              Kill Mobile   \n",
       "832   4491  tt9597190                  Pegasus   \n",
       "\n",
       "                            original_title  start_year  runtime_minutes  \\\n",
       "828                The Biggest Little Farm        2018             91.0   \n",
       "829                              Honeyland        2019             87.0   \n",
       "830  Bi bei shang geng bei shang de gu shi        2018            105.0   \n",
       "831                      Shoujikuang xiang        2018             90.0   \n",
       "832                      Fei chi ren sheng        2019             98.0   \n",
       "\n",
       "           genres  averagerating  numvotes  \\\n",
       "828   Documentary            8.0     421.0   \n",
       "829   Documentary            8.5     158.0   \n",
       "830       Romance            5.6     566.0   \n",
       "831         Drama            5.7     198.0   \n",
       "832  Comedy,Sport            6.4     817.0   \n",
       "\n",
       "                                          actor               actress  \\\n",
       "828                                  nm10726590                   NaN   \n",
       "829                                         NaN                   NaN   \n",
       "830                        nm6630432, nm3214105  nm2442121, nm5397122   \n",
       "831                        nm1291827, nm4596259  nm4454684, nm2356251   \n",
       "832  nm7613067, nm8361677, nm7613069, nm8288748                   NaN   \n",
       "\n",
       "                 composer               director editor  \\\n",
       "828             nm0063618                    NaN    NaN   \n",
       "829             nm3334929  nm9393813, nm10118100    NaN   \n",
       "830  nm3871161, nm3928207              nm4341096    NaN   \n",
       "831                   NaN              nm6785661    NaN   \n",
       "832             nm0150989              nm3954274    NaN   \n",
       "\n",
       "                                         producer  \\\n",
       "828                                     nm3537480   \n",
       "829                                     nm1389493   \n",
       "830                                     nm7599343   \n",
       "831                                           NaN   \n",
       "832  nm10464217, nm7815808, nm7815809, nm10464218   \n",
       "\n",
       "                                                writer budget  \\\n",
       "828                                          nm0598531      0   \n",
       "829                                                NaN      0   \n",
       "830                                          nm7250425      0   \n",
       "831  nm2601560, nm3798121, nm0182499, nm0002645, nm...      0   \n",
       "832                                                NaN      0   \n",
       "\n",
       "          usa_opening_wknd  global_gross  \n",
       "828  $110,492, 12 May 2019    $5,293,304  \n",
       "829                      0    $1,140,879  \n",
       "830                      0  $153,000,000  \n",
       "831                      0   $94,951,615  \n",
       "832                      0  $255,863,112  "
      ]
     },
     "execution_count": 100,
     "metadata": {},
     "output_type": "execute_result"
    }
   ],
   "source": [
    "full_df.tail()"
   ]
  },
  {
   "cell_type": "code",
   "execution_count": 101,
   "metadata": {},
   "outputs": [],
   "source": [
    "# Replacing index column with a new index column from 0 to 832, in order to join in the ratings data\n",
    "full_df = full_df.drop('index', axis=1)\n",
    "full_df = full_df.reset_index()"
   ]
  },
  {
   "cell_type": "code",
   "execution_count": 102,
   "metadata": {},
   "outputs": [
    {
     "data": {
      "text/html": [
       "<div>\n",
       "<style scoped>\n",
       "    .dataframe tbody tr th:only-of-type {\n",
       "        vertical-align: middle;\n",
       "    }\n",
       "\n",
       "    .dataframe tbody tr th {\n",
       "        vertical-align: top;\n",
       "    }\n",
       "\n",
       "    .dataframe thead th {\n",
       "        text-align: right;\n",
       "    }\n",
       "</style>\n",
       "<table border=\"1\" class=\"dataframe\">\n",
       "  <thead>\n",
       "    <tr style=\"text-align: right;\">\n",
       "      <th></th>\n",
       "      <th>index</th>\n",
       "      <th>tconst</th>\n",
       "      <th>primary_title</th>\n",
       "      <th>original_title</th>\n",
       "      <th>start_year</th>\n",
       "      <th>runtime_minutes</th>\n",
       "      <th>genres</th>\n",
       "      <th>averagerating</th>\n",
       "      <th>numvotes</th>\n",
       "      <th>actor</th>\n",
       "      <th>actress</th>\n",
       "      <th>composer</th>\n",
       "      <th>director</th>\n",
       "      <th>editor</th>\n",
       "      <th>producer</th>\n",
       "      <th>writer</th>\n",
       "      <th>budget</th>\n",
       "      <th>usa_opening_wknd</th>\n",
       "      <th>global_gross</th>\n",
       "    </tr>\n",
       "  </thead>\n",
       "  <tbody>\n",
       "    <tr>\n",
       "      <th>828</th>\n",
       "      <td>828</td>\n",
       "      <td>tt8969332</td>\n",
       "      <td>The Biggest Little Farm</td>\n",
       "      <td>The Biggest Little Farm</td>\n",
       "      <td>2018</td>\n",
       "      <td>91.0</td>\n",
       "      <td>Documentary</td>\n",
       "      <td>8.0</td>\n",
       "      <td>421.0</td>\n",
       "      <td>nm10726590</td>\n",
       "      <td>NaN</td>\n",
       "      <td>nm0063618</td>\n",
       "      <td>NaN</td>\n",
       "      <td>NaN</td>\n",
       "      <td>nm3537480</td>\n",
       "      <td>nm0598531</td>\n",
       "      <td>0</td>\n",
       "      <td>$110,492, 12 May 2019</td>\n",
       "      <td>$5,293,304</td>\n",
       "    </tr>\n",
       "    <tr>\n",
       "      <th>829</th>\n",
       "      <td>829</td>\n",
       "      <td>tt8991268</td>\n",
       "      <td>Honeyland</td>\n",
       "      <td>Honeyland</td>\n",
       "      <td>2019</td>\n",
       "      <td>87.0</td>\n",
       "      <td>Documentary</td>\n",
       "      <td>8.5</td>\n",
       "      <td>158.0</td>\n",
       "      <td>NaN</td>\n",
       "      <td>NaN</td>\n",
       "      <td>nm3334929</td>\n",
       "      <td>nm9393813, nm10118100</td>\n",
       "      <td>NaN</td>\n",
       "      <td>nm1389493</td>\n",
       "      <td>NaN</td>\n",
       "      <td>0</td>\n",
       "      <td>0</td>\n",
       "      <td>$1,140,879</td>\n",
       "    </tr>\n",
       "    <tr>\n",
       "      <th>830</th>\n",
       "      <td>830</td>\n",
       "      <td>tt9081562</td>\n",
       "      <td>More Than Blue</td>\n",
       "      <td>Bi bei shang geng bei shang de gu shi</td>\n",
       "      <td>2018</td>\n",
       "      <td>105.0</td>\n",
       "      <td>Romance</td>\n",
       "      <td>5.6</td>\n",
       "      <td>566.0</td>\n",
       "      <td>nm6630432, nm3214105</td>\n",
       "      <td>nm2442121, nm5397122</td>\n",
       "      <td>nm3871161, nm3928207</td>\n",
       "      <td>nm4341096</td>\n",
       "      <td>NaN</td>\n",
       "      <td>nm7599343</td>\n",
       "      <td>nm7250425</td>\n",
       "      <td>0</td>\n",
       "      <td>0</td>\n",
       "      <td>$153,000,000</td>\n",
       "    </tr>\n",
       "    <tr>\n",
       "      <th>831</th>\n",
       "      <td>831</td>\n",
       "      <td>tt9408490</td>\n",
       "      <td>Kill Mobile</td>\n",
       "      <td>Shoujikuang xiang</td>\n",
       "      <td>2018</td>\n",
       "      <td>90.0</td>\n",
       "      <td>Drama</td>\n",
       "      <td>5.7</td>\n",
       "      <td>198.0</td>\n",
       "      <td>nm1291827, nm4596259</td>\n",
       "      <td>nm4454684, nm2356251</td>\n",
       "      <td>NaN</td>\n",
       "      <td>nm6785661</td>\n",
       "      <td>NaN</td>\n",
       "      <td>NaN</td>\n",
       "      <td>nm2601560, nm3798121, nm0182499, nm0002645, nm...</td>\n",
       "      <td>0</td>\n",
       "      <td>0</td>\n",
       "      <td>$94,951,615</td>\n",
       "    </tr>\n",
       "    <tr>\n",
       "      <th>832</th>\n",
       "      <td>832</td>\n",
       "      <td>tt9597190</td>\n",
       "      <td>Pegasus</td>\n",
       "      <td>Fei chi ren sheng</td>\n",
       "      <td>2019</td>\n",
       "      <td>98.0</td>\n",
       "      <td>Comedy,Sport</td>\n",
       "      <td>6.4</td>\n",
       "      <td>817.0</td>\n",
       "      <td>nm7613067, nm8361677, nm7613069, nm8288748</td>\n",
       "      <td>NaN</td>\n",
       "      <td>nm0150989</td>\n",
       "      <td>nm3954274</td>\n",
       "      <td>NaN</td>\n",
       "      <td>nm10464217, nm7815808, nm7815809, nm10464218</td>\n",
       "      <td>NaN</td>\n",
       "      <td>0</td>\n",
       "      <td>0</td>\n",
       "      <td>$255,863,112</td>\n",
       "    </tr>\n",
       "  </tbody>\n",
       "</table>\n",
       "</div>"
      ],
      "text/plain": [
       "     index     tconst            primary_title  \\\n",
       "828    828  tt8969332  The Biggest Little Farm   \n",
       "829    829  tt8991268                Honeyland   \n",
       "830    830  tt9081562           More Than Blue   \n",
       "831    831  tt9408490              Kill Mobile   \n",
       "832    832  tt9597190                  Pegasus   \n",
       "\n",
       "                            original_title  start_year  runtime_minutes  \\\n",
       "828                The Biggest Little Farm        2018             91.0   \n",
       "829                              Honeyland        2019             87.0   \n",
       "830  Bi bei shang geng bei shang de gu shi        2018            105.0   \n",
       "831                      Shoujikuang xiang        2018             90.0   \n",
       "832                      Fei chi ren sheng        2019             98.0   \n",
       "\n",
       "           genres  averagerating  numvotes  \\\n",
       "828   Documentary            8.0     421.0   \n",
       "829   Documentary            8.5     158.0   \n",
       "830       Romance            5.6     566.0   \n",
       "831         Drama            5.7     198.0   \n",
       "832  Comedy,Sport            6.4     817.0   \n",
       "\n",
       "                                          actor               actress  \\\n",
       "828                                  nm10726590                   NaN   \n",
       "829                                         NaN                   NaN   \n",
       "830                        nm6630432, nm3214105  nm2442121, nm5397122   \n",
       "831                        nm1291827, nm4596259  nm4454684, nm2356251   \n",
       "832  nm7613067, nm8361677, nm7613069, nm8288748                   NaN   \n",
       "\n",
       "                 composer               director editor  \\\n",
       "828             nm0063618                    NaN    NaN   \n",
       "829             nm3334929  nm9393813, nm10118100    NaN   \n",
       "830  nm3871161, nm3928207              nm4341096    NaN   \n",
       "831                   NaN              nm6785661    NaN   \n",
       "832             nm0150989              nm3954274    NaN   \n",
       "\n",
       "                                         producer  \\\n",
       "828                                     nm3537480   \n",
       "829                                     nm1389493   \n",
       "830                                     nm7599343   \n",
       "831                                           NaN   \n",
       "832  nm10464217, nm7815808, nm7815809, nm10464218   \n",
       "\n",
       "                                                writer budget  \\\n",
       "828                                          nm0598531      0   \n",
       "829                                                NaN      0   \n",
       "830                                          nm7250425      0   \n",
       "831  nm2601560, nm3798121, nm0182499, nm0002645, nm...      0   \n",
       "832                                                NaN      0   \n",
       "\n",
       "          usa_opening_wknd  global_gross  \n",
       "828  $110,492, 12 May 2019    $5,293,304  \n",
       "829                      0    $1,140,879  \n",
       "830                      0  $153,000,000  \n",
       "831                      0   $94,951,615  \n",
       "832                      0  $255,863,112  "
      ]
     },
     "execution_count": 102,
     "metadata": {},
     "output_type": "execute_result"
    }
   ],
   "source": [
    "full_df.tail()"
   ]
  },
  {
   "cell_type": "code",
   "execution_count": 103,
   "metadata": {},
   "outputs": [],
   "source": [
    "full_df = full_df.merge(df_movieratings, left_on='index', right_on='rownum', how='left')"
   ]
  },
  {
   "cell_type": "code",
   "execution_count": 104,
   "metadata": {},
   "outputs": [
    {
     "data": {
      "text/html": [
       "<div>\n",
       "<style scoped>\n",
       "    .dataframe tbody tr th:only-of-type {\n",
       "        vertical-align: middle;\n",
       "    }\n",
       "\n",
       "    .dataframe tbody tr th {\n",
       "        vertical-align: top;\n",
       "    }\n",
       "\n",
       "    .dataframe thead th {\n",
       "        text-align: right;\n",
       "    }\n",
       "</style>\n",
       "<table border=\"1\" class=\"dataframe\">\n",
       "  <thead>\n",
       "    <tr style=\"text-align: right;\">\n",
       "      <th></th>\n",
       "      <th>index</th>\n",
       "      <th>tconst</th>\n",
       "      <th>primary_title</th>\n",
       "      <th>original_title</th>\n",
       "      <th>start_year</th>\n",
       "      <th>runtime_minutes</th>\n",
       "      <th>genres</th>\n",
       "      <th>averagerating</th>\n",
       "      <th>numvotes</th>\n",
       "      <th>actor</th>\n",
       "      <th>...</th>\n",
       "      <th>composer</th>\n",
       "      <th>director</th>\n",
       "      <th>editor</th>\n",
       "      <th>producer</th>\n",
       "      <th>writer</th>\n",
       "      <th>budget</th>\n",
       "      <th>usa_opening_wknd</th>\n",
       "      <th>global_gross</th>\n",
       "      <th>rownum</th>\n",
       "      <th>movrating</th>\n",
       "    </tr>\n",
       "  </thead>\n",
       "  <tbody>\n",
       "    <tr>\n",
       "      <th>828</th>\n",
       "      <td>828</td>\n",
       "      <td>tt8969332</td>\n",
       "      <td>The Biggest Little Farm</td>\n",
       "      <td>The Biggest Little Farm</td>\n",
       "      <td>2018</td>\n",
       "      <td>91.0</td>\n",
       "      <td>Documentary</td>\n",
       "      <td>8.0</td>\n",
       "      <td>421.0</td>\n",
       "      <td>nm10726590</td>\n",
       "      <td>...</td>\n",
       "      <td>nm0063618</td>\n",
       "      <td>NaN</td>\n",
       "      <td>NaN</td>\n",
       "      <td>nm3537480</td>\n",
       "      <td>nm0598531</td>\n",
       "      <td>0</td>\n",
       "      <td>$110,492, 12 May 2019</td>\n",
       "      <td>$5,293,304</td>\n",
       "      <td>828.0</td>\n",
       "      <td>PG</td>\n",
       "    </tr>\n",
       "    <tr>\n",
       "      <th>829</th>\n",
       "      <td>829</td>\n",
       "      <td>tt8991268</td>\n",
       "      <td>Honeyland</td>\n",
       "      <td>Honeyland</td>\n",
       "      <td>2019</td>\n",
       "      <td>87.0</td>\n",
       "      <td>Documentary</td>\n",
       "      <td>8.5</td>\n",
       "      <td>158.0</td>\n",
       "      <td>NaN</td>\n",
       "      <td>...</td>\n",
       "      <td>nm3334929</td>\n",
       "      <td>nm9393813, nm10118100</td>\n",
       "      <td>NaN</td>\n",
       "      <td>nm1389493</td>\n",
       "      <td>NaN</td>\n",
       "      <td>0</td>\n",
       "      <td>0</td>\n",
       "      <td>$1,140,879</td>\n",
       "      <td>829.0</td>\n",
       "      <td>Unrated</td>\n",
       "    </tr>\n",
       "    <tr>\n",
       "      <th>830</th>\n",
       "      <td>830</td>\n",
       "      <td>tt9081562</td>\n",
       "      <td>More Than Blue</td>\n",
       "      <td>Bi bei shang geng bei shang de gu shi</td>\n",
       "      <td>2018</td>\n",
       "      <td>105.0</td>\n",
       "      <td>Romance</td>\n",
       "      <td>5.6</td>\n",
       "      <td>566.0</td>\n",
       "      <td>nm6630432, nm3214105</td>\n",
       "      <td>...</td>\n",
       "      <td>nm3871161, nm3928207</td>\n",
       "      <td>nm4341096</td>\n",
       "      <td>NaN</td>\n",
       "      <td>nm7599343</td>\n",
       "      <td>nm7250425</td>\n",
       "      <td>0</td>\n",
       "      <td>0</td>\n",
       "      <td>$153,000,000</td>\n",
       "      <td>NaN</td>\n",
       "      <td>NaN</td>\n",
       "    </tr>\n",
       "    <tr>\n",
       "      <th>831</th>\n",
       "      <td>831</td>\n",
       "      <td>tt9408490</td>\n",
       "      <td>Kill Mobile</td>\n",
       "      <td>Shoujikuang xiang</td>\n",
       "      <td>2018</td>\n",
       "      <td>90.0</td>\n",
       "      <td>Drama</td>\n",
       "      <td>5.7</td>\n",
       "      <td>198.0</td>\n",
       "      <td>nm1291827, nm4596259</td>\n",
       "      <td>...</td>\n",
       "      <td>NaN</td>\n",
       "      <td>nm6785661</td>\n",
       "      <td>NaN</td>\n",
       "      <td>NaN</td>\n",
       "      <td>nm2601560, nm3798121, nm0182499, nm0002645, nm...</td>\n",
       "      <td>0</td>\n",
       "      <td>0</td>\n",
       "      <td>$94,951,615</td>\n",
       "      <td>NaN</td>\n",
       "      <td>NaN</td>\n",
       "    </tr>\n",
       "    <tr>\n",
       "      <th>832</th>\n",
       "      <td>832</td>\n",
       "      <td>tt9597190</td>\n",
       "      <td>Pegasus</td>\n",
       "      <td>Fei chi ren sheng</td>\n",
       "      <td>2019</td>\n",
       "      <td>98.0</td>\n",
       "      <td>Comedy,Sport</td>\n",
       "      <td>6.4</td>\n",
       "      <td>817.0</td>\n",
       "      <td>nm7613067, nm8361677, nm7613069, nm8288748</td>\n",
       "      <td>...</td>\n",
       "      <td>nm0150989</td>\n",
       "      <td>nm3954274</td>\n",
       "      <td>NaN</td>\n",
       "      <td>nm10464217, nm7815808, nm7815809, nm10464218</td>\n",
       "      <td>NaN</td>\n",
       "      <td>0</td>\n",
       "      <td>0</td>\n",
       "      <td>$255,863,112</td>\n",
       "      <td>NaN</td>\n",
       "      <td>NaN</td>\n",
       "    </tr>\n",
       "  </tbody>\n",
       "</table>\n",
       "<p>5 rows × 21 columns</p>\n",
       "</div>"
      ],
      "text/plain": [
       "     index     tconst            primary_title  \\\n",
       "828    828  tt8969332  The Biggest Little Farm   \n",
       "829    829  tt8991268                Honeyland   \n",
       "830    830  tt9081562           More Than Blue   \n",
       "831    831  tt9408490              Kill Mobile   \n",
       "832    832  tt9597190                  Pegasus   \n",
       "\n",
       "                            original_title  start_year  runtime_minutes  \\\n",
       "828                The Biggest Little Farm        2018             91.0   \n",
       "829                              Honeyland        2019             87.0   \n",
       "830  Bi bei shang geng bei shang de gu shi        2018            105.0   \n",
       "831                      Shoujikuang xiang        2018             90.0   \n",
       "832                      Fei chi ren sheng        2019             98.0   \n",
       "\n",
       "           genres  averagerating  numvotes  \\\n",
       "828   Documentary            8.0     421.0   \n",
       "829   Documentary            8.5     158.0   \n",
       "830       Romance            5.6     566.0   \n",
       "831         Drama            5.7     198.0   \n",
       "832  Comedy,Sport            6.4     817.0   \n",
       "\n",
       "                                          actor  ...              composer  \\\n",
       "828                                  nm10726590  ...             nm0063618   \n",
       "829                                         NaN  ...             nm3334929   \n",
       "830                        nm6630432, nm3214105  ...  nm3871161, nm3928207   \n",
       "831                        nm1291827, nm4596259  ...                   NaN   \n",
       "832  nm7613067, nm8361677, nm7613069, nm8288748  ...             nm0150989   \n",
       "\n",
       "                  director editor  \\\n",
       "828                    NaN    NaN   \n",
       "829  nm9393813, nm10118100    NaN   \n",
       "830              nm4341096    NaN   \n",
       "831              nm6785661    NaN   \n",
       "832              nm3954274    NaN   \n",
       "\n",
       "                                         producer  \\\n",
       "828                                     nm3537480   \n",
       "829                                     nm1389493   \n",
       "830                                     nm7599343   \n",
       "831                                           NaN   \n",
       "832  nm10464217, nm7815808, nm7815809, nm10464218   \n",
       "\n",
       "                                                writer budget  \\\n",
       "828                                          nm0598531      0   \n",
       "829                                                NaN      0   \n",
       "830                                          nm7250425      0   \n",
       "831  nm2601560, nm3798121, nm0182499, nm0002645, nm...      0   \n",
       "832                                                NaN      0   \n",
       "\n",
       "          usa_opening_wknd  global_gross rownum  movrating  \n",
       "828  $110,492, 12 May 2019    $5,293,304  828.0         PG  \n",
       "829                      0    $1,140,879  829.0    Unrated  \n",
       "830                      0  $153,000,000    NaN        NaN  \n",
       "831                      0   $94,951,615    NaN        NaN  \n",
       "832                      0  $255,863,112    NaN        NaN  \n",
       "\n",
       "[5 rows x 21 columns]"
      ]
     },
     "execution_count": 104,
     "metadata": {},
     "output_type": "execute_result"
    }
   ],
   "source": [
    "full_df.tail()"
   ]
  },
  {
   "cell_type": "code",
   "execution_count": 105,
   "metadata": {},
   "outputs": [],
   "source": [
    "full_df = full_df.drop('rownum', axis=1)"
   ]
  },
  {
   "cell_type": "code",
   "execution_count": 106,
   "metadata": {},
   "outputs": [],
   "source": [
    "full_df.to_csv('full_df_ratings.csv')"
   ]
  },
  {
   "cell_type": "markdown",
   "metadata": {},
   "source": [
    "### Joining & cleaning: Voter demographics"
   ]
  },
  {
   "cell_type": "code",
   "execution_count": 5,
   "metadata": {},
   "outputs": [],
   "source": [
    "with open(r\"imdb_voterdemos.json\", \"r\") as read_file:\n",
    "    voters_json = json.load(read_file)"
   ]
  },
  {
   "cell_type": "code",
   "execution_count": 6,
   "metadata": {},
   "outputs": [
    {
     "data": {
      "text/plain": [
       "833"
      ]
     },
     "execution_count": 6,
     "metadata": {},
     "output_type": "execute_result"
    }
   ],
   "source": [
    "len(voters_json)"
   ]
  },
  {
   "cell_type": "code",
   "execution_count": 11,
   "metadata": {},
   "outputs": [
    {
     "data": {
      "text/html": [
       "<div>\n",
       "<style scoped>\n",
       "    .dataframe tbody tr th:only-of-type {\n",
       "        vertical-align: middle;\n",
       "    }\n",
       "\n",
       "    .dataframe tbody tr th {\n",
       "        vertical-align: top;\n",
       "    }\n",
       "\n",
       "    .dataframe thead th {\n",
       "        text-align: right;\n",
       "    }\n",
       "</style>\n",
       "<table border=\"1\" class=\"dataframe\">\n",
       "  <thead>\n",
       "    <tr style=\"text-align: right;\">\n",
       "      <th></th>\n",
       "      <th>aged 18 29</th>\n",
       "      <th>aged 30 44</th>\n",
       "      <th>aged 45 plus</th>\n",
       "      <th>aged under 18</th>\n",
       "      <th>females</th>\n",
       "      <th>females aged 18 29</th>\n",
       "      <th>females aged 30 44</th>\n",
       "      <th>females aged 45 plus</th>\n",
       "      <th>females aged under 18</th>\n",
       "      <th>imdb users</th>\n",
       "      <th>males</th>\n",
       "      <th>males aged 18 29</th>\n",
       "      <th>males aged 30 44</th>\n",
       "      <th>males aged 45 plus</th>\n",
       "      <th>males aged under 18</th>\n",
       "      <th>non us users</th>\n",
       "      <th>top 1000 voters</th>\n",
       "      <th>us users</th>\n",
       "    </tr>\n",
       "  </thead>\n",
       "  <tbody>\n",
       "    <tr>\n",
       "      <th>votes</th>\n",
       "      <td>132311.0</td>\n",
       "      <td>205346.0</td>\n",
       "      <td>42891.0</td>\n",
       "      <td>576.0</td>\n",
       "      <td>73321.0</td>\n",
       "      <td>27500.0</td>\n",
       "      <td>31940.0</td>\n",
       "      <td>6320.0</td>\n",
       "      <td>84.0</td>\n",
       "      <td>567540.0</td>\n",
       "      <td>339750.0</td>\n",
       "      <td>102321.0</td>\n",
       "      <td>170164.0</td>\n",
       "      <td>35794.0</td>\n",
       "      <td>424.0</td>\n",
       "      <td>216868.0</td>\n",
       "      <td>760.0</td>\n",
       "      <td>72690.0</td>\n",
       "    </tr>\n",
       "    <tr>\n",
       "      <th>rating</th>\n",
       "      <td>7.1</td>\n",
       "      <td>6.9</td>\n",
       "      <td>6.9</td>\n",
       "      <td>7.0</td>\n",
       "      <td>7.3</td>\n",
       "      <td>7.4</td>\n",
       "      <td>7.2</td>\n",
       "      <td>7.3</td>\n",
       "      <td>7.4</td>\n",
       "      <td>7.0</td>\n",
       "      <td>6.9</td>\n",
       "      <td>7.0</td>\n",
       "      <td>6.8</td>\n",
       "      <td>6.8</td>\n",
       "      <td>6.9</td>\n",
       "      <td>6.8</td>\n",
       "      <td>6.8</td>\n",
       "      <td>7.1</td>\n",
       "    </tr>\n",
       "  </tbody>\n",
       "</table>\n",
       "</div>"
      ],
      "text/plain": [
       "        aged 18 29  aged 30 44  aged 45 plus  aged under 18  females  \\\n",
       "votes     132311.0    205346.0       42891.0          576.0  73321.0   \n",
       "rating         7.1         6.9           6.9            7.0      7.3   \n",
       "\n",
       "        females aged 18 29  females aged 30 44  females aged 45 plus  \\\n",
       "votes              27500.0             31940.0                6320.0   \n",
       "rating                 7.4                 7.2                   7.3   \n",
       "\n",
       "        females aged under 18  imdb users     males  males aged 18 29  \\\n",
       "votes                    84.0    567540.0  339750.0          102321.0   \n",
       "rating                    7.4         7.0       6.9               7.0   \n",
       "\n",
       "        males aged 30 44  males aged 45 plus  males aged under 18  \\\n",
       "votes           170164.0             35794.0                424.0   \n",
       "rating               6.8                 6.8                  6.9   \n",
       "\n",
       "        non us users  top 1000 voters  us users  \n",
       "votes       216868.0            760.0   72690.0  \n",
       "rating           6.8              6.8       7.1  "
      ]
     },
     "execution_count": 11,
     "metadata": {},
     "output_type": "execute_result"
    }
   ],
   "source": [
    "pd.DataFrame.from_records(voters_json[0])"
   ]
  },
  {
   "cell_type": "code",
   "execution_count": 7,
   "metadata": {},
   "outputs": [
    {
     "ename": "KeyError",
     "evalue": "0",
     "output_type": "error",
     "traceback": [
      "\u001b[0;31m---------------------------------------------------------------------------\u001b[0m",
      "\u001b[0;31mKeyError\u001b[0m                                  Traceback (most recent call last)",
      "\u001b[0;32m~/opt/anaconda3/envs/learn-env/lib/python3.6/site-packages/pandas/core/indexes/base.py\u001b[0m in \u001b[0;36mget_loc\u001b[0;34m(self, key, method, tolerance)\u001b[0m\n\u001b[1;32m   2645\u001b[0m             \u001b[0;32mtry\u001b[0m\u001b[0;34m:\u001b[0m\u001b[0;34m\u001b[0m\u001b[0;34m\u001b[0m\u001b[0m\n\u001b[0;32m-> 2646\u001b[0;31m                 \u001b[0;32mreturn\u001b[0m \u001b[0mself\u001b[0m\u001b[0;34m.\u001b[0m\u001b[0m_engine\u001b[0m\u001b[0;34m.\u001b[0m\u001b[0mget_loc\u001b[0m\u001b[0;34m(\u001b[0m\u001b[0mkey\u001b[0m\u001b[0;34m)\u001b[0m\u001b[0;34m\u001b[0m\u001b[0;34m\u001b[0m\u001b[0m\n\u001b[0m\u001b[1;32m   2647\u001b[0m             \u001b[0;32mexcept\u001b[0m \u001b[0mKeyError\u001b[0m\u001b[0;34m:\u001b[0m\u001b[0;34m\u001b[0m\u001b[0;34m\u001b[0m\u001b[0m\n",
      "\u001b[0;32mpandas/_libs/index.pyx\u001b[0m in \u001b[0;36mpandas._libs.index.IndexEngine.get_loc\u001b[0;34m()\u001b[0m\n",
      "\u001b[0;32mpandas/_libs/index.pyx\u001b[0m in \u001b[0;36mpandas._libs.index.IndexEngine.get_loc\u001b[0;34m()\u001b[0m\n",
      "\u001b[0;32mpandas/_libs/hashtable_class_helper.pxi\u001b[0m in \u001b[0;36mpandas._libs.hashtable.PyObjectHashTable.get_item\u001b[0;34m()\u001b[0m\n",
      "\u001b[0;32mpandas/_libs/hashtable_class_helper.pxi\u001b[0m in \u001b[0;36mpandas._libs.hashtable.PyObjectHashTable.get_item\u001b[0;34m()\u001b[0m\n",
      "\u001b[0;31mKeyError\u001b[0m: 0",
      "\nDuring handling of the above exception, another exception occurred:\n",
      "\u001b[0;31mKeyError\u001b[0m                                  Traceback (most recent call last)",
      "\u001b[0;32m<ipython-input-7-68a65b8b7437>\u001b[0m in \u001b[0;36m<module>\u001b[0;34m\u001b[0m\n\u001b[0;32m----> 1\u001b[0;31m \u001b[0mdf_voters\u001b[0m \u001b[0;34m=\u001b[0m \u001b[0mpd\u001b[0m\u001b[0;34m.\u001b[0m\u001b[0mDataFrame\u001b[0m\u001b[0;34m(\u001b[0m\u001b[0mvoters_json\u001b[0m\u001b[0;34m)\u001b[0m\u001b[0;34m[\u001b[0m\u001b[0;36m0\u001b[0m\u001b[0;34m]\u001b[0m\u001b[0;34m\u001b[0m\u001b[0;34m\u001b[0m\u001b[0m\n\u001b[0m",
      "\u001b[0;32m~/opt/anaconda3/envs/learn-env/lib/python3.6/site-packages/pandas/core/frame.py\u001b[0m in \u001b[0;36m__getitem__\u001b[0;34m(self, key)\u001b[0m\n\u001b[1;32m   2798\u001b[0m             \u001b[0;32mif\u001b[0m \u001b[0mself\u001b[0m\u001b[0;34m.\u001b[0m\u001b[0mcolumns\u001b[0m\u001b[0;34m.\u001b[0m\u001b[0mnlevels\u001b[0m \u001b[0;34m>\u001b[0m \u001b[0;36m1\u001b[0m\u001b[0;34m:\u001b[0m\u001b[0;34m\u001b[0m\u001b[0;34m\u001b[0m\u001b[0m\n\u001b[1;32m   2799\u001b[0m                 \u001b[0;32mreturn\u001b[0m \u001b[0mself\u001b[0m\u001b[0;34m.\u001b[0m\u001b[0m_getitem_multilevel\u001b[0m\u001b[0;34m(\u001b[0m\u001b[0mkey\u001b[0m\u001b[0;34m)\u001b[0m\u001b[0;34m\u001b[0m\u001b[0;34m\u001b[0m\u001b[0m\n\u001b[0;32m-> 2800\u001b[0;31m             \u001b[0mindexer\u001b[0m \u001b[0;34m=\u001b[0m \u001b[0mself\u001b[0m\u001b[0;34m.\u001b[0m\u001b[0mcolumns\u001b[0m\u001b[0;34m.\u001b[0m\u001b[0mget_loc\u001b[0m\u001b[0;34m(\u001b[0m\u001b[0mkey\u001b[0m\u001b[0;34m)\u001b[0m\u001b[0;34m\u001b[0m\u001b[0;34m\u001b[0m\u001b[0m\n\u001b[0m\u001b[1;32m   2801\u001b[0m             \u001b[0;32mif\u001b[0m \u001b[0mis_integer\u001b[0m\u001b[0;34m(\u001b[0m\u001b[0mindexer\u001b[0m\u001b[0;34m)\u001b[0m\u001b[0;34m:\u001b[0m\u001b[0;34m\u001b[0m\u001b[0;34m\u001b[0m\u001b[0m\n\u001b[1;32m   2802\u001b[0m                 \u001b[0mindexer\u001b[0m \u001b[0;34m=\u001b[0m \u001b[0;34m[\u001b[0m\u001b[0mindexer\u001b[0m\u001b[0;34m]\u001b[0m\u001b[0;34m\u001b[0m\u001b[0;34m\u001b[0m\u001b[0m\n",
      "\u001b[0;32m~/opt/anaconda3/envs/learn-env/lib/python3.6/site-packages/pandas/core/indexes/base.py\u001b[0m in \u001b[0;36mget_loc\u001b[0;34m(self, key, method, tolerance)\u001b[0m\n\u001b[1;32m   2646\u001b[0m                 \u001b[0;32mreturn\u001b[0m \u001b[0mself\u001b[0m\u001b[0;34m.\u001b[0m\u001b[0m_engine\u001b[0m\u001b[0;34m.\u001b[0m\u001b[0mget_loc\u001b[0m\u001b[0;34m(\u001b[0m\u001b[0mkey\u001b[0m\u001b[0;34m)\u001b[0m\u001b[0;34m\u001b[0m\u001b[0;34m\u001b[0m\u001b[0m\n\u001b[1;32m   2647\u001b[0m             \u001b[0;32mexcept\u001b[0m \u001b[0mKeyError\u001b[0m\u001b[0;34m:\u001b[0m\u001b[0;34m\u001b[0m\u001b[0;34m\u001b[0m\u001b[0m\n\u001b[0;32m-> 2648\u001b[0;31m                 \u001b[0;32mreturn\u001b[0m \u001b[0mself\u001b[0m\u001b[0;34m.\u001b[0m\u001b[0m_engine\u001b[0m\u001b[0;34m.\u001b[0m\u001b[0mget_loc\u001b[0m\u001b[0;34m(\u001b[0m\u001b[0mself\u001b[0m\u001b[0;34m.\u001b[0m\u001b[0m_maybe_cast_indexer\u001b[0m\u001b[0;34m(\u001b[0m\u001b[0mkey\u001b[0m\u001b[0;34m)\u001b[0m\u001b[0;34m)\u001b[0m\u001b[0;34m\u001b[0m\u001b[0;34m\u001b[0m\u001b[0m\n\u001b[0m\u001b[1;32m   2649\u001b[0m         \u001b[0mindexer\u001b[0m \u001b[0;34m=\u001b[0m \u001b[0mself\u001b[0m\u001b[0;34m.\u001b[0m\u001b[0mget_indexer\u001b[0m\u001b[0;34m(\u001b[0m\u001b[0;34m[\u001b[0m\u001b[0mkey\u001b[0m\u001b[0;34m]\u001b[0m\u001b[0;34m,\u001b[0m \u001b[0mmethod\u001b[0m\u001b[0;34m=\u001b[0m\u001b[0mmethod\u001b[0m\u001b[0;34m,\u001b[0m \u001b[0mtolerance\u001b[0m\u001b[0;34m=\u001b[0m\u001b[0mtolerance\u001b[0m\u001b[0;34m)\u001b[0m\u001b[0;34m\u001b[0m\u001b[0;34m\u001b[0m\u001b[0m\n\u001b[1;32m   2650\u001b[0m         \u001b[0;32mif\u001b[0m \u001b[0mindexer\u001b[0m\u001b[0;34m.\u001b[0m\u001b[0mndim\u001b[0m \u001b[0;34m>\u001b[0m \u001b[0;36m1\u001b[0m \u001b[0;32mor\u001b[0m \u001b[0mindexer\u001b[0m\u001b[0;34m.\u001b[0m\u001b[0msize\u001b[0m \u001b[0;34m>\u001b[0m \u001b[0;36m1\u001b[0m\u001b[0;34m:\u001b[0m\u001b[0;34m\u001b[0m\u001b[0;34m\u001b[0m\u001b[0m\n",
      "\u001b[0;32mpandas/_libs/index.pyx\u001b[0m in \u001b[0;36mpandas._libs.index.IndexEngine.get_loc\u001b[0;34m()\u001b[0m\n",
      "\u001b[0;32mpandas/_libs/index.pyx\u001b[0m in \u001b[0;36mpandas._libs.index.IndexEngine.get_loc\u001b[0;34m()\u001b[0m\n",
      "\u001b[0;32mpandas/_libs/hashtable_class_helper.pxi\u001b[0m in \u001b[0;36mpandas._libs.hashtable.PyObjectHashTable.get_item\u001b[0;34m()\u001b[0m\n",
      "\u001b[0;32mpandas/_libs/hashtable_class_helper.pxi\u001b[0m in \u001b[0;36mpandas._libs.hashtable.PyObjectHashTable.get_item\u001b[0;34m()\u001b[0m\n",
      "\u001b[0;31mKeyError\u001b[0m: 0"
     ]
    }
   ],
   "source": [
    "df_voters = pd.DataFrame(voters_json)[0]"
   ]
  },
  {
   "cell_type": "code",
   "execution_count": 4,
   "metadata": {},
   "outputs": [
    {
     "ename": "NameError",
     "evalue": "name 'df_voters' is not defined",
     "output_type": "error",
     "traceback": [
      "\u001b[0;31m---------------------------------------------------------------------------\u001b[0m",
      "\u001b[0;31mNameError\u001b[0m                                 Traceback (most recent call last)",
      "\u001b[0;32m<ipython-input-4-f3302ee162b3>\u001b[0m in \u001b[0;36m<module>\u001b[0;34m\u001b[0m\n\u001b[0;32m----> 1\u001b[0;31m \u001b[0mdf_voters\u001b[0m\u001b[0;34m.\u001b[0m\u001b[0mhead\u001b[0m\u001b[0;34m(\u001b[0m\u001b[0;34m)\u001b[0m\u001b[0;34m\u001b[0m\u001b[0;34m\u001b[0m\u001b[0m\n\u001b[0m",
      "\u001b[0;31mNameError\u001b[0m: name 'df_voters' is not defined"
     ]
    }
   ],
   "source": [
    "df_voters.head()"
   ]
  },
  {
   "cell_type": "code",
   "execution_count": 166,
   "metadata": {},
   "outputs": [
    {
     "ename": "KeyError",
     "evalue": "'\"imdb users\"'",
     "output_type": "error",
     "traceback": [
      "\u001b[0;31m---------------------------------------------------------------------------\u001b[0m",
      "\u001b[0;31mKeyError\u001b[0m                                  Traceback (most recent call last)",
      "\u001b[0;32m~/opt/anaconda3/envs/learn-env/lib/python3.6/site-packages/pandas/core/indexes/base.py\u001b[0m in \u001b[0;36mget_loc\u001b[0;34m(self, key, method, tolerance)\u001b[0m\n\u001b[1;32m   2645\u001b[0m             \u001b[0;32mtry\u001b[0m\u001b[0;34m:\u001b[0m\u001b[0;34m\u001b[0m\u001b[0;34m\u001b[0m\u001b[0m\n\u001b[0;32m-> 2646\u001b[0;31m                 \u001b[0;32mreturn\u001b[0m \u001b[0mself\u001b[0m\u001b[0;34m.\u001b[0m\u001b[0m_engine\u001b[0m\u001b[0;34m.\u001b[0m\u001b[0mget_loc\u001b[0m\u001b[0;34m(\u001b[0m\u001b[0mkey\u001b[0m\u001b[0;34m)\u001b[0m\u001b[0;34m\u001b[0m\u001b[0;34m\u001b[0m\u001b[0m\n\u001b[0m\u001b[1;32m   2647\u001b[0m             \u001b[0;32mexcept\u001b[0m \u001b[0mKeyError\u001b[0m\u001b[0;34m:\u001b[0m\u001b[0;34m\u001b[0m\u001b[0;34m\u001b[0m\u001b[0m\n",
      "\u001b[0;32mpandas/_libs/index.pyx\u001b[0m in \u001b[0;36mpandas._libs.index.IndexEngine.get_loc\u001b[0;34m()\u001b[0m\n",
      "\u001b[0;32mpandas/_libs/index.pyx\u001b[0m in \u001b[0;36mpandas._libs.index.IndexEngine.get_loc\u001b[0;34m()\u001b[0m\n",
      "\u001b[0;32mpandas/_libs/hashtable_class_helper.pxi\u001b[0m in \u001b[0;36mpandas._libs.hashtable.PyObjectHashTable.get_item\u001b[0;34m()\u001b[0m\n",
      "\u001b[0;32mpandas/_libs/hashtable_class_helper.pxi\u001b[0m in \u001b[0;36mpandas._libs.hashtable.PyObjectHashTable.get_item\u001b[0;34m()\u001b[0m\n",
      "\u001b[0;31mKeyError\u001b[0m: '\"imdb users\"'",
      "\nDuring handling of the above exception, another exception occurred:\n",
      "\u001b[0;31mKeyError\u001b[0m                                  Traceback (most recent call last)",
      "\u001b[0;32m<ipython-input-166-ad6b1c09f3ac>\u001b[0m in \u001b[0;36m<module>\u001b[0;34m\u001b[0m\n\u001b[1;32m     10\u001b[0m \u001b[0;34m\u001b[0m\u001b[0m\n\u001b[1;32m     11\u001b[0m \u001b[0;32mfor\u001b[0m \u001b[0mi\u001b[0m \u001b[0;32min\u001b[0m \u001b[0mcolumns\u001b[0m\u001b[0;34m:\u001b[0m\u001b[0;34m\u001b[0m\u001b[0;34m\u001b[0m\u001b[0m\n\u001b[0;32m---> 12\u001b[0;31m     \u001b[0;32mfor\u001b[0m \u001b[0mrow\u001b[0m \u001b[0;32min\u001b[0m \u001b[0mdf_voters\u001b[0m\u001b[0;34m[\u001b[0m\u001b[0;34m'\"'\u001b[0m\u001b[0;34m+\u001b[0m \u001b[0mi\u001b[0m \u001b[0;34m+\u001b[0m \u001b[0;34m'\"'\u001b[0m\u001b[0;34m]\u001b[0m\u001b[0;34m:\u001b[0m\u001b[0;34m\u001b[0m\u001b[0;34m\u001b[0m\u001b[0m\n\u001b[0m\u001b[1;32m     13\u001b[0m         \u001b[0mv\u001b[0m \u001b[0;34m=\u001b[0m \u001b[0mrow\u001b[0m\u001b[0;34m.\u001b[0m\u001b[0mkeys\u001b[0m\u001b[0;34m(\u001b[0m\u001b[0;34m)\u001b[0m\u001b[0;34m\u001b[0m\u001b[0;34m\u001b[0m\u001b[0m\n\u001b[1;32m     14\u001b[0m         \u001b[0mr\u001b[0m \u001b[0;34m=\u001b[0m \u001b[0mrow\u001b[0m\u001b[0;34m.\u001b[0m\u001b[0mvalues\u001b[0m\u001b[0;34m(\u001b[0m\u001b[0;34m)\u001b[0m\u001b[0;34m\u001b[0m\u001b[0;34m\u001b[0m\u001b[0m\n",
      "\u001b[0;32m~/opt/anaconda3/envs/learn-env/lib/python3.6/site-packages/pandas/core/frame.py\u001b[0m in \u001b[0;36m__getitem__\u001b[0;34m(self, key)\u001b[0m\n\u001b[1;32m   2798\u001b[0m             \u001b[0;32mif\u001b[0m \u001b[0mself\u001b[0m\u001b[0;34m.\u001b[0m\u001b[0mcolumns\u001b[0m\u001b[0;34m.\u001b[0m\u001b[0mnlevels\u001b[0m \u001b[0;34m>\u001b[0m \u001b[0;36m1\u001b[0m\u001b[0;34m:\u001b[0m\u001b[0;34m\u001b[0m\u001b[0;34m\u001b[0m\u001b[0m\n\u001b[1;32m   2799\u001b[0m                 \u001b[0;32mreturn\u001b[0m \u001b[0mself\u001b[0m\u001b[0;34m.\u001b[0m\u001b[0m_getitem_multilevel\u001b[0m\u001b[0;34m(\u001b[0m\u001b[0mkey\u001b[0m\u001b[0;34m)\u001b[0m\u001b[0;34m\u001b[0m\u001b[0;34m\u001b[0m\u001b[0m\n\u001b[0;32m-> 2800\u001b[0;31m             \u001b[0mindexer\u001b[0m \u001b[0;34m=\u001b[0m \u001b[0mself\u001b[0m\u001b[0;34m.\u001b[0m\u001b[0mcolumns\u001b[0m\u001b[0;34m.\u001b[0m\u001b[0mget_loc\u001b[0m\u001b[0;34m(\u001b[0m\u001b[0mkey\u001b[0m\u001b[0;34m)\u001b[0m\u001b[0;34m\u001b[0m\u001b[0;34m\u001b[0m\u001b[0m\n\u001b[0m\u001b[1;32m   2801\u001b[0m             \u001b[0;32mif\u001b[0m \u001b[0mis_integer\u001b[0m\u001b[0;34m(\u001b[0m\u001b[0mindexer\u001b[0m\u001b[0;34m)\u001b[0m\u001b[0;34m:\u001b[0m\u001b[0;34m\u001b[0m\u001b[0;34m\u001b[0m\u001b[0m\n\u001b[1;32m   2802\u001b[0m                 \u001b[0mindexer\u001b[0m \u001b[0;34m=\u001b[0m \u001b[0;34m[\u001b[0m\u001b[0mindexer\u001b[0m\u001b[0;34m]\u001b[0m\u001b[0;34m\u001b[0m\u001b[0;34m\u001b[0m\u001b[0m\n",
      "\u001b[0;32m~/opt/anaconda3/envs/learn-env/lib/python3.6/site-packages/pandas/core/indexes/base.py\u001b[0m in \u001b[0;36mget_loc\u001b[0;34m(self, key, method, tolerance)\u001b[0m\n\u001b[1;32m   2646\u001b[0m                 \u001b[0;32mreturn\u001b[0m \u001b[0mself\u001b[0m\u001b[0;34m.\u001b[0m\u001b[0m_engine\u001b[0m\u001b[0;34m.\u001b[0m\u001b[0mget_loc\u001b[0m\u001b[0;34m(\u001b[0m\u001b[0mkey\u001b[0m\u001b[0;34m)\u001b[0m\u001b[0;34m\u001b[0m\u001b[0;34m\u001b[0m\u001b[0m\n\u001b[1;32m   2647\u001b[0m             \u001b[0;32mexcept\u001b[0m \u001b[0mKeyError\u001b[0m\u001b[0;34m:\u001b[0m\u001b[0;34m\u001b[0m\u001b[0;34m\u001b[0m\u001b[0m\n\u001b[0;32m-> 2648\u001b[0;31m                 \u001b[0;32mreturn\u001b[0m \u001b[0mself\u001b[0m\u001b[0;34m.\u001b[0m\u001b[0m_engine\u001b[0m\u001b[0;34m.\u001b[0m\u001b[0mget_loc\u001b[0m\u001b[0;34m(\u001b[0m\u001b[0mself\u001b[0m\u001b[0;34m.\u001b[0m\u001b[0m_maybe_cast_indexer\u001b[0m\u001b[0;34m(\u001b[0m\u001b[0mkey\u001b[0m\u001b[0;34m)\u001b[0m\u001b[0;34m)\u001b[0m\u001b[0;34m\u001b[0m\u001b[0;34m\u001b[0m\u001b[0m\n\u001b[0m\u001b[1;32m   2649\u001b[0m         \u001b[0mindexer\u001b[0m \u001b[0;34m=\u001b[0m \u001b[0mself\u001b[0m\u001b[0;34m.\u001b[0m\u001b[0mget_indexer\u001b[0m\u001b[0;34m(\u001b[0m\u001b[0;34m[\u001b[0m\u001b[0mkey\u001b[0m\u001b[0;34m]\u001b[0m\u001b[0;34m,\u001b[0m \u001b[0mmethod\u001b[0m\u001b[0;34m=\u001b[0m\u001b[0mmethod\u001b[0m\u001b[0;34m,\u001b[0m \u001b[0mtolerance\u001b[0m\u001b[0;34m=\u001b[0m\u001b[0mtolerance\u001b[0m\u001b[0;34m)\u001b[0m\u001b[0;34m\u001b[0m\u001b[0;34m\u001b[0m\u001b[0m\n\u001b[1;32m   2650\u001b[0m         \u001b[0;32mif\u001b[0m \u001b[0mindexer\u001b[0m\u001b[0;34m.\u001b[0m\u001b[0mndim\u001b[0m \u001b[0;34m>\u001b[0m \u001b[0;36m1\u001b[0m \u001b[0;32mor\u001b[0m \u001b[0mindexer\u001b[0m\u001b[0;34m.\u001b[0m\u001b[0msize\u001b[0m \u001b[0;34m>\u001b[0m \u001b[0;36m1\u001b[0m\u001b[0;34m:\u001b[0m\u001b[0;34m\u001b[0m\u001b[0;34m\u001b[0m\u001b[0m\n",
      "\u001b[0;32mpandas/_libs/index.pyx\u001b[0m in \u001b[0;36mpandas._libs.index.IndexEngine.get_loc\u001b[0;34m()\u001b[0m\n",
      "\u001b[0;32mpandas/_libs/index.pyx\u001b[0m in \u001b[0;36mpandas._libs.index.IndexEngine.get_loc\u001b[0;34m()\u001b[0m\n",
      "\u001b[0;32mpandas/_libs/hashtable_class_helper.pxi\u001b[0m in \u001b[0;36mpandas._libs.hashtable.PyObjectHashTable.get_item\u001b[0;34m()\u001b[0m\n",
      "\u001b[0;32mpandas/_libs/hashtable_class_helper.pxi\u001b[0m in \u001b[0;36mpandas._libs.hashtable.PyObjectHashTable.get_item\u001b[0;34m()\u001b[0m\n",
      "\u001b[0;31mKeyError\u001b[0m: '\"imdb users\"'"
     ]
    }
   ],
   "source": [
    "# GO OVER THIS CELL IN THE MOD REVIEW!!  I wanted to do this programatically\n",
    "\n",
    "columns = list(df_voters)\n",
    "\n",
    "#df_demovotes = pd.DataFrame()\n",
    "#df_demoratings = pd.DataFrame()\n",
    "\n",
    "votes = []\n",
    "rating = []\n",
    "\n",
    "for i in columns:\n",
    "    for row in df_voters['\"'+ i + '\"']:\n",
    "        v = row.keys()\n",
    "        r = row.values()\n",
    "        votes.append(v)\n",
    "        rating.append(r)\n",
    "    df_demovotes[('v ' + i)] = votes\n",
    "    df_demoratings[('r ' + i)] = rating"
   ]
  },
  {
   "cell_type": "code",
   "execution_count": 150,
   "metadata": {},
   "outputs": [],
   "source": [
    "# test extraction with one column of df_voters to set up DataFrame for collecting the rest of the results\n",
    "\n",
    "votes = []\n",
    "ratings = []\n",
    "\n",
    "for i in df_voters['males']:\n",
    "    votes.append(i.get('votes'))\n",
    "    ratings.append(i.get('rating'))"
   ]
  },
  {
   "cell_type": "code",
   "execution_count": 152,
   "metadata": {},
   "outputs": [],
   "source": [
    "# set up dataframes to hold the vote counts and average ratings, respectively\n",
    "\n",
    "df_demovotes = pd.DataFrame(data = votes, columns = ['v males'])\n",
    "df_demoratings = pd.DataFrame(data = ratings, columns = ['r males'])"
   ]
  },
  {
   "cell_type": "code",
   "execution_count": 153,
   "metadata": {},
   "outputs": [
    {
     "data": {
      "text/html": [
       "<div>\n",
       "<style scoped>\n",
       "    .dataframe tbody tr th:only-of-type {\n",
       "        vertical-align: middle;\n",
       "    }\n",
       "\n",
       "    .dataframe tbody tr th {\n",
       "        vertical-align: top;\n",
       "    }\n",
       "\n",
       "    .dataframe thead th {\n",
       "        text-align: right;\n",
       "    }\n",
       "</style>\n",
       "<table border=\"1\" class=\"dataframe\">\n",
       "  <thead>\n",
       "    <tr style=\"text-align: right;\">\n",
       "      <th></th>\n",
       "      <th>v males</th>\n",
       "    </tr>\n",
       "  </thead>\n",
       "  <tbody>\n",
       "    <tr>\n",
       "      <th>0</th>\n",
       "      <td>339750</td>\n",
       "    </tr>\n",
       "    <tr>\n",
       "      <th>1</th>\n",
       "      <td>132554</td>\n",
       "    </tr>\n",
       "    <tr>\n",
       "      <th>2</th>\n",
       "      <td>139504</td>\n",
       "    </tr>\n",
       "    <tr>\n",
       "      <th>3</th>\n",
       "      <td>299525</td>\n",
       "    </tr>\n",
       "    <tr>\n",
       "      <th>4</th>\n",
       "      <td>5792</td>\n",
       "    </tr>\n",
       "  </tbody>\n",
       "</table>\n",
       "</div>"
      ],
      "text/plain": [
       "   v males\n",
       "0   339750\n",
       "1   132554\n",
       "2   139504\n",
       "3   299525\n",
       "4     5792"
      ]
     },
     "execution_count": 153,
     "metadata": {},
     "output_type": "execute_result"
    }
   ],
   "source": [
    "df_demovotes.head()"
   ]
  },
  {
   "cell_type": "code",
   "execution_count": 154,
   "metadata": {},
   "outputs": [
    {
     "data": {
      "text/html": [
       "<div>\n",
       "<style scoped>\n",
       "    .dataframe tbody tr th:only-of-type {\n",
       "        vertical-align: middle;\n",
       "    }\n",
       "\n",
       "    .dataframe tbody tr th {\n",
       "        vertical-align: top;\n",
       "    }\n",
       "\n",
       "    .dataframe thead th {\n",
       "        text-align: right;\n",
       "    }\n",
       "</style>\n",
       "<table border=\"1\" class=\"dataframe\">\n",
       "  <thead>\n",
       "    <tr style=\"text-align: right;\">\n",
       "      <th></th>\n",
       "      <th>r males</th>\n",
       "    </tr>\n",
       "  </thead>\n",
       "  <tbody>\n",
       "    <tr>\n",
       "      <th>0</th>\n",
       "      <td>6.9</td>\n",
       "    </tr>\n",
       "    <tr>\n",
       "      <th>1</th>\n",
       "      <td>7.3</td>\n",
       "    </tr>\n",
       "    <tr>\n",
       "      <th>2</th>\n",
       "      <td>7.0</td>\n",
       "    </tr>\n",
       "    <tr>\n",
       "      <th>3</th>\n",
       "      <td>7.3</td>\n",
       "    </tr>\n",
       "    <tr>\n",
       "      <th>4</th>\n",
       "      <td>6.3</td>\n",
       "    </tr>\n",
       "  </tbody>\n",
       "</table>\n",
       "</div>"
      ],
      "text/plain": [
       "   r males\n",
       "0      6.9\n",
       "1      7.3\n",
       "2      7.0\n",
       "3      7.3\n",
       "4      6.3"
      ]
     },
     "execution_count": 154,
     "metadata": {},
     "output_type": "execute_result"
    }
   ],
   "source": [
    "df_demoratings.head()"
   ]
  },
  {
   "cell_type": "code",
   "execution_count": 159,
   "metadata": {},
   "outputs": [
    {
     "name": "stdout",
     "output_type": "stream",
     "text": [
      "833\n",
      "833\n"
     ]
    }
   ],
   "source": [
    "print(len(df_demovotes))\n",
    "print(len(df_demoratings))"
   ]
  },
  {
   "cell_type": "code",
   "execution_count": 156,
   "metadata": {},
   "outputs": [],
   "source": [
    "# define a function that extracts the contents of a column when the column name is input as a parameter\n",
    "\n",
    "def extract(column):\n",
    "    \n",
    "    votes = []\n",
    "    rating = []\n",
    "    \n",
    "    for row in df_voters[column]:\n",
    "        v = row.get('votes')\n",
    "        r = row.get('rating')\n",
    "        votes.append(v)\n",
    "        rating.append(r)\n",
    "    \n",
    "    df_demovotes[('v ' + column)] = votes\n",
    "    df_demoratings[('r ' + column)] = rating"
   ]
  },
  {
   "cell_type": "code",
   "execution_count": 157,
   "metadata": {},
   "outputs": [],
   "source": [
    "extract('females')"
   ]
  },
  {
   "cell_type": "code",
   "execution_count": 164,
   "metadata": {
    "scrolled": true
   },
   "outputs": [
    {
     "data": {
      "text/html": [
       "<div>\n",
       "<style scoped>\n",
       "    .dataframe tbody tr th:only-of-type {\n",
       "        vertical-align: middle;\n",
       "    }\n",
       "\n",
       "    .dataframe tbody tr th {\n",
       "        vertical-align: top;\n",
       "    }\n",
       "\n",
       "    .dataframe thead th {\n",
       "        text-align: right;\n",
       "    }\n",
       "</style>\n",
       "<table border=\"1\" class=\"dataframe\">\n",
       "  <thead>\n",
       "    <tr style=\"text-align: right;\">\n",
       "      <th></th>\n",
       "      <th>v males</th>\n",
       "      <th>v females</th>\n",
       "      <th>v imdb users</th>\n",
       "    </tr>\n",
       "  </thead>\n",
       "  <tbody>\n",
       "    <tr>\n",
       "      <th>0</th>\n",
       "      <td>339750</td>\n",
       "      <td>73321</td>\n",
       "      <td>567540</td>\n",
       "    </tr>\n",
       "    <tr>\n",
       "      <th>1</th>\n",
       "      <td>132554</td>\n",
       "      <td>17230</td>\n",
       "      <td>214649</td>\n",
       "    </tr>\n",
       "    <tr>\n",
       "      <th>2</th>\n",
       "      <td>139504</td>\n",
       "      <td>21572</td>\n",
       "      <td>237700</td>\n",
       "    </tr>\n",
       "    <tr>\n",
       "      <th>3</th>\n",
       "      <td>299525</td>\n",
       "      <td>72851</td>\n",
       "      <td>532866</td>\n",
       "    </tr>\n",
       "    <tr>\n",
       "      <th>4</th>\n",
       "      <td>5792</td>\n",
       "      <td>2318</td>\n",
       "      <td>10721</td>\n",
       "    </tr>\n",
       "  </tbody>\n",
       "</table>\n",
       "</div>"
      ],
      "text/plain": [
       "   v males  v females  v imdb users\n",
       "0   339750      73321        567540\n",
       "1   132554      17230        214649\n",
       "2   139504      21572        237700\n",
       "3   299525      72851        532866\n",
       "4     5792       2318         10721"
      ]
     },
     "execution_count": 164,
     "metadata": {},
     "output_type": "execute_result"
    }
   ],
   "source": [
    "df_demovotes.head()"
   ]
  },
  {
   "cell_type": "code",
   "execution_count": 168,
   "metadata": {},
   "outputs": [
    {
     "data": {
      "text/html": [
       "<div>\n",
       "<style scoped>\n",
       "    .dataframe tbody tr th:only-of-type {\n",
       "        vertical-align: middle;\n",
       "    }\n",
       "\n",
       "    .dataframe tbody tr th {\n",
       "        vertical-align: top;\n",
       "    }\n",
       "\n",
       "    .dataframe thead th {\n",
       "        text-align: right;\n",
       "    }\n",
       "</style>\n",
       "<table border=\"1\" class=\"dataframe\">\n",
       "  <thead>\n",
       "    <tr style=\"text-align: right;\">\n",
       "      <th></th>\n",
       "      <th>r males</th>\n",
       "      <th>r females</th>\n",
       "      <th>r imdb users</th>\n",
       "    </tr>\n",
       "  </thead>\n",
       "  <tbody>\n",
       "    <tr>\n",
       "      <th>0</th>\n",
       "      <td>6.9</td>\n",
       "      <td>7.3</td>\n",
       "      <td>7.0</td>\n",
       "    </tr>\n",
       "    <tr>\n",
       "      <th>1</th>\n",
       "      <td>7.3</td>\n",
       "      <td>7.3</td>\n",
       "      <td>7.3</td>\n",
       "    </tr>\n",
       "    <tr>\n",
       "      <th>2</th>\n",
       "      <td>7.0</td>\n",
       "      <td>7.2</td>\n",
       "      <td>7.1</td>\n",
       "    </tr>\n",
       "    <tr>\n",
       "      <th>3</th>\n",
       "      <td>7.3</td>\n",
       "      <td>7.8</td>\n",
       "      <td>7.4</td>\n",
       "    </tr>\n",
       "    <tr>\n",
       "      <th>4</th>\n",
       "      <td>6.3</td>\n",
       "      <td>6.4</td>\n",
       "      <td>6.3</td>\n",
       "    </tr>\n",
       "  </tbody>\n",
       "</table>\n",
       "</div>"
      ],
      "text/plain": [
       "   r males  r females  r imdb users\n",
       "0      6.9        7.3           7.0\n",
       "1      7.3        7.3           7.3\n",
       "2      7.0        7.2           7.1\n",
       "3      7.3        7.8           7.4\n",
       "4      6.3        6.4           6.3"
      ]
     },
     "execution_count": 168,
     "metadata": {},
     "output_type": "execute_result"
    }
   ],
   "source": [
    "df_demoratings.head()"
   ]
  },
  {
   "cell_type": "code",
   "execution_count": 161,
   "metadata": {},
   "outputs": [],
   "source": [
    "#columns = list(df_voters)\n",
    "\n",
    "#for i in columns:\n",
    "#    extract(i)"
   ]
  },
  {
   "cell_type": "code",
   "execution_count": 163,
   "metadata": {},
   "outputs": [
    {
     "name": "stdout",
     "output_type": "stream",
     "text": [
      "extract(\"imdb users\")\n",
      "extract(\"aged under 18\")\n",
      "extract(\"aged 18 29\")\n",
      "extract(\"aged 30 44\")\n",
      "extract(\"aged 45 plus\")\n",
      "extract(\"males\")\n",
      "extract(\"males aged under 18\")\n",
      "extract(\"males aged 18 29\")\n",
      "extract(\"males aged 30 44\")\n",
      "extract(\"males aged 45 plus\")\n",
      "extract(\"females\")\n",
      "extract(\"females aged under 18\")\n",
      "extract(\"females aged 18 29\")\n",
      "extract(\"females aged 30 44\")\n",
      "extract(\"females aged 45 plus\")\n",
      "extract(\"top 1000 voters\")\n",
      "extract(\"us users\")\n",
      "extract(\"non us users\")\n"
     ]
    }
   ],
   "source": [
    "columns = list(df_voters)\n",
    "\n",
    "for i in columns:\n",
    "    print('extract(\"' + i + '\")')"
   ]
  },
  {
   "cell_type": "code",
   "execution_count": 172,
   "metadata": {},
   "outputs": [
    {
     "data": {
      "text/plain": [
       "576"
      ]
     },
     "execution_count": 172,
     "metadata": {},
     "output_type": "execute_result"
    }
   ],
   "source": [
    "df_voters['aged under 18'][0].get('votes')"
   ]
  },
  {
   "cell_type": "code",
   "execution_count": 169,
   "metadata": {},
   "outputs": [
    {
     "ename": "AttributeError",
     "evalue": "'float' object has no attribute 'get'",
     "output_type": "error",
     "traceback": [
      "\u001b[0;31m---------------------------------------------------------------------------\u001b[0m",
      "\u001b[0;31mAttributeError\u001b[0m                            Traceback (most recent call last)",
      "\u001b[0;32m<ipython-input-169-160748ad0749>\u001b[0m in \u001b[0;36m<module>\u001b[0;34m\u001b[0m\n\u001b[1;32m      1\u001b[0m \u001b[0mextract\u001b[0m\u001b[0;34m(\u001b[0m\u001b[0;34m\"imdb users\"\u001b[0m\u001b[0;34m)\u001b[0m\u001b[0;34m\u001b[0m\u001b[0;34m\u001b[0m\u001b[0m\n\u001b[0;32m----> 2\u001b[0;31m \u001b[0mextract\u001b[0m\u001b[0;34m(\u001b[0m\u001b[0;34m\"aged under 18\"\u001b[0m\u001b[0;34m)\u001b[0m\u001b[0;34m\u001b[0m\u001b[0;34m\u001b[0m\u001b[0m\n\u001b[0m\u001b[1;32m      3\u001b[0m \u001b[0mextract\u001b[0m\u001b[0;34m(\u001b[0m\u001b[0;34m\"aged 18 29\"\u001b[0m\u001b[0;34m)\u001b[0m\u001b[0;34m\u001b[0m\u001b[0;34m\u001b[0m\u001b[0m\n\u001b[1;32m      4\u001b[0m \u001b[0mextract\u001b[0m\u001b[0;34m(\u001b[0m\u001b[0;34m\"aged 30 44\"\u001b[0m\u001b[0;34m)\u001b[0m\u001b[0;34m\u001b[0m\u001b[0;34m\u001b[0m\u001b[0m\n\u001b[1;32m      5\u001b[0m \u001b[0mextract\u001b[0m\u001b[0;34m(\u001b[0m\u001b[0;34m\"aged 45 plus\"\u001b[0m\u001b[0;34m)\u001b[0m\u001b[0;34m\u001b[0m\u001b[0;34m\u001b[0m\u001b[0m\n",
      "\u001b[0;32m<ipython-input-156-a36474d5bcf8>\u001b[0m in \u001b[0;36mextract\u001b[0;34m(column)\u001b[0m\n\u001b[1;32m      5\u001b[0m \u001b[0;34m\u001b[0m\u001b[0m\n\u001b[1;32m      6\u001b[0m     \u001b[0;32mfor\u001b[0m \u001b[0mrow\u001b[0m \u001b[0;32min\u001b[0m \u001b[0mdf_voters\u001b[0m\u001b[0;34m[\u001b[0m\u001b[0mcolumn\u001b[0m\u001b[0;34m]\u001b[0m\u001b[0;34m:\u001b[0m\u001b[0;34m\u001b[0m\u001b[0;34m\u001b[0m\u001b[0m\n\u001b[0;32m----> 7\u001b[0;31m         \u001b[0mv\u001b[0m \u001b[0;34m=\u001b[0m \u001b[0mrow\u001b[0m\u001b[0;34m.\u001b[0m\u001b[0mget\u001b[0m\u001b[0;34m(\u001b[0m\u001b[0;34m'votes'\u001b[0m\u001b[0;34m)\u001b[0m\u001b[0;34m\u001b[0m\u001b[0;34m\u001b[0m\u001b[0m\n\u001b[0m\u001b[1;32m      8\u001b[0m         \u001b[0mr\u001b[0m \u001b[0;34m=\u001b[0m \u001b[0mrow\u001b[0m\u001b[0;34m.\u001b[0m\u001b[0mget\u001b[0m\u001b[0;34m(\u001b[0m\u001b[0;34m'rating'\u001b[0m\u001b[0;34m)\u001b[0m\u001b[0;34m\u001b[0m\u001b[0;34m\u001b[0m\u001b[0m\n\u001b[1;32m      9\u001b[0m         \u001b[0mvotes\u001b[0m\u001b[0;34m.\u001b[0m\u001b[0mappend\u001b[0m\u001b[0;34m(\u001b[0m\u001b[0mv\u001b[0m\u001b[0;34m)\u001b[0m\u001b[0;34m\u001b[0m\u001b[0;34m\u001b[0m\u001b[0m\n",
      "\u001b[0;31mAttributeError\u001b[0m: 'float' object has no attribute 'get'"
     ]
    }
   ],
   "source": [
    "extract(\"imdb users\")"
   ]
  },
  {
   "cell_type": "code",
   "execution_count": 173,
   "metadata": {
    "scrolled": true
   },
   "outputs": [
    {
     "ename": "AttributeError",
     "evalue": "'float' object has no attribute 'get'",
     "output_type": "error",
     "traceback": [
      "\u001b[0;31m---------------------------------------------------------------------------\u001b[0m",
      "\u001b[0;31mAttributeError\u001b[0m                            Traceback (most recent call last)",
      "\u001b[0;32m<ipython-input-173-af70d562111c>\u001b[0m in \u001b[0;36m<module>\u001b[0;34m\u001b[0m\n\u001b[0;32m----> 1\u001b[0;31m \u001b[0mextract\u001b[0m\u001b[0;34m(\u001b[0m\u001b[0;34m\"aged under 18\"\u001b[0m\u001b[0;34m)\u001b[0m\u001b[0;34m\u001b[0m\u001b[0;34m\u001b[0m\u001b[0m\n\u001b[0m",
      "\u001b[0;32m<ipython-input-156-a36474d5bcf8>\u001b[0m in \u001b[0;36mextract\u001b[0;34m(column)\u001b[0m\n\u001b[1;32m      5\u001b[0m \u001b[0;34m\u001b[0m\u001b[0m\n\u001b[1;32m      6\u001b[0m     \u001b[0;32mfor\u001b[0m \u001b[0mrow\u001b[0m \u001b[0;32min\u001b[0m \u001b[0mdf_voters\u001b[0m\u001b[0;34m[\u001b[0m\u001b[0mcolumn\u001b[0m\u001b[0;34m]\u001b[0m\u001b[0;34m:\u001b[0m\u001b[0;34m\u001b[0m\u001b[0;34m\u001b[0m\u001b[0m\n\u001b[0;32m----> 7\u001b[0;31m         \u001b[0mv\u001b[0m \u001b[0;34m=\u001b[0m \u001b[0mrow\u001b[0m\u001b[0;34m.\u001b[0m\u001b[0mget\u001b[0m\u001b[0;34m(\u001b[0m\u001b[0;34m'votes'\u001b[0m\u001b[0;34m)\u001b[0m\u001b[0;34m\u001b[0m\u001b[0;34m\u001b[0m\u001b[0m\n\u001b[0m\u001b[1;32m      8\u001b[0m         \u001b[0mr\u001b[0m \u001b[0;34m=\u001b[0m \u001b[0mrow\u001b[0m\u001b[0;34m.\u001b[0m\u001b[0mget\u001b[0m\u001b[0;34m(\u001b[0m\u001b[0;34m'rating'\u001b[0m\u001b[0;34m)\u001b[0m\u001b[0;34m\u001b[0m\u001b[0;34m\u001b[0m\u001b[0m\n\u001b[1;32m      9\u001b[0m         \u001b[0mvotes\u001b[0m\u001b[0;34m.\u001b[0m\u001b[0mappend\u001b[0m\u001b[0;34m(\u001b[0m\u001b[0mv\u001b[0m\u001b[0;34m)\u001b[0m\u001b[0;34m\u001b[0m\u001b[0;34m\u001b[0m\u001b[0m\n",
      "\u001b[0;31mAttributeError\u001b[0m: 'float' object has no attribute 'get'"
     ]
    }
   ],
   "source": [
    "extract(\"aged under 18\")"
   ]
  },
  {
   "cell_type": "code",
   "execution_count": 174,
   "metadata": {},
   "outputs": [
    {
     "ename": "AttributeError",
     "evalue": "'float' object has no attribute 'get'",
     "output_type": "error",
     "traceback": [
      "\u001b[0;31m---------------------------------------------------------------------------\u001b[0m",
      "\u001b[0;31mAttributeError\u001b[0m                            Traceback (most recent call last)",
      "\u001b[0;32m<ipython-input-174-38c6f3f88958>\u001b[0m in \u001b[0;36m<module>\u001b[0;34m\u001b[0m\n\u001b[1;32m      1\u001b[0m \u001b[0mextract\u001b[0m\u001b[0;34m(\u001b[0m\u001b[0;34m\"aged 18 29\"\u001b[0m\u001b[0;34m)\u001b[0m\u001b[0;34m\u001b[0m\u001b[0;34m\u001b[0m\u001b[0m\n\u001b[1;32m      2\u001b[0m \u001b[0mextract\u001b[0m\u001b[0;34m(\u001b[0m\u001b[0;34m\"aged 30 44\"\u001b[0m\u001b[0;34m)\u001b[0m\u001b[0;34m\u001b[0m\u001b[0;34m\u001b[0m\u001b[0m\n\u001b[0;32m----> 3\u001b[0;31m \u001b[0mextract\u001b[0m\u001b[0;34m(\u001b[0m\u001b[0;34m\"aged 45 plus\"\u001b[0m\u001b[0;34m)\u001b[0m\u001b[0;34m\u001b[0m\u001b[0;34m\u001b[0m\u001b[0m\n\u001b[0m\u001b[1;32m      4\u001b[0m \u001b[0mextract\u001b[0m\u001b[0;34m(\u001b[0m\u001b[0;34m\"males\"\u001b[0m\u001b[0;34m)\u001b[0m\u001b[0;34m\u001b[0m\u001b[0;34m\u001b[0m\u001b[0m\n\u001b[1;32m      5\u001b[0m \u001b[0mextract\u001b[0m\u001b[0;34m(\u001b[0m\u001b[0;34m\"males aged under 18\"\u001b[0m\u001b[0;34m)\u001b[0m\u001b[0;34m\u001b[0m\u001b[0;34m\u001b[0m\u001b[0m\n",
      "\u001b[0;32m<ipython-input-156-a36474d5bcf8>\u001b[0m in \u001b[0;36mextract\u001b[0;34m(column)\u001b[0m\n\u001b[1;32m      5\u001b[0m \u001b[0;34m\u001b[0m\u001b[0m\n\u001b[1;32m      6\u001b[0m     \u001b[0;32mfor\u001b[0m \u001b[0mrow\u001b[0m \u001b[0;32min\u001b[0m \u001b[0mdf_voters\u001b[0m\u001b[0;34m[\u001b[0m\u001b[0mcolumn\u001b[0m\u001b[0;34m]\u001b[0m\u001b[0;34m:\u001b[0m\u001b[0;34m\u001b[0m\u001b[0;34m\u001b[0m\u001b[0m\n\u001b[0;32m----> 7\u001b[0;31m         \u001b[0mv\u001b[0m \u001b[0;34m=\u001b[0m \u001b[0mrow\u001b[0m\u001b[0;34m.\u001b[0m\u001b[0mget\u001b[0m\u001b[0;34m(\u001b[0m\u001b[0;34m'votes'\u001b[0m\u001b[0;34m)\u001b[0m\u001b[0;34m\u001b[0m\u001b[0;34m\u001b[0m\u001b[0m\n\u001b[0m\u001b[1;32m      8\u001b[0m         \u001b[0mr\u001b[0m \u001b[0;34m=\u001b[0m \u001b[0mrow\u001b[0m\u001b[0;34m.\u001b[0m\u001b[0mget\u001b[0m\u001b[0;34m(\u001b[0m\u001b[0;34m'rating'\u001b[0m\u001b[0;34m)\u001b[0m\u001b[0;34m\u001b[0m\u001b[0;34m\u001b[0m\u001b[0m\n\u001b[1;32m      9\u001b[0m         \u001b[0mvotes\u001b[0m\u001b[0;34m.\u001b[0m\u001b[0mappend\u001b[0m\u001b[0;34m(\u001b[0m\u001b[0mv\u001b[0m\u001b[0;34m)\u001b[0m\u001b[0;34m\u001b[0m\u001b[0;34m\u001b[0m\u001b[0m\n",
      "\u001b[0;31mAttributeError\u001b[0m: 'float' object has no attribute 'get'"
     ]
    }
   ],
   "source": [
    "extract(\"aged 18 29\")\n",
    "extract(\"aged 30 44\")\n",
    "extract(\"aged 45 plus\")\n",
    "extract(\"males\")\n",
    "extract(\"males aged under 18\")\n",
    "extract(\"males aged 18 29\")\n",
    "extract(\"males aged 30 44\")\n",
    "extract(\"males aged 45 plus\")\n",
    "extract(\"females\")\n",
    "extract(\"females aged under 18\")\n",
    "extract(\"females aged 18 29\")\n",
    "extract(\"females aged 30 44\")\n",
    "extract(\"females aged 45 plus\")\n",
    "extract(\"top 1000 voters\")\n",
    "extract(\"us users\")\n",
    "extract(\"non us users\")"
   ]
  },
  {
   "cell_type": "code",
   "execution_count": 175,
   "metadata": {},
   "outputs": [
    {
     "ename": "AttributeError",
     "evalue": "'float' object has no attribute 'get'",
     "output_type": "error",
     "traceback": [
      "\u001b[0;31m---------------------------------------------------------------------------\u001b[0m",
      "\u001b[0;31mAttributeError\u001b[0m                            Traceback (most recent call last)",
      "\u001b[0;32m<ipython-input-175-964d501159d8>\u001b[0m in \u001b[0;36m<module>\u001b[0;34m\u001b[0m\n\u001b[1;32m      1\u001b[0m \u001b[0mextract\u001b[0m\u001b[0;34m(\u001b[0m\u001b[0;34m\"males\"\u001b[0m\u001b[0;34m)\u001b[0m\u001b[0;34m\u001b[0m\u001b[0;34m\u001b[0m\u001b[0m\n\u001b[0;32m----> 2\u001b[0;31m \u001b[0mextract\u001b[0m\u001b[0;34m(\u001b[0m\u001b[0;34m\"males aged under 18\"\u001b[0m\u001b[0;34m)\u001b[0m\u001b[0;34m\u001b[0m\u001b[0;34m\u001b[0m\u001b[0m\n\u001b[0m\u001b[1;32m      3\u001b[0m \u001b[0mextract\u001b[0m\u001b[0;34m(\u001b[0m\u001b[0;34m\"males aged 18 29\"\u001b[0m\u001b[0;34m)\u001b[0m\u001b[0;34m\u001b[0m\u001b[0;34m\u001b[0m\u001b[0m\n\u001b[1;32m      4\u001b[0m \u001b[0mextract\u001b[0m\u001b[0;34m(\u001b[0m\u001b[0;34m\"males aged 30 44\"\u001b[0m\u001b[0;34m)\u001b[0m\u001b[0;34m\u001b[0m\u001b[0;34m\u001b[0m\u001b[0m\n\u001b[1;32m      5\u001b[0m \u001b[0mextract\u001b[0m\u001b[0;34m(\u001b[0m\u001b[0;34m\"males aged 45 plus\"\u001b[0m\u001b[0;34m)\u001b[0m\u001b[0;34m\u001b[0m\u001b[0;34m\u001b[0m\u001b[0m\n",
      "\u001b[0;32m<ipython-input-156-a36474d5bcf8>\u001b[0m in \u001b[0;36mextract\u001b[0;34m(column)\u001b[0m\n\u001b[1;32m      5\u001b[0m \u001b[0;34m\u001b[0m\u001b[0m\n\u001b[1;32m      6\u001b[0m     \u001b[0;32mfor\u001b[0m \u001b[0mrow\u001b[0m \u001b[0;32min\u001b[0m \u001b[0mdf_voters\u001b[0m\u001b[0;34m[\u001b[0m\u001b[0mcolumn\u001b[0m\u001b[0;34m]\u001b[0m\u001b[0;34m:\u001b[0m\u001b[0;34m\u001b[0m\u001b[0;34m\u001b[0m\u001b[0m\n\u001b[0;32m----> 7\u001b[0;31m         \u001b[0mv\u001b[0m \u001b[0;34m=\u001b[0m \u001b[0mrow\u001b[0m\u001b[0;34m.\u001b[0m\u001b[0mget\u001b[0m\u001b[0;34m(\u001b[0m\u001b[0;34m'votes'\u001b[0m\u001b[0;34m)\u001b[0m\u001b[0;34m\u001b[0m\u001b[0;34m\u001b[0m\u001b[0m\n\u001b[0m\u001b[1;32m      8\u001b[0m         \u001b[0mr\u001b[0m \u001b[0;34m=\u001b[0m \u001b[0mrow\u001b[0m\u001b[0;34m.\u001b[0m\u001b[0mget\u001b[0m\u001b[0;34m(\u001b[0m\u001b[0;34m'rating'\u001b[0m\u001b[0;34m)\u001b[0m\u001b[0;34m\u001b[0m\u001b[0;34m\u001b[0m\u001b[0m\n\u001b[1;32m      9\u001b[0m         \u001b[0mvotes\u001b[0m\u001b[0;34m.\u001b[0m\u001b[0mappend\u001b[0m\u001b[0;34m(\u001b[0m\u001b[0mv\u001b[0m\u001b[0;34m)\u001b[0m\u001b[0;34m\u001b[0m\u001b[0;34m\u001b[0m\u001b[0m\n",
      "\u001b[0;31mAttributeError\u001b[0m: 'float' object has no attribute 'get'"
     ]
    }
   ],
   "source": [
    "extract(\"males\")\n",
    "extract(\"males aged under 18\")\n"
   ]
  },
  {
   "cell_type": "code",
   "execution_count": 176,
   "metadata": {},
   "outputs": [
    {
     "ename": "AttributeError",
     "evalue": "'float' object has no attribute 'get'",
     "output_type": "error",
     "traceback": [
      "\u001b[0;31m---------------------------------------------------------------------------\u001b[0m",
      "\u001b[0;31mAttributeError\u001b[0m                            Traceback (most recent call last)",
      "\u001b[0;32m<ipython-input-176-46d2e57802f9>\u001b[0m in \u001b[0;36m<module>\u001b[0;34m\u001b[0m\n\u001b[1;32m      1\u001b[0m \u001b[0mextract\u001b[0m\u001b[0;34m(\u001b[0m\u001b[0;34m\"males aged 18 29\"\u001b[0m\u001b[0;34m)\u001b[0m\u001b[0;34m\u001b[0m\u001b[0;34m\u001b[0m\u001b[0m\n\u001b[1;32m      2\u001b[0m \u001b[0mextract\u001b[0m\u001b[0;34m(\u001b[0m\u001b[0;34m\"males aged 30 44\"\u001b[0m\u001b[0;34m)\u001b[0m\u001b[0;34m\u001b[0m\u001b[0;34m\u001b[0m\u001b[0m\n\u001b[0;32m----> 3\u001b[0;31m \u001b[0mextract\u001b[0m\u001b[0;34m(\u001b[0m\u001b[0;34m\"males aged 45 plus\"\u001b[0m\u001b[0;34m)\u001b[0m\u001b[0;34m\u001b[0m\u001b[0;34m\u001b[0m\u001b[0m\n\u001b[0m\u001b[1;32m      4\u001b[0m \u001b[0mextract\u001b[0m\u001b[0;34m(\u001b[0m\u001b[0;34m\"females\"\u001b[0m\u001b[0;34m)\u001b[0m\u001b[0;34m\u001b[0m\u001b[0;34m\u001b[0m\u001b[0m\n\u001b[1;32m      5\u001b[0m \u001b[0mextract\u001b[0m\u001b[0;34m(\u001b[0m\u001b[0;34m\"females aged under 18\"\u001b[0m\u001b[0;34m)\u001b[0m\u001b[0;34m\u001b[0m\u001b[0;34m\u001b[0m\u001b[0m\n",
      "\u001b[0;32m<ipython-input-156-a36474d5bcf8>\u001b[0m in \u001b[0;36mextract\u001b[0;34m(column)\u001b[0m\n\u001b[1;32m      5\u001b[0m \u001b[0;34m\u001b[0m\u001b[0m\n\u001b[1;32m      6\u001b[0m     \u001b[0;32mfor\u001b[0m \u001b[0mrow\u001b[0m \u001b[0;32min\u001b[0m \u001b[0mdf_voters\u001b[0m\u001b[0;34m[\u001b[0m\u001b[0mcolumn\u001b[0m\u001b[0;34m]\u001b[0m\u001b[0;34m:\u001b[0m\u001b[0;34m\u001b[0m\u001b[0;34m\u001b[0m\u001b[0m\n\u001b[0;32m----> 7\u001b[0;31m         \u001b[0mv\u001b[0m \u001b[0;34m=\u001b[0m \u001b[0mrow\u001b[0m\u001b[0;34m.\u001b[0m\u001b[0mget\u001b[0m\u001b[0;34m(\u001b[0m\u001b[0;34m'votes'\u001b[0m\u001b[0;34m)\u001b[0m\u001b[0;34m\u001b[0m\u001b[0;34m\u001b[0m\u001b[0m\n\u001b[0m\u001b[1;32m      8\u001b[0m         \u001b[0mr\u001b[0m \u001b[0;34m=\u001b[0m \u001b[0mrow\u001b[0m\u001b[0;34m.\u001b[0m\u001b[0mget\u001b[0m\u001b[0;34m(\u001b[0m\u001b[0;34m'rating'\u001b[0m\u001b[0;34m)\u001b[0m\u001b[0;34m\u001b[0m\u001b[0;34m\u001b[0m\u001b[0m\n\u001b[1;32m      9\u001b[0m         \u001b[0mvotes\u001b[0m\u001b[0;34m.\u001b[0m\u001b[0mappend\u001b[0m\u001b[0;34m(\u001b[0m\u001b[0mv\u001b[0m\u001b[0;34m)\u001b[0m\u001b[0;34m\u001b[0m\u001b[0;34m\u001b[0m\u001b[0m\n",
      "\u001b[0;31mAttributeError\u001b[0m: 'float' object has no attribute 'get'"
     ]
    }
   ],
   "source": [
    "extract(\"males aged 18 29\")\n",
    "extract(\"males aged 30 44\")\n",
    "extract(\"males aged 45 plus\")\n"
   ]
  },
  {
   "cell_type": "code",
   "execution_count": 177,
   "metadata": {},
   "outputs": [
    {
     "ename": "AttributeError",
     "evalue": "'float' object has no attribute 'get'",
     "output_type": "error",
     "traceback": [
      "\u001b[0;31m---------------------------------------------------------------------------\u001b[0m",
      "\u001b[0;31mAttributeError\u001b[0m                            Traceback (most recent call last)",
      "\u001b[0;32m<ipython-input-177-9504fcc1d3db>\u001b[0m in \u001b[0;36m<module>\u001b[0;34m\u001b[0m\n\u001b[1;32m      1\u001b[0m \u001b[0mextract\u001b[0m\u001b[0;34m(\u001b[0m\u001b[0;34m\"females\"\u001b[0m\u001b[0;34m)\u001b[0m\u001b[0;34m\u001b[0m\u001b[0;34m\u001b[0m\u001b[0m\n\u001b[0;32m----> 2\u001b[0;31m \u001b[0mextract\u001b[0m\u001b[0;34m(\u001b[0m\u001b[0;34m\"females aged under 18\"\u001b[0m\u001b[0;34m)\u001b[0m\u001b[0;34m\u001b[0m\u001b[0;34m\u001b[0m\u001b[0m\n\u001b[0m\u001b[1;32m      3\u001b[0m \u001b[0mextract\u001b[0m\u001b[0;34m(\u001b[0m\u001b[0;34m\"females aged 18 29\"\u001b[0m\u001b[0;34m)\u001b[0m\u001b[0;34m\u001b[0m\u001b[0;34m\u001b[0m\u001b[0m\n\u001b[1;32m      4\u001b[0m \u001b[0mextract\u001b[0m\u001b[0;34m(\u001b[0m\u001b[0;34m\"females aged 30 44\"\u001b[0m\u001b[0;34m)\u001b[0m\u001b[0;34m\u001b[0m\u001b[0;34m\u001b[0m\u001b[0m\n\u001b[1;32m      5\u001b[0m \u001b[0mextract\u001b[0m\u001b[0;34m(\u001b[0m\u001b[0;34m\"females aged 45 plus\"\u001b[0m\u001b[0;34m)\u001b[0m\u001b[0;34m\u001b[0m\u001b[0;34m\u001b[0m\u001b[0m\n",
      "\u001b[0;32m<ipython-input-156-a36474d5bcf8>\u001b[0m in \u001b[0;36mextract\u001b[0;34m(column)\u001b[0m\n\u001b[1;32m      5\u001b[0m \u001b[0;34m\u001b[0m\u001b[0m\n\u001b[1;32m      6\u001b[0m     \u001b[0;32mfor\u001b[0m \u001b[0mrow\u001b[0m \u001b[0;32min\u001b[0m \u001b[0mdf_voters\u001b[0m\u001b[0;34m[\u001b[0m\u001b[0mcolumn\u001b[0m\u001b[0;34m]\u001b[0m\u001b[0;34m:\u001b[0m\u001b[0;34m\u001b[0m\u001b[0;34m\u001b[0m\u001b[0m\n\u001b[0;32m----> 7\u001b[0;31m         \u001b[0mv\u001b[0m \u001b[0;34m=\u001b[0m \u001b[0mrow\u001b[0m\u001b[0;34m.\u001b[0m\u001b[0mget\u001b[0m\u001b[0;34m(\u001b[0m\u001b[0;34m'votes'\u001b[0m\u001b[0;34m)\u001b[0m\u001b[0;34m\u001b[0m\u001b[0;34m\u001b[0m\u001b[0m\n\u001b[0m\u001b[1;32m      8\u001b[0m         \u001b[0mr\u001b[0m \u001b[0;34m=\u001b[0m \u001b[0mrow\u001b[0m\u001b[0;34m.\u001b[0m\u001b[0mget\u001b[0m\u001b[0;34m(\u001b[0m\u001b[0;34m'rating'\u001b[0m\u001b[0;34m)\u001b[0m\u001b[0;34m\u001b[0m\u001b[0;34m\u001b[0m\u001b[0m\n\u001b[1;32m      9\u001b[0m         \u001b[0mvotes\u001b[0m\u001b[0;34m.\u001b[0m\u001b[0mappend\u001b[0m\u001b[0;34m(\u001b[0m\u001b[0mv\u001b[0m\u001b[0;34m)\u001b[0m\u001b[0;34m\u001b[0m\u001b[0;34m\u001b[0m\u001b[0m\n",
      "\u001b[0;31mAttributeError\u001b[0m: 'float' object has no attribute 'get'"
     ]
    }
   ],
   "source": [
    "extract(\"females\")\n",
    "extract(\"females aged under 18\")\n"
   ]
  },
  {
   "cell_type": "code",
   "execution_count": 178,
   "metadata": {},
   "outputs": [
    {
     "ename": "AttributeError",
     "evalue": "'float' object has no attribute 'get'",
     "output_type": "error",
     "traceback": [
      "\u001b[0;31m---------------------------------------------------------------------------\u001b[0m",
      "\u001b[0;31mAttributeError\u001b[0m                            Traceback (most recent call last)",
      "\u001b[0;32m<ipython-input-178-6ba207b63ce1>\u001b[0m in \u001b[0;36m<module>\u001b[0;34m\u001b[0m\n\u001b[1;32m      1\u001b[0m \u001b[0mextract\u001b[0m\u001b[0;34m(\u001b[0m\u001b[0;34m\"females aged 18 29\"\u001b[0m\u001b[0;34m)\u001b[0m\u001b[0;34m\u001b[0m\u001b[0;34m\u001b[0m\u001b[0m\n\u001b[0;32m----> 2\u001b[0;31m \u001b[0mextract\u001b[0m\u001b[0;34m(\u001b[0m\u001b[0;34m\"females aged 30 44\"\u001b[0m\u001b[0;34m)\u001b[0m\u001b[0;34m\u001b[0m\u001b[0;34m\u001b[0m\u001b[0m\n\u001b[0m\u001b[1;32m      3\u001b[0m \u001b[0mextract\u001b[0m\u001b[0;34m(\u001b[0m\u001b[0;34m\"females aged 45 plus\"\u001b[0m\u001b[0;34m)\u001b[0m\u001b[0;34m\u001b[0m\u001b[0;34m\u001b[0m\u001b[0m\n\u001b[1;32m      4\u001b[0m \u001b[0mextract\u001b[0m\u001b[0;34m(\u001b[0m\u001b[0;34m\"top 1000 voters\"\u001b[0m\u001b[0;34m)\u001b[0m\u001b[0;34m\u001b[0m\u001b[0;34m\u001b[0m\u001b[0m\n\u001b[1;32m      5\u001b[0m \u001b[0mextract\u001b[0m\u001b[0;34m(\u001b[0m\u001b[0;34m\"us users\"\u001b[0m\u001b[0;34m)\u001b[0m\u001b[0;34m\u001b[0m\u001b[0;34m\u001b[0m\u001b[0m\n",
      "\u001b[0;32m<ipython-input-156-a36474d5bcf8>\u001b[0m in \u001b[0;36mextract\u001b[0;34m(column)\u001b[0m\n\u001b[1;32m      5\u001b[0m \u001b[0;34m\u001b[0m\u001b[0m\n\u001b[1;32m      6\u001b[0m     \u001b[0;32mfor\u001b[0m \u001b[0mrow\u001b[0m \u001b[0;32min\u001b[0m \u001b[0mdf_voters\u001b[0m\u001b[0;34m[\u001b[0m\u001b[0mcolumn\u001b[0m\u001b[0;34m]\u001b[0m\u001b[0;34m:\u001b[0m\u001b[0;34m\u001b[0m\u001b[0;34m\u001b[0m\u001b[0m\n\u001b[0;32m----> 7\u001b[0;31m         \u001b[0mv\u001b[0m \u001b[0;34m=\u001b[0m \u001b[0mrow\u001b[0m\u001b[0;34m.\u001b[0m\u001b[0mget\u001b[0m\u001b[0;34m(\u001b[0m\u001b[0;34m'votes'\u001b[0m\u001b[0;34m)\u001b[0m\u001b[0;34m\u001b[0m\u001b[0;34m\u001b[0m\u001b[0m\n\u001b[0m\u001b[1;32m      8\u001b[0m         \u001b[0mr\u001b[0m \u001b[0;34m=\u001b[0m \u001b[0mrow\u001b[0m\u001b[0;34m.\u001b[0m\u001b[0mget\u001b[0m\u001b[0;34m(\u001b[0m\u001b[0;34m'rating'\u001b[0m\u001b[0;34m)\u001b[0m\u001b[0;34m\u001b[0m\u001b[0;34m\u001b[0m\u001b[0m\n\u001b[1;32m      9\u001b[0m         \u001b[0mvotes\u001b[0m\u001b[0;34m.\u001b[0m\u001b[0mappend\u001b[0m\u001b[0;34m(\u001b[0m\u001b[0mv\u001b[0m\u001b[0;34m)\u001b[0m\u001b[0;34m\u001b[0m\u001b[0;34m\u001b[0m\u001b[0m\n",
      "\u001b[0;31mAttributeError\u001b[0m: 'float' object has no attribute 'get'"
     ]
    }
   ],
   "source": [
    "extract(\"females aged 18 29\")\n",
    "extract(\"females aged 30 44\")\n"
   ]
  },
  {
   "cell_type": "code",
   "execution_count": 179,
   "metadata": {},
   "outputs": [
    {
     "ename": "AttributeError",
     "evalue": "'float' object has no attribute 'get'",
     "output_type": "error",
     "traceback": [
      "\u001b[0;31m---------------------------------------------------------------------------\u001b[0m",
      "\u001b[0;31mAttributeError\u001b[0m                            Traceback (most recent call last)",
      "\u001b[0;32m<ipython-input-179-d4770fa5aadc>\u001b[0m in \u001b[0;36m<module>\u001b[0;34m\u001b[0m\n\u001b[0;32m----> 1\u001b[0;31m \u001b[0mextract\u001b[0m\u001b[0;34m(\u001b[0m\u001b[0;34m\"females aged 45 plus\"\u001b[0m\u001b[0;34m)\u001b[0m\u001b[0;34m\u001b[0m\u001b[0;34m\u001b[0m\u001b[0m\n\u001b[0m\u001b[1;32m      2\u001b[0m \u001b[0mextract\u001b[0m\u001b[0;34m(\u001b[0m\u001b[0;34m\"top 1000 voters\"\u001b[0m\u001b[0;34m)\u001b[0m\u001b[0;34m\u001b[0m\u001b[0;34m\u001b[0m\u001b[0m\n\u001b[1;32m      3\u001b[0m \u001b[0mextract\u001b[0m\u001b[0;34m(\u001b[0m\u001b[0;34m\"us users\"\u001b[0m\u001b[0;34m)\u001b[0m\u001b[0;34m\u001b[0m\u001b[0;34m\u001b[0m\u001b[0m\n\u001b[1;32m      4\u001b[0m \u001b[0mextract\u001b[0m\u001b[0;34m(\u001b[0m\u001b[0;34m\"non us users\"\u001b[0m\u001b[0;34m)\u001b[0m\u001b[0;34m\u001b[0m\u001b[0;34m\u001b[0m\u001b[0m\n",
      "\u001b[0;32m<ipython-input-156-a36474d5bcf8>\u001b[0m in \u001b[0;36mextract\u001b[0;34m(column)\u001b[0m\n\u001b[1;32m      5\u001b[0m \u001b[0;34m\u001b[0m\u001b[0m\n\u001b[1;32m      6\u001b[0m     \u001b[0;32mfor\u001b[0m \u001b[0mrow\u001b[0m \u001b[0;32min\u001b[0m \u001b[0mdf_voters\u001b[0m\u001b[0;34m[\u001b[0m\u001b[0mcolumn\u001b[0m\u001b[0;34m]\u001b[0m\u001b[0;34m:\u001b[0m\u001b[0;34m\u001b[0m\u001b[0;34m\u001b[0m\u001b[0m\n\u001b[0;32m----> 7\u001b[0;31m         \u001b[0mv\u001b[0m \u001b[0;34m=\u001b[0m \u001b[0mrow\u001b[0m\u001b[0;34m.\u001b[0m\u001b[0mget\u001b[0m\u001b[0;34m(\u001b[0m\u001b[0;34m'votes'\u001b[0m\u001b[0;34m)\u001b[0m\u001b[0;34m\u001b[0m\u001b[0;34m\u001b[0m\u001b[0m\n\u001b[0m\u001b[1;32m      8\u001b[0m         \u001b[0mr\u001b[0m \u001b[0;34m=\u001b[0m \u001b[0mrow\u001b[0m\u001b[0;34m.\u001b[0m\u001b[0mget\u001b[0m\u001b[0;34m(\u001b[0m\u001b[0;34m'rating'\u001b[0m\u001b[0;34m)\u001b[0m\u001b[0;34m\u001b[0m\u001b[0;34m\u001b[0m\u001b[0m\n\u001b[1;32m      9\u001b[0m         \u001b[0mvotes\u001b[0m\u001b[0;34m.\u001b[0m\u001b[0mappend\u001b[0m\u001b[0;34m(\u001b[0m\u001b[0mv\u001b[0m\u001b[0;34m)\u001b[0m\u001b[0;34m\u001b[0m\u001b[0;34m\u001b[0m\u001b[0m\n",
      "\u001b[0;31mAttributeError\u001b[0m: 'float' object has no attribute 'get'"
     ]
    }
   ],
   "source": [
    "extract(\"females aged 45 plus\")\n"
   ]
  },
  {
   "cell_type": "code",
   "execution_count": 180,
   "metadata": {},
   "outputs": [],
   "source": [
    "extract(\"top 1000 voters\")\n",
    "extract(\"us users\")\n",
    "extract(\"non us users\")"
   ]
  },
  {
   "cell_type": "code",
   "execution_count": 181,
   "metadata": {},
   "outputs": [
    {
     "data": {
      "text/html": [
       "<div>\n",
       "<style scoped>\n",
       "    .dataframe tbody tr th:only-of-type {\n",
       "        vertical-align: middle;\n",
       "    }\n",
       "\n",
       "    .dataframe tbody tr th {\n",
       "        vertical-align: top;\n",
       "    }\n",
       "\n",
       "    .dataframe thead th {\n",
       "        text-align: right;\n",
       "    }\n",
       "</style>\n",
       "<table border=\"1\" class=\"dataframe\">\n",
       "  <thead>\n",
       "    <tr style=\"text-align: right;\">\n",
       "      <th></th>\n",
       "      <th>v males</th>\n",
       "      <th>v females</th>\n",
       "      <th>v imdb users</th>\n",
       "      <th>v aged 18 29</th>\n",
       "      <th>v aged 30 44</th>\n",
       "      <th>v males aged 18 29</th>\n",
       "      <th>v males aged 30 44</th>\n",
       "      <th>v females aged 18 29</th>\n",
       "      <th>v top 1000 voters</th>\n",
       "      <th>v us users</th>\n",
       "      <th>v non us users</th>\n",
       "    </tr>\n",
       "  </thead>\n",
       "  <tbody>\n",
       "    <tr>\n",
       "      <th>0</th>\n",
       "      <td>339750</td>\n",
       "      <td>73321</td>\n",
       "      <td>567540</td>\n",
       "      <td>132311</td>\n",
       "      <td>205346</td>\n",
       "      <td>102321</td>\n",
       "      <td>170164</td>\n",
       "      <td>27500</td>\n",
       "      <td>760</td>\n",
       "      <td>72690</td>\n",
       "      <td>216868</td>\n",
       "    </tr>\n",
       "    <tr>\n",
       "      <th>1</th>\n",
       "      <td>132554</td>\n",
       "      <td>17230</td>\n",
       "      <td>214649</td>\n",
       "      <td>41605</td>\n",
       "      <td>75292</td>\n",
       "      <td>33366</td>\n",
       "      <td>65612</td>\n",
       "      <td>5677</td>\n",
       "      <td>437</td>\n",
       "      <td>22435</td>\n",
       "      <td>82891</td>\n",
       "    </tr>\n",
       "    <tr>\n",
       "      <th>2</th>\n",
       "      <td>139504</td>\n",
       "      <td>21572</td>\n",
       "      <td>237700</td>\n",
       "      <td>55420</td>\n",
       "      <td>74585</td>\n",
       "      <td>44182</td>\n",
       "      <td>63708</td>\n",
       "      <td>7895</td>\n",
       "      <td>520</td>\n",
       "      <td>28026</td>\n",
       "      <td>84745</td>\n",
       "    </tr>\n",
       "    <tr>\n",
       "      <th>3</th>\n",
       "      <td>299525</td>\n",
       "      <td>72851</td>\n",
       "      <td>532866</td>\n",
       "      <td>122368</td>\n",
       "      <td>168568</td>\n",
       "      <td>91663</td>\n",
       "      <td>136770</td>\n",
       "      <td>27532</td>\n",
       "      <td>724</td>\n",
       "      <td>67417</td>\n",
       "      <td>189546</td>\n",
       "    </tr>\n",
       "    <tr>\n",
       "      <th>4</th>\n",
       "      <td>5792</td>\n",
       "      <td>2318</td>\n",
       "      <td>10721</td>\n",
       "      <td>1997</td>\n",
       "      <td>3934</td>\n",
       "      <td>1253</td>\n",
       "      <td>2783</td>\n",
       "      <td>714</td>\n",
       "      <td>119</td>\n",
       "      <td>1401</td>\n",
       "      <td>4733</td>\n",
       "    </tr>\n",
       "  </tbody>\n",
       "</table>\n",
       "</div>"
      ],
      "text/plain": [
       "   v males  v females  v imdb users  v aged 18 29  v aged 30 44  \\\n",
       "0   339750      73321        567540        132311        205346   \n",
       "1   132554      17230        214649         41605         75292   \n",
       "2   139504      21572        237700         55420         74585   \n",
       "3   299525      72851        532866        122368        168568   \n",
       "4     5792       2318         10721          1997          3934   \n",
       "\n",
       "   v males aged 18 29  v males aged 30 44  v females aged 18 29  \\\n",
       "0              102321              170164                 27500   \n",
       "1               33366               65612                  5677   \n",
       "2               44182               63708                  7895   \n",
       "3               91663              136770                 27532   \n",
       "4                1253                2783                   714   \n",
       "\n",
       "   v top 1000 voters  v us users  v non us users  \n",
       "0                760       72690          216868  \n",
       "1                437       22435           82891  \n",
       "2                520       28026           84745  \n",
       "3                724       67417          189546  \n",
       "4                119        1401            4733  "
      ]
     },
     "execution_count": 181,
     "metadata": {},
     "output_type": "execute_result"
    }
   ],
   "source": [
    "df_demovotes.head()"
   ]
  },
  {
   "cell_type": "code",
   "execution_count": 182,
   "metadata": {},
   "outputs": [
    {
     "data": {
      "text/html": [
       "<div>\n",
       "<style scoped>\n",
       "    .dataframe tbody tr th:only-of-type {\n",
       "        vertical-align: middle;\n",
       "    }\n",
       "\n",
       "    .dataframe tbody tr th {\n",
       "        vertical-align: top;\n",
       "    }\n",
       "\n",
       "    .dataframe thead th {\n",
       "        text-align: right;\n",
       "    }\n",
       "</style>\n",
       "<table border=\"1\" class=\"dataframe\">\n",
       "  <thead>\n",
       "    <tr style=\"text-align: right;\">\n",
       "      <th></th>\n",
       "      <th>r males</th>\n",
       "      <th>r females</th>\n",
       "      <th>r imdb users</th>\n",
       "      <th>r aged 18 29</th>\n",
       "      <th>r aged 30 44</th>\n",
       "      <th>r males aged 18 29</th>\n",
       "      <th>r males aged 30 44</th>\n",
       "      <th>r females aged 18 29</th>\n",
       "      <th>r top 1000 voters</th>\n",
       "      <th>r us users</th>\n",
       "      <th>r non us users</th>\n",
       "    </tr>\n",
       "  </thead>\n",
       "  <tbody>\n",
       "    <tr>\n",
       "      <th>0</th>\n",
       "      <td>6.9</td>\n",
       "      <td>7.3</td>\n",
       "      <td>7.0</td>\n",
       "      <td>7.1</td>\n",
       "      <td>6.9</td>\n",
       "      <td>7.0</td>\n",
       "      <td>6.8</td>\n",
       "      <td>7.4</td>\n",
       "      <td>6.8</td>\n",
       "      <td>7.1</td>\n",
       "      <td>6.8</td>\n",
       "    </tr>\n",
       "    <tr>\n",
       "      <th>1</th>\n",
       "      <td>7.3</td>\n",
       "      <td>7.3</td>\n",
       "      <td>7.3</td>\n",
       "      <td>7.2</td>\n",
       "      <td>7.3</td>\n",
       "      <td>7.2</td>\n",
       "      <td>7.3</td>\n",
       "      <td>7.2</td>\n",
       "      <td>6.8</td>\n",
       "      <td>7.3</td>\n",
       "      <td>7.2</td>\n",
       "    </tr>\n",
       "    <tr>\n",
       "      <th>2</th>\n",
       "      <td>7.0</td>\n",
       "      <td>7.2</td>\n",
       "      <td>7.1</td>\n",
       "      <td>7.2</td>\n",
       "      <td>6.9</td>\n",
       "      <td>7.1</td>\n",
       "      <td>6.9</td>\n",
       "      <td>7.3</td>\n",
       "      <td>6.8</td>\n",
       "      <td>7.3</td>\n",
       "      <td>6.9</td>\n",
       "    </tr>\n",
       "    <tr>\n",
       "      <th>3</th>\n",
       "      <td>7.3</td>\n",
       "      <td>7.8</td>\n",
       "      <td>7.4</td>\n",
       "      <td>7.5</td>\n",
       "      <td>7.3</td>\n",
       "      <td>7.5</td>\n",
       "      <td>7.2</td>\n",
       "      <td>7.9</td>\n",
       "      <td>7.0</td>\n",
       "      <td>7.7</td>\n",
       "      <td>7.2</td>\n",
       "    </tr>\n",
       "    <tr>\n",
       "      <th>4</th>\n",
       "      <td>6.3</td>\n",
       "      <td>6.4</td>\n",
       "      <td>6.3</td>\n",
       "      <td>6.3</td>\n",
       "      <td>6.3</td>\n",
       "      <td>6.2</td>\n",
       "      <td>6.2</td>\n",
       "      <td>6.5</td>\n",
       "      <td>5.0</td>\n",
       "      <td>6.3</td>\n",
       "      <td>6.2</td>\n",
       "    </tr>\n",
       "  </tbody>\n",
       "</table>\n",
       "</div>"
      ],
      "text/plain": [
       "   r males  r females  r imdb users  r aged 18 29  r aged 30 44  \\\n",
       "0      6.9        7.3           7.0           7.1           6.9   \n",
       "1      7.3        7.3           7.3           7.2           7.3   \n",
       "2      7.0        7.2           7.1           7.2           6.9   \n",
       "3      7.3        7.8           7.4           7.5           7.3   \n",
       "4      6.3        6.4           6.3           6.3           6.3   \n",
       "\n",
       "   r males aged 18 29  r males aged 30 44  r females aged 18 29  \\\n",
       "0                 7.0                 6.8                   7.4   \n",
       "1                 7.2                 7.3                   7.2   \n",
       "2                 7.1                 6.9                   7.3   \n",
       "3                 7.5                 7.2                   7.9   \n",
       "4                 6.2                 6.2                   6.5   \n",
       "\n",
       "   r top 1000 voters  r us users  r non us users  \n",
       "0                6.8         7.1             6.8  \n",
       "1                6.8         7.3             7.2  \n",
       "2                6.8         7.3             6.9  \n",
       "3                7.0         7.7             7.2  \n",
       "4                5.0         6.3             6.2  "
      ]
     },
     "execution_count": 182,
     "metadata": {},
     "output_type": "execute_result"
    }
   ],
   "source": [
    "df_demoratings.head()"
   ]
  },
  {
   "cell_type": "code",
   "execution_count": 184,
   "metadata": {},
   "outputs": [
    {
     "name": "stdout",
     "output_type": "stream",
     "text": [
      "833\n",
      "833\n"
     ]
    }
   ],
   "source": [
    "print(len(df_demoratings))\n",
    "print(len(df_demovotes))"
   ]
  },
  {
   "cell_type": "code",
   "execution_count": 185,
   "metadata": {},
   "outputs": [
    {
     "name": "stdout",
     "output_type": "stream",
     "text": [
      "833\n"
     ]
    }
   ],
   "source": [
    "print(len(full_df))"
   ]
  },
  {
   "cell_type": "code",
   "execution_count": 189,
   "metadata": {},
   "outputs": [],
   "source": [
    "full_df = full_df.join(df_demoratings)"
   ]
  },
  {
   "cell_type": "code",
   "execution_count": 190,
   "metadata": {},
   "outputs": [
    {
     "name": "stdout",
     "output_type": "stream",
     "text": [
      "<class 'pandas.core.frame.DataFrame'>\n",
      "Int64Index: 833 entries, 0 to 832\n",
      "Data columns (total 31 columns):\n",
      " #   Column                Non-Null Count  Dtype  \n",
      "---  ------                --------------  -----  \n",
      " 0   index                 833 non-null    int64  \n",
      " 1   tconst                833 non-null    object \n",
      " 2   primary_title         833 non-null    object \n",
      " 3   original_title        833 non-null    object \n",
      " 4   start_year            833 non-null    int64  \n",
      " 5   runtime_minutes       833 non-null    float64\n",
      " 6   genres                833 non-null    object \n",
      " 7   averagerating         833 non-null    float64\n",
      " 8   numvotes              833 non-null    float64\n",
      " 9   actor                 785 non-null    object \n",
      " 10  actress               716 non-null    object \n",
      " 11  composer              396 non-null    object \n",
      " 12  director              806 non-null    object \n",
      " 13  editor                122 non-null    object \n",
      " 14  producer              694 non-null    object \n",
      " 15  writer                675 non-null    object \n",
      " 16  budget                833 non-null    object \n",
      " 17  usa_opening_wknd      833 non-null    object \n",
      " 18  global_gross          833 non-null    object \n",
      " 19  movrating             720 non-null    object \n",
      " 20  r males               833 non-null    float64\n",
      " 21  r females             833 non-null    float64\n",
      " 22  r imdb users          833 non-null    float64\n",
      " 23  r aged 18 29          833 non-null    float64\n",
      " 24  r aged 30 44          833 non-null    float64\n",
      " 25  r males aged 18 29    833 non-null    float64\n",
      " 26  r males aged 30 44    833 non-null    float64\n",
      " 27  r females aged 18 29  833 non-null    float64\n",
      " 28  r top 1000 voters     833 non-null    float64\n",
      " 29  r us users            833 non-null    float64\n",
      " 30  r non us users        833 non-null    float64\n",
      "dtypes: float64(14), int64(2), object(15)\n",
      "memory usage: 248.2+ KB\n"
     ]
    }
   ],
   "source": [
    "full_df.info()"
   ]
  },
  {
   "cell_type": "code",
   "execution_count": 192,
   "metadata": {},
   "outputs": [],
   "source": [
    "full_df.to_csv('full_df_backup.csv')"
   ]
  },
  {
   "cell_type": "markdown",
   "metadata": {},
   "source": [
    "## Final review and cleaning"
   ]
  },
  {
   "cell_type": "code",
   "execution_count": 209,
   "metadata": {},
   "outputs": [],
   "source": [
    "# drop rows that dont contain a value in column 19: movrating\n",
    "# drop the index, averagerating, and numvotes columns (index unneeded post-joins, avgrating/numvotes are dups)\n",
    "\n",
    "final_df = full_df.drop(['index', 'averagerating', 'numvotes'], axis = 1)\n",
    "\n",
    "final_df = final_df[final_df.movrating.notnull()]"
   ]
  },
  {
   "cell_type": "code",
   "execution_count": 210,
   "metadata": {},
   "outputs": [
    {
     "name": "stdout",
     "output_type": "stream",
     "text": [
      "<class 'pandas.core.frame.DataFrame'>\n",
      "Int64Index: 720 entries, 0 to 829\n",
      "Data columns (total 28 columns):\n",
      " #   Column                Non-Null Count  Dtype  \n",
      "---  ------                --------------  -----  \n",
      " 0   tconst                720 non-null    object \n",
      " 1   primary_title         720 non-null    object \n",
      " 2   original_title        720 non-null    object \n",
      " 3   start_year            720 non-null    int64  \n",
      " 4   runtime_minutes       720 non-null    float64\n",
      " 5   genres                720 non-null    object \n",
      " 6   actor                 680 non-null    object \n",
      " 7   actress               619 non-null    object \n",
      " 8   composer              324 non-null    object \n",
      " 9   director              701 non-null    object \n",
      " 10  editor                91 non-null     object \n",
      " 11  producer              612 non-null    object \n",
      " 12  writer                599 non-null    object \n",
      " 13  budget                720 non-null    object \n",
      " 14  usa_opening_wknd      720 non-null    object \n",
      " 15  global_gross          720 non-null    object \n",
      " 16  movrating             720 non-null    object \n",
      " 17  r males               720 non-null    float64\n",
      " 18  r females             720 non-null    float64\n",
      " 19  r imdb users          720 non-null    float64\n",
      " 20  r aged 18 29          720 non-null    float64\n",
      " 21  r aged 30 44          720 non-null    float64\n",
      " 22  r males aged 18 29    720 non-null    float64\n",
      " 23  r males aged 30 44    720 non-null    float64\n",
      " 24  r females aged 18 29  720 non-null    float64\n",
      " 25  r top 1000 voters     720 non-null    float64\n",
      " 26  r us users            720 non-null    float64\n",
      " 27  r non us users        720 non-null    float64\n",
      "dtypes: float64(12), int64(1), object(15)\n",
      "memory usage: 163.1+ KB\n"
     ]
    }
   ],
   "source": [
    "final_df.info()"
   ]
  },
  {
   "cell_type": "code",
   "execution_count": 215,
   "metadata": {},
   "outputs": [
    {
     "data": {
      "text/plain": [
       "$3,500,000      2\n",
       "$90,000,000     2\n",
       "$23,000,000     1\n",
       "$106,380,000    1\n",
       "$387,663,547    1\n",
       "               ..\n",
       "$11,430,025     1\n",
       "$773,512,274    1\n",
       "$65,146,020     1\n",
       "$15,871,398     1\n",
       "$101,134,059    1\n",
       "Name: global_gross, Length: 718, dtype: int64"
      ]
     },
     "execution_count": 215,
     "metadata": {},
     "output_type": "execute_result"
    }
   ],
   "source": [
    "# remove dollar signs, commas and other text from budget, usa_opening_wknd, and global_gross columns\n",
    "# convert budget, usa_opening_wknd, and global_gross columns to float\n",
    "final_df.global_gross.value_counts()"
   ]
  },
  {
   "cell_type": "code",
   "execution_count": 232,
   "metadata": {},
   "outputs": [],
   "source": [
    "final_df[['budget', 'usa_opening_wknd', 'global_gross']] = final_df[['budget', 'usa_opening_wknd', 'global_gross']].astype('str')"
   ]
  },
  {
   "cell_type": "code",
   "execution_count": 233,
   "metadata": {},
   "outputs": [],
   "source": [
    "final_df['budg'] = final_df['budget'].map(lambda x: x.replace(',',''))\n",
    "final_df['usa_open'] = final_df['usa_opening_wknd'].map(lambda x: x.replace(',',''))\n",
    "final_df['glogross'] = final_df['global_gross'].map(lambda x: x.replace(',',''))"
   ]
  },
  {
   "cell_type": "code",
   "execution_count": 237,
   "metadata": {},
   "outputs": [
    {
     "data": {
      "text/html": [
       "<div>\n",
       "<style scoped>\n",
       "    .dataframe tbody tr th:only-of-type {\n",
       "        vertical-align: middle;\n",
       "    }\n",
       "\n",
       "    .dataframe tbody tr th {\n",
       "        vertical-align: top;\n",
       "    }\n",
       "\n",
       "    .dataframe thead th {\n",
       "        text-align: right;\n",
       "    }\n",
       "</style>\n",
       "<table border=\"1\" class=\"dataframe\">\n",
       "  <thead>\n",
       "    <tr style=\"text-align: right;\">\n",
       "      <th></th>\n",
       "      <th>budg</th>\n",
       "      <th>usa_open</th>\n",
       "      <th>glogross</th>\n",
       "    </tr>\n",
       "  </thead>\n",
       "  <tbody>\n",
       "    <tr>\n",
       "      <th>0</th>\n",
       "      <td>$150000000 (estimated)</td>\n",
       "      <td>$208806270 12 Jun 2015</td>\n",
       "      <td>$1648854864</td>\n",
       "    </tr>\n",
       "    <tr>\n",
       "      <th>1</th>\n",
       "      <td>$170000000 (estimated)</td>\n",
       "      <td>$28525613 17 Feb 2019</td>\n",
       "      <td>$404852543</td>\n",
       "    </tr>\n",
       "    <tr>\n",
       "      <th>2</th>\n",
       "      <td>$100000000 (estimated)</td>\n",
       "      <td>$53505326 07 Apr 2019</td>\n",
       "      <td>$365971656</td>\n",
       "    </tr>\n",
       "    <tr>\n",
       "      <th>3</th>\n",
       "      <td>$149000000 (estimated)</td>\n",
       "      <td>$103251471 04 Jun 2017</td>\n",
       "      <td>$821763408</td>\n",
       "    </tr>\n",
       "    <tr>\n",
       "      <th>4</th>\n",
       "      <td>0</td>\n",
       "      <td>$54458 13 Aug 2017</td>\n",
       "      <td>$494123</td>\n",
       "    </tr>\n",
       "  </tbody>\n",
       "</table>\n",
       "</div>"
      ],
      "text/plain": [
       "                     budg                usa_open     glogross\n",
       "0  $150000000 (estimated)  $208806270 12 Jun 2015  $1648854864\n",
       "1  $170000000 (estimated)   $28525613 17 Feb 2019   $404852543\n",
       "2  $100000000 (estimated)   $53505326 07 Apr 2019   $365971656\n",
       "3  $149000000 (estimated)  $103251471 04 Jun 2017   $821763408\n",
       "4                       0      $54458 13 Aug 2017      $494123"
      ]
     },
     "execution_count": 237,
     "metadata": {},
     "output_type": "execute_result"
    }
   ],
   "source": [
    "final_df[['budg', 'usa_open', 'glogross']].head()"
   ]
  },
  {
   "cell_type": "code",
   "execution_count": 236,
   "metadata": {},
   "outputs": [],
   "source": [
    "final_df['budget'] = final_df['budg'].map(lambda x: x.replace('$',''))\n",
    "final_df['usa_opening_wknd'] = final_df['usa_open'].map(lambda x: x.replace('$',''))\n",
    "final_df['global_gross'] = final_df['glogross'].map(lambda x: x.replace('$',''))"
   ]
  },
  {
   "cell_type": "code",
   "execution_count": 238,
   "metadata": {},
   "outputs": [
    {
     "data": {
      "text/html": [
       "<div>\n",
       "<style scoped>\n",
       "    .dataframe tbody tr th:only-of-type {\n",
       "        vertical-align: middle;\n",
       "    }\n",
       "\n",
       "    .dataframe tbody tr th {\n",
       "        vertical-align: top;\n",
       "    }\n",
       "\n",
       "    .dataframe thead th {\n",
       "        text-align: right;\n",
       "    }\n",
       "</style>\n",
       "<table border=\"1\" class=\"dataframe\">\n",
       "  <thead>\n",
       "    <tr style=\"text-align: right;\">\n",
       "      <th></th>\n",
       "      <th>budget</th>\n",
       "      <th>usa_opening_wknd</th>\n",
       "      <th>global_gross</th>\n",
       "    </tr>\n",
       "  </thead>\n",
       "  <tbody>\n",
       "    <tr>\n",
       "      <th>0</th>\n",
       "      <td>150000000 (estimated)</td>\n",
       "      <td>208806270 12 Jun 2015</td>\n",
       "      <td>1648854864</td>\n",
       "    </tr>\n",
       "    <tr>\n",
       "      <th>1</th>\n",
       "      <td>170000000 (estimated)</td>\n",
       "      <td>28525613 17 Feb 2019</td>\n",
       "      <td>404852543</td>\n",
       "    </tr>\n",
       "    <tr>\n",
       "      <th>2</th>\n",
       "      <td>100000000 (estimated)</td>\n",
       "      <td>53505326 07 Apr 2019</td>\n",
       "      <td>365971656</td>\n",
       "    </tr>\n",
       "    <tr>\n",
       "      <th>3</th>\n",
       "      <td>149000000 (estimated)</td>\n",
       "      <td>103251471 04 Jun 2017</td>\n",
       "      <td>821763408</td>\n",
       "    </tr>\n",
       "    <tr>\n",
       "      <th>4</th>\n",
       "      <td>0</td>\n",
       "      <td>54458 13 Aug 2017</td>\n",
       "      <td>494123</td>\n",
       "    </tr>\n",
       "  </tbody>\n",
       "</table>\n",
       "</div>"
      ],
      "text/plain": [
       "                  budget       usa_opening_wknd global_gross\n",
       "0  150000000 (estimated)  208806270 12 Jun 2015   1648854864\n",
       "1  170000000 (estimated)   28525613 17 Feb 2019    404852543\n",
       "2  100000000 (estimated)   53505326 07 Apr 2019    365971656\n",
       "3  149000000 (estimated)  103251471 04 Jun 2017    821763408\n",
       "4                      0      54458 13 Aug 2017       494123"
      ]
     },
     "execution_count": 238,
     "metadata": {},
     "output_type": "execute_result"
    }
   ],
   "source": [
    "final_df[['budget', 'usa_opening_wknd', 'global_gross']].head()"
   ]
  },
  {
   "cell_type": "code",
   "execution_count": 243,
   "metadata": {},
   "outputs": [],
   "source": [
    "final_df['budg'] = final_df['budget'].map(lambda x: x.replace(' (estimated)',''))"
   ]
  },
  {
   "cell_type": "code",
   "execution_count": 245,
   "metadata": {},
   "outputs": [
    {
     "data": {
      "text/plain": [
       "0                132\n",
       "20000000          27\n",
       "30000000          22\n",
       "40000000          21\n",
       "35000000          18\n",
       "                ... \n",
       "14800000           1\n",
       "INR200000000       1\n",
       "155000000          1\n",
       "129000000          1\n",
       "INR1800000000      1\n",
       "Name: budg, Length: 199, dtype: int64"
      ]
     },
     "execution_count": 245,
     "metadata": {},
     "output_type": "execute_result"
    }
   ],
   "source": [
    "final_df['budg'].value_counts()"
   ]
  },
  {
   "cell_type": "code",
   "execution_count": 251,
   "metadata": {},
   "outputs": [],
   "source": [
    "# dropping rows where budgets aren't in US dollars -- just to be safe re: global gross values\n",
    "final_df = final_df[(final_df.budg.str.match('(\\d)')==True)]"
   ]
  },
  {
   "cell_type": "code",
   "execution_count": 252,
   "metadata": {},
   "outputs": [
    {
     "name": "stdout",
     "output_type": "stream",
     "text": [
      "<class 'pandas.core.frame.DataFrame'>\n",
      "Int64Index: 683 entries, 0 to 829\n",
      "Data columns (total 31 columns):\n",
      " #   Column                Non-Null Count  Dtype  \n",
      "---  ------                --------------  -----  \n",
      " 0   tconst                683 non-null    object \n",
      " 1   primary_title         683 non-null    object \n",
      " 2   original_title        683 non-null    object \n",
      " 3   start_year            683 non-null    int64  \n",
      " 4   runtime_minutes       683 non-null    float64\n",
      " 5   genres                683 non-null    object \n",
      " 6   actor                 646 non-null    object \n",
      " 7   actress               587 non-null    object \n",
      " 8   composer              303 non-null    object \n",
      " 9   director              664 non-null    object \n",
      " 10  editor                84 non-null     object \n",
      " 11  producer              577 non-null    object \n",
      " 12  writer                571 non-null    object \n",
      " 13  budget                683 non-null    object \n",
      " 14  usa_opening_wknd      683 non-null    object \n",
      " 15  global_gross          683 non-null    object \n",
      " 16  movrating             683 non-null    object \n",
      " 17  r males               683 non-null    float64\n",
      " 18  r females             683 non-null    float64\n",
      " 19  r imdb users          683 non-null    float64\n",
      " 20  r aged 18 29          683 non-null    float64\n",
      " 21  r aged 30 44          683 non-null    float64\n",
      " 22  r males aged 18 29    683 non-null    float64\n",
      " 23  r males aged 30 44    683 non-null    float64\n",
      " 24  r females aged 18 29  683 non-null    float64\n",
      " 25  r top 1000 voters     683 non-null    float64\n",
      " 26  r us users            683 non-null    float64\n",
      " 27  r non us users        683 non-null    float64\n",
      " 28  budg                  683 non-null    object \n",
      " 29  usa_open              683 non-null    object \n",
      " 30  glogross              683 non-null    object \n",
      "dtypes: float64(12), int64(1), object(18)\n",
      "memory usage: 170.8+ KB\n"
     ]
    }
   ],
   "source": [
    "final_df.info()"
   ]
  },
  {
   "cell_type": "code",
   "execution_count": 255,
   "metadata": {},
   "outputs": [],
   "source": [
    "final_df = final_df.drop('budget', axis=1)\n",
    "final_df.rename(columns={'budg':'budget'}, inplace=True)"
   ]
  },
  {
   "cell_type": "code",
   "execution_count": 256,
   "metadata": {},
   "outputs": [],
   "source": [
    "# remove date info from usa opening weekend column\n",
    "final_df['usa_open'] = final_df['usa_opening_wknd'].map(lambda x: x[:-12])"
   ]
  },
  {
   "cell_type": "code",
   "execution_count": 257,
   "metadata": {},
   "outputs": [
    {
     "data": {
      "text/plain": [
       "            297\n",
       "5988370       1\n",
       "9740064       1\n",
       "10845330      1\n",
       "26608020      1\n",
       "           ... \n",
       "33600000      1\n",
       "9497665       1\n",
       "46607250      1\n",
       "11756244      1\n",
       "9445456       1\n",
       "Name: usa_open, Length: 387, dtype: int64"
      ]
     },
     "execution_count": 257,
     "metadata": {},
     "output_type": "execute_result"
    }
   ],
   "source": [
    "final_df['usa_open'].value_counts()"
   ]
  },
  {
   "cell_type": "code",
   "execution_count": 258,
   "metadata": {},
   "outputs": [
    {
     "name": "stdout",
     "output_type": "stream",
     "text": [
      "<class 'pandas.core.frame.DataFrame'>\n",
      "Int64Index: 683 entries, 0 to 829\n",
      "Data columns (total 30 columns):\n",
      " #   Column                Non-Null Count  Dtype  \n",
      "---  ------                --------------  -----  \n",
      " 0   tconst                683 non-null    object \n",
      " 1   primary_title         683 non-null    object \n",
      " 2   original_title        683 non-null    object \n",
      " 3   start_year            683 non-null    int64  \n",
      " 4   runtime_minutes       683 non-null    float64\n",
      " 5   genres                683 non-null    object \n",
      " 6   actor                 646 non-null    object \n",
      " 7   actress               587 non-null    object \n",
      " 8   composer              303 non-null    object \n",
      " 9   director              664 non-null    object \n",
      " 10  editor                84 non-null     object \n",
      " 11  producer              577 non-null    object \n",
      " 12  writer                571 non-null    object \n",
      " 13  usa_opening_wknd      683 non-null    object \n",
      " 14  global_gross          683 non-null    object \n",
      " 15  movrating             683 non-null    object \n",
      " 16  r males               683 non-null    float64\n",
      " 17  r females             683 non-null    float64\n",
      " 18  r imdb users          683 non-null    float64\n",
      " 19  r aged 18 29          683 non-null    float64\n",
      " 20  r aged 30 44          683 non-null    float64\n",
      " 21  r males aged 18 29    683 non-null    float64\n",
      " 22  r males aged 30 44    683 non-null    float64\n",
      " 23  r females aged 18 29  683 non-null    float64\n",
      " 24  r top 1000 voters     683 non-null    float64\n",
      " 25  r us users            683 non-null    float64\n",
      " 26  r non us users        683 non-null    float64\n",
      " 27  budget                683 non-null    object \n",
      " 28  usa_open              683 non-null    object \n",
      " 29  glogross              683 non-null    object \n",
      "dtypes: float64(12), int64(1), object(17)\n",
      "memory usage: 165.4+ KB\n"
     ]
    }
   ],
   "source": [
    "final_df.info()"
   ]
  },
  {
   "cell_type": "code",
   "execution_count": 259,
   "metadata": {},
   "outputs": [],
   "source": [
    "final_df = final_df.drop('usa_opening_wknd', axis=1)\n",
    "final_df.rename(columns={'usa_open':'usa_opening_wknd'}, inplace=True)"
   ]
  },
  {
   "cell_type": "code",
   "execution_count": 262,
   "metadata": {},
   "outputs": [],
   "source": [
    "final_df['glogross'] = final_df['global_gross'].map(lambda x: x)\n",
    "final_df = final_df.drop('global_gross', axis=1)\n",
    "final_df.rename(columns={'glogross':'global_gross'}, inplace=True)"
   ]
  },
  {
   "cell_type": "code",
   "execution_count": 263,
   "metadata": {},
   "outputs": [
    {
     "name": "stdout",
     "output_type": "stream",
     "text": [
      "<class 'pandas.core.frame.DataFrame'>\n",
      "Int64Index: 683 entries, 0 to 829\n",
      "Data columns (total 28 columns):\n",
      " #   Column                Non-Null Count  Dtype  \n",
      "---  ------                --------------  -----  \n",
      " 0   tconst                683 non-null    object \n",
      " 1   primary_title         683 non-null    object \n",
      " 2   original_title        683 non-null    object \n",
      " 3   start_year            683 non-null    int64  \n",
      " 4   runtime_minutes       683 non-null    float64\n",
      " 5   genres                683 non-null    object \n",
      " 6   actor                 646 non-null    object \n",
      " 7   actress               587 non-null    object \n",
      " 8   composer              303 non-null    object \n",
      " 9   director              664 non-null    object \n",
      " 10  editor                84 non-null     object \n",
      " 11  producer              577 non-null    object \n",
      " 12  writer                571 non-null    object \n",
      " 13  movrating             683 non-null    object \n",
      " 14  r males               683 non-null    float64\n",
      " 15  r females             683 non-null    float64\n",
      " 16  r imdb users          683 non-null    float64\n",
      " 17  r aged 18 29          683 non-null    float64\n",
      " 18  r aged 30 44          683 non-null    float64\n",
      " 19  r males aged 18 29    683 non-null    float64\n",
      " 20  r males aged 30 44    683 non-null    float64\n",
      " 21  r females aged 18 29  683 non-null    float64\n",
      " 22  r top 1000 voters     683 non-null    float64\n",
      " 23  r us users            683 non-null    float64\n",
      " 24  r non us users        683 non-null    float64\n",
      " 25  budget                683 non-null    object \n",
      " 26  usa_opening_wknd      683 non-null    object \n",
      " 27  global_gross          683 non-null    object \n",
      "dtypes: float64(12), int64(1), object(15)\n",
      "memory usage: 154.7+ KB\n"
     ]
    }
   ],
   "source": [
    "final_df.info()"
   ]
  },
  {
   "cell_type": "code",
   "execution_count": 269,
   "metadata": {},
   "outputs": [],
   "source": [
    "final_df['global_gross'] = final_df['global_gross'].astype('int64')"
   ]
  },
  {
   "cell_type": "code",
   "execution_count": 270,
   "metadata": {},
   "outputs": [],
   "source": [
    "final_df['budget'] = final_df['budget'].astype('int64')"
   ]
  },
  {
   "cell_type": "code",
   "execution_count": 287,
   "metadata": {},
   "outputs": [],
   "source": [
    "#skipping over usa_opening_wknd for now\n",
    "final_df = final_df.drop('usa_opening_wknd', axis=1)"
   ]
  },
  {
   "cell_type": "code",
   "execution_count": 288,
   "metadata": {},
   "outputs": [
    {
     "name": "stdout",
     "output_type": "stream",
     "text": [
      "<class 'pandas.core.frame.DataFrame'>\n",
      "Int64Index: 683 entries, 0 to 829\n",
      "Data columns (total 27 columns):\n",
      " #   Column                Non-Null Count  Dtype  \n",
      "---  ------                --------------  -----  \n",
      " 0   tconst                683 non-null    object \n",
      " 1   primary_title         683 non-null    object \n",
      " 2   original_title        683 non-null    object \n",
      " 3   start_year            683 non-null    int64  \n",
      " 4   runtime_minutes       683 non-null    float64\n",
      " 5   genres                683 non-null    object \n",
      " 6   actor                 646 non-null    object \n",
      " 7   actress               587 non-null    object \n",
      " 8   composer              303 non-null    object \n",
      " 9   director              664 non-null    object \n",
      " 10  editor                84 non-null     object \n",
      " 11  producer              577 non-null    object \n",
      " 12  writer                571 non-null    object \n",
      " 13  movrating             683 non-null    object \n",
      " 14  r males               683 non-null    float64\n",
      " 15  r females             683 non-null    float64\n",
      " 16  r imdb users          683 non-null    float64\n",
      " 17  r aged 18 29          683 non-null    float64\n",
      " 18  r aged 30 44          683 non-null    float64\n",
      " 19  r males aged 18 29    683 non-null    float64\n",
      " 20  r males aged 30 44    683 non-null    float64\n",
      " 21  r females aged 18 29  683 non-null    float64\n",
      " 22  r top 1000 voters     683 non-null    float64\n",
      " 23  r us users            683 non-null    float64\n",
      " 24  r non us users        683 non-null    float64\n",
      " 25  budget                683 non-null    int64  \n",
      " 26  global_gross          683 non-null    int64  \n",
      "dtypes: float64(12), int64(3), object(12)\n",
      "memory usage: 149.4+ KB\n"
     ]
    }
   ],
   "source": [
    "final_df.info()"
   ]
  },
  {
   "cell_type": "code",
   "execution_count": 409,
   "metadata": {},
   "outputs": [],
   "source": [
    "final_df.to_csv('final_df.csv')"
   ]
  },
  {
   "cell_type": "code",
   "execution_count": 400,
   "metadata": {},
   "outputs": [],
   "source": [
    "# drop all rows that don't contain budget information\n",
    "final_df = final_df[final_df['budget'] != 0]"
   ]
  },
  {
   "cell_type": "code",
   "execution_count": 407,
   "metadata": {},
   "outputs": [],
   "source": [
    "final_df = final_df.reset_index()\n",
    "final_df = final_df.drop('index', axis=1)"
   ]
  },
  {
   "cell_type": "markdown",
   "metadata": {},
   "source": [
    "# Analysis"
   ]
  },
  {
   "cell_type": "code",
   "execution_count": null,
   "metadata": {},
   "outputs": [],
   "source": [
    "# First I will perform some exploratory analysis to get a better understanding of the dataset\n",
    "# Then I will pose and answer a series of questions to come up with my recommendations for Microsoft"
   ]
  },
  {
   "cell_type": "markdown",
   "metadata": {},
   "source": [
    "## Exploring the data"
   ]
  },
  {
   "cell_type": "code",
   "execution_count": 98,
   "metadata": {},
   "outputs": [],
   "source": [
    "df = pd.read_csv('final_df.csv')"
   ]
  },
  {
   "cell_type": "code",
   "execution_count": 99,
   "metadata": {},
   "outputs": [
    {
     "data": {
      "text/html": [
       "<div>\n",
       "<style scoped>\n",
       "    .dataframe tbody tr th:only-of-type {\n",
       "        vertical-align: middle;\n",
       "    }\n",
       "\n",
       "    .dataframe tbody tr th {\n",
       "        vertical-align: top;\n",
       "    }\n",
       "\n",
       "    .dataframe thead th {\n",
       "        text-align: right;\n",
       "    }\n",
       "</style>\n",
       "<table border=\"1\" class=\"dataframe\">\n",
       "  <thead>\n",
       "    <tr style=\"text-align: right;\">\n",
       "      <th></th>\n",
       "      <th>Unnamed: 0</th>\n",
       "      <th>start_year</th>\n",
       "      <th>runtime_minutes</th>\n",
       "      <th>r males</th>\n",
       "      <th>r females</th>\n",
       "      <th>r imdb users</th>\n",
       "      <th>r aged 18 29</th>\n",
       "      <th>r aged 30 44</th>\n",
       "      <th>r males aged 18 29</th>\n",
       "      <th>r males aged 30 44</th>\n",
       "      <th>r females aged 18 29</th>\n",
       "      <th>r top 1000 voters</th>\n",
       "      <th>r us users</th>\n",
       "      <th>r non us users</th>\n",
       "      <th>budget</th>\n",
       "      <th>global_gross</th>\n",
       "      <th>budget_inmil</th>\n",
       "      <th>gross_inmil</th>\n",
       "      <th>profit_ratio</th>\n",
       "    </tr>\n",
       "  </thead>\n",
       "  <tbody>\n",
       "    <tr>\n",
       "      <th>count</th>\n",
       "      <td>551.000000</td>\n",
       "      <td>551.000000</td>\n",
       "      <td>551.000000</td>\n",
       "      <td>551.000000</td>\n",
       "      <td>551.000000</td>\n",
       "      <td>551.000000</td>\n",
       "      <td>551.000000</td>\n",
       "      <td>551.000000</td>\n",
       "      <td>551.000000</td>\n",
       "      <td>551.000000</td>\n",
       "      <td>551.000000</td>\n",
       "      <td>551.000000</td>\n",
       "      <td>551.000000</td>\n",
       "      <td>551.000000</td>\n",
       "      <td>5.510000e+02</td>\n",
       "      <td>5.510000e+02</td>\n",
       "      <td>551.000000</td>\n",
       "      <td>551.000000</td>\n",
       "      <td>551.000000</td>\n",
       "    </tr>\n",
       "    <tr>\n",
       "      <th>mean</th>\n",
       "      <td>275.000000</td>\n",
       "      <td>2016.695100</td>\n",
       "      <td>111.408348</td>\n",
       "      <td>6.370962</td>\n",
       "      <td>6.623956</td>\n",
       "      <td>6.445917</td>\n",
       "      <td>6.525771</td>\n",
       "      <td>6.355535</td>\n",
       "      <td>6.460799</td>\n",
       "      <td>6.308530</td>\n",
       "      <td>6.680581</td>\n",
       "      <td>5.863339</td>\n",
       "      <td>6.463702</td>\n",
       "      <td>6.338113</td>\n",
       "      <td>5.794136e+07</td>\n",
       "      <td>2.191605e+08</td>\n",
       "      <td>57.941363</td>\n",
       "      <td>219.160530</td>\n",
       "      <td>4.648959</td>\n",
       "    </tr>\n",
       "    <tr>\n",
       "      <th>std</th>\n",
       "      <td>159.204271</td>\n",
       "      <td>1.252472</td>\n",
       "      <td>17.354126</td>\n",
       "      <td>0.991413</td>\n",
       "      <td>0.917173</td>\n",
       "      <td>0.964429</td>\n",
       "      <td>1.031640</td>\n",
       "      <td>0.945593</td>\n",
       "      <td>1.072290</td>\n",
       "      <td>0.969001</td>\n",
       "      <td>0.952129</td>\n",
       "      <td>0.959317</td>\n",
       "      <td>1.000958</td>\n",
       "      <td>0.965345</td>\n",
       "      <td>6.181918e+07</td>\n",
       "      <td>3.169000e+08</td>\n",
       "      <td>61.819179</td>\n",
       "      <td>316.900005</td>\n",
       "      <td>6.261870</td>\n",
       "    </tr>\n",
       "    <tr>\n",
       "      <th>min</th>\n",
       "      <td>0.000000</td>\n",
       "      <td>2015.000000</td>\n",
       "      <td>74.000000</td>\n",
       "      <td>2.900000</td>\n",
       "      <td>2.500000</td>\n",
       "      <td>3.200000</td>\n",
       "      <td>2.700000</td>\n",
       "      <td>3.200000</td>\n",
       "      <td>2.700000</td>\n",
       "      <td>3.300000</td>\n",
       "      <td>2.400000</td>\n",
       "      <td>2.400000</td>\n",
       "      <td>2.600000</td>\n",
       "      <td>3.100000</td>\n",
       "      <td>5.000000e+04</td>\n",
       "      <td>3.909100e+04</td>\n",
       "      <td>0.050000</td>\n",
       "      <td>0.039091</td>\n",
       "      <td>0.011169</td>\n",
       "    </tr>\n",
       "    <tr>\n",
       "      <th>25%</th>\n",
       "      <td>137.500000</td>\n",
       "      <td>2016.000000</td>\n",
       "      <td>98.000000</td>\n",
       "      <td>5.800000</td>\n",
       "      <td>6.100000</td>\n",
       "      <td>5.900000</td>\n",
       "      <td>5.900000</td>\n",
       "      <td>5.750000</td>\n",
       "      <td>5.800000</td>\n",
       "      <td>5.700000</td>\n",
       "      <td>6.100000</td>\n",
       "      <td>5.300000</td>\n",
       "      <td>5.850000</td>\n",
       "      <td>5.700000</td>\n",
       "      <td>1.490000e+07</td>\n",
       "      <td>3.478921e+07</td>\n",
       "      <td>14.900000</td>\n",
       "      <td>34.789214</td>\n",
       "      <td>1.475801</td>\n",
       "    </tr>\n",
       "    <tr>\n",
       "      <th>50%</th>\n",
       "      <td>275.000000</td>\n",
       "      <td>2017.000000</td>\n",
       "      <td>110.000000</td>\n",
       "      <td>6.400000</td>\n",
       "      <td>6.700000</td>\n",
       "      <td>6.500000</td>\n",
       "      <td>6.600000</td>\n",
       "      <td>6.400000</td>\n",
       "      <td>6.600000</td>\n",
       "      <td>6.400000</td>\n",
       "      <td>6.700000</td>\n",
       "      <td>5.900000</td>\n",
       "      <td>6.500000</td>\n",
       "      <td>6.400000</td>\n",
       "      <td>3.500000e+07</td>\n",
       "      <td>1.043995e+08</td>\n",
       "      <td>35.000000</td>\n",
       "      <td>104.399548</td>\n",
       "      <td>3.129662</td>\n",
       "    </tr>\n",
       "    <tr>\n",
       "      <th>75%</th>\n",
       "      <td>412.500000</td>\n",
       "      <td>2018.000000</td>\n",
       "      <td>122.000000</td>\n",
       "      <td>7.100000</td>\n",
       "      <td>7.300000</td>\n",
       "      <td>7.150000</td>\n",
       "      <td>7.300000</td>\n",
       "      <td>7.100000</td>\n",
       "      <td>7.200000</td>\n",
       "      <td>7.000000</td>\n",
       "      <td>7.400000</td>\n",
       "      <td>6.600000</td>\n",
       "      <td>7.200000</td>\n",
       "      <td>7.100000</td>\n",
       "      <td>8.000000e+07</td>\n",
       "      <td>2.558271e+08</td>\n",
       "      <td>80.000000</td>\n",
       "      <td>255.827129</td>\n",
       "      <td>5.216859</td>\n",
       "    </tr>\n",
       "    <tr>\n",
       "      <th>max</th>\n",
       "      <td>550.000000</td>\n",
       "      <td>2019.000000</td>\n",
       "      <td>181.000000</td>\n",
       "      <td>8.400000</td>\n",
       "      <td>9.300000</td>\n",
       "      <td>8.400000</td>\n",
       "      <td>8.700000</td>\n",
       "      <td>8.300000</td>\n",
       "      <td>8.700000</td>\n",
       "      <td>8.300000</td>\n",
       "      <td>9.200000</td>\n",
       "      <td>7.900000</td>\n",
       "      <td>8.900000</td>\n",
       "      <td>8.300000</td>\n",
       "      <td>3.560000e+08</td>\n",
       "      <td>2.797801e+09</td>\n",
       "      <td>356.000000</td>\n",
       "      <td>2797.800564</td>\n",
       "      <td>85.752315</td>\n",
       "    </tr>\n",
       "  </tbody>\n",
       "</table>\n",
       "</div>"
      ],
      "text/plain": [
       "       Unnamed: 0   start_year  runtime_minutes     r males   r females  \\\n",
       "count  551.000000   551.000000       551.000000  551.000000  551.000000   \n",
       "mean   275.000000  2016.695100       111.408348    6.370962    6.623956   \n",
       "std    159.204271     1.252472        17.354126    0.991413    0.917173   \n",
       "min      0.000000  2015.000000        74.000000    2.900000    2.500000   \n",
       "25%    137.500000  2016.000000        98.000000    5.800000    6.100000   \n",
       "50%    275.000000  2017.000000       110.000000    6.400000    6.700000   \n",
       "75%    412.500000  2018.000000       122.000000    7.100000    7.300000   \n",
       "max    550.000000  2019.000000       181.000000    8.400000    9.300000   \n",
       "\n",
       "       r imdb users  r aged 18 29  r aged 30 44  r males aged 18 29  \\\n",
       "count    551.000000    551.000000    551.000000          551.000000   \n",
       "mean       6.445917      6.525771      6.355535            6.460799   \n",
       "std        0.964429      1.031640      0.945593            1.072290   \n",
       "min        3.200000      2.700000      3.200000            2.700000   \n",
       "25%        5.900000      5.900000      5.750000            5.800000   \n",
       "50%        6.500000      6.600000      6.400000            6.600000   \n",
       "75%        7.150000      7.300000      7.100000            7.200000   \n",
       "max        8.400000      8.700000      8.300000            8.700000   \n",
       "\n",
       "       r males aged 30 44  r females aged 18 29  r top 1000 voters  \\\n",
       "count          551.000000            551.000000         551.000000   \n",
       "mean             6.308530              6.680581           5.863339   \n",
       "std              0.969001              0.952129           0.959317   \n",
       "min              3.300000              2.400000           2.400000   \n",
       "25%              5.700000              6.100000           5.300000   \n",
       "50%              6.400000              6.700000           5.900000   \n",
       "75%              7.000000              7.400000           6.600000   \n",
       "max              8.300000              9.200000           7.900000   \n",
       "\n",
       "       r us users  r non us users        budget  global_gross  budget_inmil  \\\n",
       "count  551.000000      551.000000  5.510000e+02  5.510000e+02    551.000000   \n",
       "mean     6.463702        6.338113  5.794136e+07  2.191605e+08     57.941363   \n",
       "std      1.000958        0.965345  6.181918e+07  3.169000e+08     61.819179   \n",
       "min      2.600000        3.100000  5.000000e+04  3.909100e+04      0.050000   \n",
       "25%      5.850000        5.700000  1.490000e+07  3.478921e+07     14.900000   \n",
       "50%      6.500000        6.400000  3.500000e+07  1.043995e+08     35.000000   \n",
       "75%      7.200000        7.100000  8.000000e+07  2.558271e+08     80.000000   \n",
       "max      8.900000        8.300000  3.560000e+08  2.797801e+09    356.000000   \n",
       "\n",
       "       gross_inmil  profit_ratio  \n",
       "count   551.000000    551.000000  \n",
       "mean    219.160530      4.648959  \n",
       "std     316.900005      6.261870  \n",
       "min       0.039091      0.011169  \n",
       "25%      34.789214      1.475801  \n",
       "50%     104.399548      3.129662  \n",
       "75%     255.827129      5.216859  \n",
       "max    2797.800564     85.752315  "
      ]
     },
     "execution_count": 99,
     "metadata": {},
     "output_type": "execute_result"
    }
   ],
   "source": [
    "df.describe()"
   ]
  },
  {
   "cell_type": "markdown",
   "metadata": {},
   "source": [
    "### Release year"
   ]
  },
  {
   "cell_type": "code",
   "execution_count": 100,
   "metadata": {},
   "outputs": [],
   "source": [
    "# Our dataset only includes films from the years 2015 through 2019, to ensure the relevancy of the results."
   ]
  },
  {
   "cell_type": "code",
   "execution_count": 101,
   "metadata": {},
   "outputs": [],
   "source": [
    "sns.set_context('talk')"
   ]
  },
  {
   "cell_type": "code",
   "execution_count": 102,
   "metadata": {},
   "outputs": [
    {
     "data": {
      "image/png": "[encoded data removed]",
      "text/plain": [
       "<Figure size 432x288 with 1 Axes>"
      ]
     },
     "metadata": {
      "needs_background": "light"
     },
     "output_type": "display_data"
    }
   ],
   "source": [
    "sns.countplot(df.start_year)\n",
    "plt.xlabel('Release Year')\n",
    "plt.ylabel('Movie Count')\n",
    "plt.title('Count of Movies by Release Year');"
   ]
  },
  {
   "cell_type": "markdown",
   "metadata": {},
   "source": [
    "### Runtime"
   ]
  },
  {
   "cell_type": "code",
   "execution_count": 103,
   "metadata": {},
   "outputs": [],
   "source": [
    "# Per the charts below, most films in the dataset run between approx. 80 and 150 minutes, \n",
    "# with a handful of outliers running beyond the 150 minute mark."
   ]
  },
  {
   "cell_type": "code",
   "execution_count": 104,
   "metadata": {},
   "outputs": [
    {
     "data": {
      "image/png": "[encoded data removed]",
      "text/plain": [
       "<Figure size 432x288 with 1 Axes>"
      ]
     },
     "metadata": {
      "needs_background": "light"
     },
     "output_type": "display_data"
    }
   ],
   "source": [
    "sns.distplot(df[\"runtime_minutes\"], kde=False);\n",
    "plt.title('Distribution of Movie Runtimes')\n",
    "plt.ylabel('Film Count')\n",
    "plt.xlabel('Runtime (min)');"
   ]
  },
  {
   "cell_type": "code",
   "execution_count": 105,
   "metadata": {
    "scrolled": true
   },
   "outputs": [
    {
     "data": {
      "image/png": "[encoded data removed]",
      "text/plain": [
       "<Figure size 432x288 with 1 Axes>"
      ]
     },
     "metadata": {
      "needs_background": "light"
     },
     "output_type": "display_data"
    }
   ],
   "source": [
    "sns.boxplot(data=df, x=\"runtime_minutes\")\n",
    "plt.xlabel('Runtime (min)')\n",
    "plt.title('Distribution of Movie Runtimes');"
   ]
  },
  {
   "cell_type": "markdown",
   "metadata": {},
   "source": [
    "### Audience rating"
   ]
  },
  {
   "cell_type": "code",
   "execution_count": 106,
   "metadata": {},
   "outputs": [],
   "source": [
    "# This dataset includes films of all ratings, however it may contain overrepresentative samples of PG-13 and\n",
    "# R-rated films."
   ]
  },
  {
   "cell_type": "code",
   "execution_count": 107,
   "metadata": {},
   "outputs": [
    {
     "data": {
      "text/plain": [
       "PG-13        232\n",
       "R            196\n",
       "PG            88\n",
       "Not Rated     29\n",
       "G              3\n",
       "Unrated        2\n",
       "Approved       1\n",
       "Name: movrating, dtype: int64"
      ]
     },
     "execution_count": 107,
     "metadata": {},
     "output_type": "execute_result"
    }
   ],
   "source": [
    "df['movrating'].value_counts()"
   ]
  },
  {
   "cell_type": "code",
   "execution_count": 108,
   "metadata": {},
   "outputs": [],
   "source": [
    "df.loc[df[\"movrating\"] == 'Unrated', [\"movrating\"]]  = 'Not Rated'"
   ]
  },
  {
   "cell_type": "code",
   "execution_count": 109,
   "metadata": {},
   "outputs": [],
   "source": [
    "rateorder = ['G','PG','PG-13','R','Not Rated','Approved']"
   ]
  },
  {
   "cell_type": "code",
   "execution_count": 110,
   "metadata": {},
   "outputs": [
    {
     "data": {
      "image/png": "[encoded data removed]",
      "text/plain": [
       "<Figure size 432x288 with 1 Axes>"
      ]
     },
     "metadata": {
      "needs_background": "light"
     },
     "output_type": "display_data"
    }
   ],
   "source": [
    "sns.countplot(df.movrating, order=rateorder)\n",
    "plt.xlabel('Rating')\n",
    "plt.ylabel('Movie Count')\n",
    "plt.xticks(rotation=30)\n",
    "plt.title('Count of Movies by Audience ');"
   ]
  },
  {
   "cell_type": "markdown",
   "metadata": {},
   "source": [
    "### Production budget"
   ]
  },
  {
   "cell_type": "code",
   "execution_count": 111,
   "metadata": {},
   "outputs": [],
   "source": [
    "# The average budget in our dataset was approx. $57 million, but extended as high as #350 million (though\n",
    "# anything with a budget of over approx $175 million was an outlier)."
   ]
  },
  {
   "cell_type": "code",
   "execution_count": 112,
   "metadata": {},
   "outputs": [],
   "source": [
    "# creating a budget column in units of millions of USD\n",
    "df['budget_inmil'] = df.budget.map(lambda x: x/1000000)"
   ]
  },
  {
   "cell_type": "code",
   "execution_count": 113,
   "metadata": {},
   "outputs": [
    {
     "data": {
      "text/plain": [
       "57.94136324500908"
      ]
     },
     "execution_count": 113,
     "metadata": {},
     "output_type": "execute_result"
    }
   ],
   "source": [
    "df['budget_inmil'].mean()"
   ]
  },
  {
   "cell_type": "code",
   "execution_count": 114,
   "metadata": {},
   "outputs": [
    {
     "data": {
      "image/png": "[encoded data removed]",
      "text/plain": [
       "<Figure size 432x288 with 1 Axes>"
      ]
     },
     "metadata": {
      "needs_background": "light"
     },
     "output_type": "display_data"
    }
   ],
   "source": [
    "sns.distplot(df[\"budget_inmil\"], kde=False)\n",
    "plt.xlabel('Budget (in millions USD)')\n",
    "plt.ylabel('Movie Count')\n",
    "plt.title('Distribution of Movie Budgets (in mil)')\n",
    "plt.xticks(np.linspace(start=0, stop=400, num=5));"
   ]
  },
  {
   "cell_type": "code",
   "execution_count": 115,
   "metadata": {},
   "outputs": [
    {
     "data": {
      "image/png": "[encoded data removed]",
      "text/plain": [
       "<Figure size 432x288 with 1 Axes>"
      ]
     },
     "metadata": {
      "needs_background": "light"
     },
     "output_type": "display_data"
    }
   ],
   "source": [
    "sns.boxplot(data=df, x=\"budget_inmil\")\n",
    "plt.title('Distribution of Movie Budgets (in mil)')\n",
    "plt.xlabel('Budget ($ mil)');"
   ]
  },
  {
   "cell_type": "markdown",
   "metadata": {},
   "source": [
    "### Gross revenue"
   ]
  },
  {
   "cell_type": "code",
   "execution_count": 116,
   "metadata": {},
   "outputs": [],
   "source": [
    "# The average gross revenue in our dataset was approx. $219 million, with most films in the dataset grossing \n",
    "# between $0 and approximately $600 million.  Additionally, outliers in the dataset grossed up to $3 billion."
   ]
  },
  {
   "cell_type": "code",
   "execution_count": 117,
   "metadata": {},
   "outputs": [],
   "source": [
    "# creating a global gross revenue column in units of millions of USD\n",
    "df['gross_inmil'] = df['global_gross'].map(lambda x: x/1000000)"
   ]
  },
  {
   "cell_type": "code",
   "execution_count": 118,
   "metadata": {},
   "outputs": [
    {
     "data": {
      "text/plain": [
       "219.16052985480948"
      ]
     },
     "execution_count": 118,
     "metadata": {},
     "output_type": "execute_result"
    }
   ],
   "source": [
    "df['gross_inmil'].mean()"
   ]
  },
  {
   "cell_type": "code",
   "execution_count": 119,
   "metadata": {},
   "outputs": [
    {
     "data": {
      "text/plain": [
       "Text(0.5, 1.0, 'Distribution of Gross Movie Revenue (in mil)')"
      ]
     },
     "execution_count": 119,
     "metadata": {},
     "output_type": "execute_result"
    },
    {
     "data": {
      "image/png": "[encoded data removed]",
      "text/plain": [
       "<Figure size 432x288 with 1 Axes>"
      ]
     },
     "metadata": {
      "needs_background": "light"
     },
     "output_type": "display_data"
    }
   ],
   "source": [
    "sns.distplot(df[\"gross_inmil\"], kde=False);\n",
    "plt.xlabel('Gross Revenue (in millions USD)')\n",
    "plt.ylabel('Movie Count')\n",
    "plt.title('Distribution of Gross Movie Revenue (in mil)')"
   ]
  },
  {
   "cell_type": "code",
   "execution_count": 120,
   "metadata": {},
   "outputs": [
    {
     "data": {
      "image/png": "[encoded data removed]",
      "text/plain": [
       "<Figure size 432x288 with 1 Axes>"
      ]
     },
     "metadata": {
      "needs_background": "light"
     },
     "output_type": "display_data"
    }
   ],
   "source": [
    "sns.boxplot(data=df, x = \"gross_inmil\");\n",
    "plt.title('Distribution of Gross Movie Revenue (in mil)')\n",
    "plt.xlabel('Gross Revenue (in millions USD)');"
   ]
  },
  {
   "cell_type": "markdown",
   "metadata": {},
   "source": [
    "### Profitability"
   ]
  },
  {
   "cell_type": "code",
   "execution_count": 121,
   "metadata": {},
   "outputs": [],
   "source": [
    "# The average film in the dataset returned 4.65x on its budget; "
   ]
  },
  {
   "cell_type": "code",
   "execution_count": 122,
   "metadata": {},
   "outputs": [],
   "source": [
    "# create a calulated column for profitability\n",
    "\n",
    "df['profit_ratio'] = df['gross_inmil'] / df['budget_inmil']"
   ]
  },
  {
   "cell_type": "code",
   "execution_count": 123,
   "metadata": {},
   "outputs": [
    {
     "data": {
      "text/plain": [
       "4.648958516336651"
      ]
     },
     "execution_count": 123,
     "metadata": {},
     "output_type": "execute_result"
    }
   ],
   "source": [
    "df['profit_ratio'].mean()"
   ]
  },
  {
   "cell_type": "code",
   "execution_count": 124,
   "metadata": {},
   "outputs": [
    {
     "data": {
      "image/png": "[encoded data removed]",
      "text/plain": [
       "<Figure size 432x288 with 1 Axes>"
      ]
     },
     "metadata": {
      "needs_background": "light"
     },
     "output_type": "display_data"
    }
   ],
   "source": [
    "sns.distplot(df[\"profit_ratio\"], kde=False)\n",
    "plt.xlabel('Return on Budget')\n",
    "plt.ylabel('Movie Count')\n",
    "plt.title('Distribution of Return on Budget');"
   ]
  },
  {
   "cell_type": "code",
   "execution_count": 125,
   "metadata": {
    "scrolled": true
   },
   "outputs": [
    {
     "data": {
      "image/png": "[encoded data removed]",
      "text/plain": [
       "<Figure size 432x288 with 1 Axes>"
      ]
     },
     "metadata": {
      "needs_background": "light"
     },
     "output_type": "display_data"
    }
   ],
   "source": [
    "sns.boxplot(data=df, x=\"profit_ratio\")\n",
    "plt.xlabel('Return on Budget (as a multiple of Budget)')\n",
    "plt.title('Distribution of Return on Budget');"
   ]
  },
  {
   "cell_type": "code",
   "execution_count": 126,
   "metadata": {},
   "outputs": [
    {
     "data": {
      "text/plain": [
       "count    551.000000\n",
       "mean       4.648959\n",
       "std        6.261870\n",
       "min        0.011169\n",
       "25%        1.475801\n",
       "50%        3.129662\n",
       "75%        5.216859\n",
       "max       85.752315\n",
       "Name: profit_ratio, dtype: float64"
      ]
     },
     "execution_count": 126,
     "metadata": {},
     "output_type": "execute_result"
    }
   ],
   "source": [
    "# I want to categorize all movies in the dataset by their profitability:\n",
    "\n",
    "df['profit_ratio'].describe()"
   ]
  },
  {
   "cell_type": "code",
   "execution_count": 127,
   "metadata": {},
   "outputs": [],
   "source": [
    "# Splitting data into groups 1 through 4, where 1 is least profitable quartile of movies in the data set\n",
    "# and 4 is most profitable quartile\n",
    "\n",
    "df['profitability'] = df['profit_ratio'].map(lambda x: x)\n",
    "\n",
    "df.loc[df[\"profit_ratio\"] >= 0, [\"profitability\"]]  = '1'\n",
    "df.loc[df[\"profit_ratio\"] >= 1.5, [\"profitability\"]] = '2'\n",
    "df.loc[df[\"profit_ratio\"] >= 3.1, [\"profitability\"]] = '3'\n",
    "df.loc[df[\"profit_ratio\"] >= 5.2, [\"profitability\"]] = '4'"
   ]
  },
  {
   "cell_type": "code",
   "execution_count": 128,
   "metadata": {},
   "outputs": [
    {
     "data": {
      "image/png": "[encoded data removed]",
      "text/plain": [
       "<Figure size 432x288 with 1 Axes>"
      ]
     },
     "metadata": {
      "needs_background": "light"
     },
     "output_type": "display_data"
    }
   ],
   "source": [
    "sns.countplot(df['profitability'])\n",
    "plt.title('Profitability Quartiles')\n",
    "plt.xlabel('Quartiles (1 = least profitable)')\n",
    "plt.ylabel('Count of Movies');"
   ]
  },
  {
   "cell_type": "markdown",
   "metadata": {},
   "source": [
    "### Genre"
   ]
  },
  {
   "cell_type": "code",
   "execution_count": 129,
   "metadata": {},
   "outputs": [],
   "source": [
    "# Since most movies are tagged with multiple genres, I am uncoupling these groupings to get a count for \n",
    "# how many times each individual genre appears in our data\n",
    "\n",
    "genrelist = []\n",
    "\n",
    "for i in df['genres']:\n",
    "    genrelist.extend(i.split(','))"
   ]
  },
  {
   "cell_type": "code",
   "execution_count": 130,
   "metadata": {},
   "outputs": [],
   "source": [
    "from collections import Counter\n",
    "c = dict(Counter(genrelist))"
   ]
  },
  {
   "cell_type": "code",
   "execution_count": 131,
   "metadata": {},
   "outputs": [],
   "source": [
    "df_c = pd.Series(c).sort_values(ascending=False)"
   ]
  },
  {
   "cell_type": "code",
   "execution_count": 132,
   "metadata": {
    "scrolled": false
   },
   "outputs": [
    {
     "data": {
      "image/png": "[encoded data removed]",
      "text/plain": [
       "<Figure size 864x432 with 1 Axes>"
      ]
     },
     "metadata": {
      "needs_background": "light"
     },
     "output_type": "display_data"
    }
   ],
   "source": [
    "fig, ax = plt.subplots(figsize=(12,6))\n",
    "sns.countplot(genrelist, order=list(df_c.index))\n",
    "degrees=45\n",
    "plt.xticks(rotation='vertical')\n",
    "plt.xlabel('Genres')\n",
    "plt.ylabel('Count of Movies')\n",
    "plt.title('Distribution of Movies by Genre Tag');"
   ]
  },
  {
   "cell_type": "markdown",
   "metadata": {},
   "source": [
    "## Analysis"
   ]
  },
  {
   "cell_type": "markdown",
   "metadata": {},
   "source": [
    "### Which audience rating in our dataset is the most profitable?"
   ]
  },
  {
   "cell_type": "code",
   "execution_count": 133,
   "metadata": {
    "scrolled": true
   },
   "outputs": [
    {
     "data": {
      "image/png": "[encoded data removed]",
      "text/plain": [
       "<Figure size 432x288 with 1 Axes>"
      ]
     },
     "metadata": {
      "needs_background": "light"
     },
     "output_type": "display_data"
    }
   ],
   "source": [
    "# Based on the below scatter plot, we can see that the highest earning films in our data set are \n",
    "# rated either PG-13 or R \n",
    "\n",
    "# strip plot, swarm plot, \n",
    "\n",
    "sns.stripplot(data = df, x = 'movrating', y = 'profit_ratio', order = rateorder);\n",
    "plt.xticks(rotation = 30)\n",
    "plt.xlabel('Film Rating')\n",
    "plt.ylabel('Return')\n",
    "plt.title('Return as a multiple of Budget, by Film Rating');"
   ]
  },
  {
   "cell_type": "code",
   "execution_count": 134,
   "metadata": {
    "scrolled": true
   },
   "outputs": [
    {
     "data": {
      "text/html": [
       "<div>\n",
       "<style scoped>\n",
       "    .dataframe tbody tr th:only-of-type {\n",
       "        vertical-align: middle;\n",
       "    }\n",
       "\n",
       "    .dataframe tbody tr th {\n",
       "        vertical-align: top;\n",
       "    }\n",
       "\n",
       "    .dataframe thead th {\n",
       "        text-align: right;\n",
       "    }\n",
       "</style>\n",
       "<table border=\"1\" class=\"dataframe\">\n",
       "  <thead>\n",
       "    <tr style=\"text-align: right;\">\n",
       "      <th></th>\n",
       "      <th>profitability</th>\n",
       "      <th>movrating</th>\n",
       "      <th>count</th>\n",
       "    </tr>\n",
       "  </thead>\n",
       "  <tbody>\n",
       "    <tr>\n",
       "      <th>0</th>\n",
       "      <td>1</td>\n",
       "      <td>R</td>\n",
       "      <td>67</td>\n",
       "    </tr>\n",
       "    <tr>\n",
       "      <th>1</th>\n",
       "      <td>1</td>\n",
       "      <td>PG-13</td>\n",
       "      <td>52</td>\n",
       "    </tr>\n",
       "    <tr>\n",
       "      <th>2</th>\n",
       "      <td>1</td>\n",
       "      <td>PG</td>\n",
       "      <td>17</td>\n",
       "    </tr>\n",
       "    <tr>\n",
       "      <th>3</th>\n",
       "      <td>1</td>\n",
       "      <td>Not Rated</td>\n",
       "      <td>2</td>\n",
       "    </tr>\n",
       "    <tr>\n",
       "      <th>4</th>\n",
       "      <td>1</td>\n",
       "      <td>Approved</td>\n",
       "      <td>1</td>\n",
       "    </tr>\n",
       "  </tbody>\n",
       "</table>\n",
       "</div>"
      ],
      "text/plain": [
       "  profitability  movrating  count\n",
       "0             1          R     67\n",
       "1             1      PG-13     52\n",
       "2             1         PG     17\n",
       "3             1  Not Rated      2\n",
       "4             1   Approved      1"
      ]
     },
     "execution_count": 134,
     "metadata": {},
     "output_type": "execute_result"
    }
   ],
   "source": [
    "ratexprof = pd.DataFrame(df.groupby('profitability')['movrating'].value_counts())\n",
    "ratexprof = ratexprof.rename(columns={'movrating':'count'})\n",
    "ratexprof = ratexprof.reset_index()\n",
    "ratexprof.head()"
   ]
  },
  {
   "cell_type": "code",
   "execution_count": 135,
   "metadata": {
    "scrolled": true
   },
   "outputs": [
    {
     "data": {
      "image/png": "[encoded data removed]",
      "text/plain": [
       "<Figure size 432x288 with 1 Axes>"
      ]
     },
     "metadata": {
      "needs_background": "light"
     },
     "output_type": "display_data"
    }
   ],
   "source": [
    "# The below chart indicates that most of the least profitable movies are R-rated, however most of the movies\n",
    "# in ALL categories are either R or PG-13, so this is not the most informative plot.\n",
    "\n",
    "sns.barplot(x=ratexprof['profitability'], y=ratexprof['count'], hue=ratexprof['movrating'])\n",
    "plt.title('Distribution of Movie Ratings, by Profitability Quartile')\n",
    "plt.xlabel('Profitability (1 = least profitable)')\n",
    "plt.ylabel('Count of Movies');"
   ]
  },
  {
   "cell_type": "code",
   "execution_count": 136,
   "metadata": {},
   "outputs": [
    {
     "data": {
      "image/png": "[encoded data removed]",
      "text/plain": [
       "<Figure size 432x288 with 1 Axes>"
      ]
     },
     "metadata": {
      "needs_background": "light"
     },
     "output_type": "display_data"
    }
   ],
   "source": [
    "# Grouping the same chart by rating instead of profitability quartile, it becomes more clear that R-rated \n",
    "# movies are the most likely to flop (i.e. Profitability =1), whereas PG-13 and PG films tend to \n",
    "# perform better.\n",
    "\n",
    "sns.barplot(x=ratexprof['movrating'], y=ratexprof['count'], hue=ratexprof['profitability'], order=rateorder)\n",
    "plt.title('Distribution of Profitability, by Movie Rating')\n",
    "plt.xlabel('Movie Rating')\n",
    "plt.ylabel('Count of Movies')\n",
    "plt.xticks(rotation=40);"
   ]
  },
  {
   "cell_type": "code",
   "execution_count": 137,
   "metadata": {},
   "outputs": [
    {
     "data": {
      "image/png": "[encoded data removed]",
      "text/plain": [
       "<Figure size 432x288 with 1 Axes>"
      ]
     },
     "metadata": {
      "needs_background": "light"
     },
     "output_type": "display_data"
    }
   ],
   "source": [
    "ratingavgprof = pd.DataFrame(df.groupby('movrating')['profit_ratio'].mean())\n",
    "ratingavgprof = ratingavgprof.reset_index()\n",
    "ratingavgprof.sort_values('profit_ratio', ascending=False, inplace=True)\n",
    "\n",
    "sns.barplot(x=ratingavgprof['movrating'], y=ratingavgprof['profit_ratio'])\n",
    "plt.title('Average return, by film rating')\n",
    "plt.xlabel('Rating')\n",
    "plt.ylabel('Return (as a mult. of Budget)');"
   ]
  },
  {
   "cell_type": "code",
   "execution_count": 138,
   "metadata": {},
   "outputs": [],
   "source": [
    "# According to the above chart, G-rated movies earn the most return on average, however our n for \n",
    "# G-rated films in this data set is only 3, making these results somewhat unreliable"
   ]
  },
  {
   "cell_type": "markdown",
   "metadata": {},
   "source": [
    "#### RECOMMENDATION:  THE MOVIE SHOULD BE RATED PG-13"
   ]
  },
  {
   "cell_type": "markdown",
   "metadata": {},
   "source": [
    "### Which genre combinations performed the best and the worst financially?"
   ]
  },
  {
   "cell_type": "code",
   "execution_count": 139,
   "metadata": {},
   "outputs": [
    {
     "data": {
      "text/html": [
       "<div>\n",
       "<style scoped>\n",
       "    .dataframe tbody tr th:only-of-type {\n",
       "        vertical-align: middle;\n",
       "    }\n",
       "\n",
       "    .dataframe tbody tr th {\n",
       "        vertical-align: top;\n",
       "    }\n",
       "\n",
       "    .dataframe thead th {\n",
       "        text-align: right;\n",
       "    }\n",
       "</style>\n",
       "<table border=\"1\" class=\"dataframe\">\n",
       "  <thead>\n",
       "    <tr style=\"text-align: right;\">\n",
       "      <th></th>\n",
       "      <th>genres</th>\n",
       "      <th>tconst</th>\n",
       "    </tr>\n",
       "  </thead>\n",
       "  <tbody>\n",
       "    <tr>\n",
       "      <th>0</th>\n",
       "      <td>Action,Adventure,Animation</td>\n",
       "      <td>11</td>\n",
       "    </tr>\n",
       "    <tr>\n",
       "      <th>1</th>\n",
       "      <td>Action,Adventure,Biography</td>\n",
       "      <td>4</td>\n",
       "    </tr>\n",
       "    <tr>\n",
       "      <th>2</th>\n",
       "      <td>Action,Adventure,Comedy</td>\n",
       "      <td>20</td>\n",
       "    </tr>\n",
       "    <tr>\n",
       "      <th>3</th>\n",
       "      <td>Action,Adventure,Crime</td>\n",
       "      <td>6</td>\n",
       "    </tr>\n",
       "    <tr>\n",
       "      <th>4</th>\n",
       "      <td>Action,Adventure,Drama</td>\n",
       "      <td>12</td>\n",
       "    </tr>\n",
       "    <tr>\n",
       "      <th>...</th>\n",
       "      <td>...</td>\n",
       "      <td>...</td>\n",
       "    </tr>\n",
       "    <tr>\n",
       "      <th>128</th>\n",
       "      <td>Horror,Sci-Fi</td>\n",
       "      <td>1</td>\n",
       "    </tr>\n",
       "    <tr>\n",
       "      <th>129</th>\n",
       "      <td>Horror,Sci-Fi,Thriller</td>\n",
       "      <td>2</td>\n",
       "    </tr>\n",
       "    <tr>\n",
       "      <th>130</th>\n",
       "      <td>Horror,Thriller</td>\n",
       "      <td>11</td>\n",
       "    </tr>\n",
       "    <tr>\n",
       "      <th>131</th>\n",
       "      <td>Romance,Thriller</td>\n",
       "      <td>1</td>\n",
       "    </tr>\n",
       "    <tr>\n",
       "      <th>132</th>\n",
       "      <td>Sci-Fi,Thriller</td>\n",
       "      <td>1</td>\n",
       "    </tr>\n",
       "  </tbody>\n",
       "</table>\n",
       "<p>133 rows × 2 columns</p>\n",
       "</div>"
      ],
      "text/plain": [
       "                         genres  tconst\n",
       "0    Action,Adventure,Animation      11\n",
       "1    Action,Adventure,Biography       4\n",
       "2       Action,Adventure,Comedy      20\n",
       "3        Action,Adventure,Crime       6\n",
       "4        Action,Adventure,Drama      12\n",
       "..                          ...     ...\n",
       "128               Horror,Sci-Fi       1\n",
       "129      Horror,Sci-Fi,Thriller       2\n",
       "130             Horror,Thriller      11\n",
       "131            Romance,Thriller       1\n",
       "132             Sci-Fi,Thriller       1\n",
       "\n",
       "[133 rows x 2 columns]"
      ]
     },
     "execution_count": 139,
     "metadata": {},
     "output_type": "execute_result"
    }
   ],
   "source": [
    "genrefreq = pd.DataFrame(df.groupby('genres')['tconst'].count())\n",
    "genrefreq = genrefreq.reset_index()\n",
    "genrefreq"
   ]
  },
  {
   "cell_type": "code",
   "execution_count": 140,
   "metadata": {},
   "outputs": [],
   "source": [
    "# Making a DF of the average profitability of all films within each given genre\n",
    "genreavgprof = pd.DataFrame(df.groupby('genres')['profit_ratio'].mean())\n",
    "genreavgprof = genreavgprof.reset_index()\n",
    "genreavgprof.sort_values('profit_ratio', ascending=False, inplace=True)"
   ]
  },
  {
   "cell_type": "code",
   "execution_count": 141,
   "metadata": {},
   "outputs": [],
   "source": [
    "# Merge all into a table of genre combos, with the movie count for that genre combo and avg profitability\n",
    "genreproffreq = genreavgprof.merge(genrefreq, left_on='genres', right_on='genres', how='inner')"
   ]
  },
  {
   "cell_type": "code",
   "execution_count": 142,
   "metadata": {},
   "outputs": [
    {
     "data": {
      "text/html": [
       "<div>\n",
       "<style scoped>\n",
       "    .dataframe tbody tr th:only-of-type {\n",
       "        vertical-align: middle;\n",
       "    }\n",
       "\n",
       "    .dataframe tbody tr th {\n",
       "        vertical-align: top;\n",
       "    }\n",
       "\n",
       "    .dataframe thead th {\n",
       "        text-align: right;\n",
       "    }\n",
       "</style>\n",
       "<table border=\"1\" class=\"dataframe\">\n",
       "  <thead>\n",
       "    <tr style=\"text-align: right;\">\n",
       "      <th></th>\n",
       "      <th>profit_ratio</th>\n",
       "      <th>tconst</th>\n",
       "    </tr>\n",
       "  </thead>\n",
       "  <tbody>\n",
       "    <tr>\n",
       "      <th>profit_ratio</th>\n",
       "      <td>1.000000</td>\n",
       "      <td>0.022391</td>\n",
       "    </tr>\n",
       "    <tr>\n",
       "      <th>tconst</th>\n",
       "      <td>0.022391</td>\n",
       "      <td>1.000000</td>\n",
       "    </tr>\n",
       "  </tbody>\n",
       "</table>\n",
       "</div>"
      ],
      "text/plain": [
       "              profit_ratio    tconst\n",
       "profit_ratio      1.000000  0.022391\n",
       "tconst            0.022391  1.000000"
      ]
     },
     "execution_count": 142,
     "metadata": {},
     "output_type": "execute_result"
    }
   ],
   "source": [
    "genreproffreq.corr()"
   ]
  },
  {
   "cell_type": "code",
   "execution_count": 143,
   "metadata": {},
   "outputs": [
    {
     "data": {
      "image/png": "[encoded data removed]",
      "text/plain": [
       "<Figure size 432x288 with 1 Axes>"
      ]
     },
     "metadata": {
      "needs_background": "light"
     },
     "output_type": "display_data"
    }
   ],
   "source": [
    "genreavgprofhead = genreavgprof.head(10)\n",
    "\n",
    "sns.barplot(x=genreavgprofhead['genres'], y=genreavgprof['profit_ratio'])\n",
    "tilt=45\n",
    "plt.xticks(rotation='vertical')\n",
    "plt.xlabel('Film Genres')\n",
    "plt.ylabel('Avg Return on Investment')\n",
    "plt.title('Top Earning Movie Genre Combos');"
   ]
  },
  {
   "cell_type": "code",
   "execution_count": 144,
   "metadata": {},
   "outputs": [
    {
     "data": {
      "image/png": "[encoded data removed]",
      "text/plain": [
       "<Figure size 432x288 with 1 Axes>"
      ]
     },
     "metadata": {
      "needs_background": "light"
     },
     "output_type": "display_data"
    }
   ],
   "source": [
    "genreavgprof2 = pd.DataFrame(df.groupby('genres')['profit_ratio'].mean())\n",
    "genreavgprof2 = genreavgprof2.reset_index()\n",
    "genreavgprof2.sort_values('profit_ratio', inplace=True)\n",
    "genreavgprof2 = genreavgprof2.head(5)\n",
    "\n",
    "sns.barplot(x=genreavgprof2['genres'], y=genreavgprof2['profit_ratio'])\n",
    "tilt=45\n",
    "plt.xticks(rotation='vertical')\n",
    "plt.xlabel('Film Genres')\n",
    "plt.ylabel('Return on Investment')\n",
    "plt.title('Lowest Earning Movie Genre Combos');"
   ]
  },
  {
   "cell_type": "markdown",
   "metadata": {},
   "source": [
    "### Which composer should do the soundtrack?"
   ]
  },
  {
   "cell_type": "code",
   "execution_count": 145,
   "metadata": {},
   "outputs": [],
   "source": [
    "# Grouping data by composer and calculating mean profit_ratio value earned across all of their films\n",
    "\n",
    "comps = pd.DataFrame(df.groupby('composer')['profit_ratio'].mean())\n",
    "comps = comps.reset_index()\n",
    "comps = comps.sort_values('profit_ratio', ascending=False)"
   ]
  },
  {
   "cell_type": "code",
   "execution_count": 148,
   "metadata": {},
   "outputs": [
    {
     "data": {
      "text/html": [
       "<div>\n",
       "<style scoped>\n",
       "    .dataframe tbody tr th:only-of-type {\n",
       "        vertical-align: middle;\n",
       "    }\n",
       "\n",
       "    .dataframe tbody tr th {\n",
       "        vertical-align: top;\n",
       "    }\n",
       "\n",
       "    .dataframe thead th {\n",
       "        text-align: right;\n",
       "    }\n",
       "</style>\n",
       "<table border=\"1\" class=\"dataframe\">\n",
       "  <thead>\n",
       "    <tr style=\"text-align: right;\">\n",
       "      <th></th>\n",
       "      <th>nconst</th>\n",
       "      <th>primary_name</th>\n",
       "      <th>birth_year</th>\n",
       "      <th>death_year</th>\n",
       "      <th>primary_profession</th>\n",
       "      <th>known_for_titles</th>\n",
       "    </tr>\n",
       "  </thead>\n",
       "  <tbody>\n",
       "    <tr>\n",
       "      <th>0</th>\n",
       "      <td>nm0061671</td>\n",
       "      <td>Mary Ellen Bauder</td>\n",
       "      <td>NaN</td>\n",
       "      <td>NaN</td>\n",
       "      <td>miscellaneous,production_manager,producer</td>\n",
       "      <td>tt0837562,tt2398241,tt0844471,tt0118553</td>\n",
       "    </tr>\n",
       "    <tr>\n",
       "      <th>1</th>\n",
       "      <td>nm0061865</td>\n",
       "      <td>Joseph Bauer</td>\n",
       "      <td>NaN</td>\n",
       "      <td>NaN</td>\n",
       "      <td>composer,music_department,sound_department</td>\n",
       "      <td>tt0896534,tt6791238,tt0287072,tt1682940</td>\n",
       "    </tr>\n",
       "    <tr>\n",
       "      <th>2</th>\n",
       "      <td>nm0062070</td>\n",
       "      <td>Bruce Baum</td>\n",
       "      <td>NaN</td>\n",
       "      <td>NaN</td>\n",
       "      <td>miscellaneous,actor,writer</td>\n",
       "      <td>tt1470654,tt0363631,tt0104030,tt0102898</td>\n",
       "    </tr>\n",
       "    <tr>\n",
       "      <th>3</th>\n",
       "      <td>nm0062195</td>\n",
       "      <td>Axel Baumann</td>\n",
       "      <td>NaN</td>\n",
       "      <td>NaN</td>\n",
       "      <td>camera_department,cinematographer,art_department</td>\n",
       "      <td>tt0114371,tt2004304,tt1618448,tt1224387</td>\n",
       "    </tr>\n",
       "    <tr>\n",
       "      <th>4</th>\n",
       "      <td>nm0062798</td>\n",
       "      <td>Pete Baxter</td>\n",
       "      <td>NaN</td>\n",
       "      <td>NaN</td>\n",
       "      <td>production_designer,art_department,set_decorator</td>\n",
       "      <td>tt0452644,tt0452692,tt3458030,tt2178256</td>\n",
       "    </tr>\n",
       "  </tbody>\n",
       "</table>\n",
       "</div>"
      ],
      "text/plain": [
       "      nconst       primary_name  birth_year  death_year  \\\n",
       "0  nm0061671  Mary Ellen Bauder         NaN         NaN   \n",
       "1  nm0061865       Joseph Bauer         NaN         NaN   \n",
       "2  nm0062070         Bruce Baum         NaN         NaN   \n",
       "3  nm0062195       Axel Baumann         NaN         NaN   \n",
       "4  nm0062798        Pete Baxter         NaN         NaN   \n",
       "\n",
       "                                 primary_profession  \\\n",
       "0         miscellaneous,production_manager,producer   \n",
       "1        composer,music_department,sound_department   \n",
       "2                        miscellaneous,actor,writer   \n",
       "3  camera_department,cinematographer,art_department   \n",
       "4  production_designer,art_department,set_decorator   \n",
       "\n",
       "                          known_for_titles  \n",
       "0  tt0837562,tt2398241,tt0844471,tt0118553  \n",
       "1  tt0896534,tt6791238,tt0287072,tt1682940  \n",
       "2  tt1470654,tt0363631,tt0104030,tt0102898  \n",
       "3  tt0114371,tt2004304,tt1618448,tt1224387  \n",
       "4  tt0452644,tt0452692,tt3458030,tt2178256  "
      ]
     },
     "execution_count": 148,
     "metadata": {},
     "output_type": "execute_result"
    }
   ],
   "source": [
    "# I need to use ppl_df to pull in the actual names of the composers based on their nconst id\n",
    "\n",
    "ppl_df.head()"
   ]
  },
  {
   "cell_type": "code",
   "execution_count": 149,
   "metadata": {},
   "outputs": [
    {
     "data": {
      "text/html": [
       "<div>\n",
       "<style scoped>\n",
       "    .dataframe tbody tr th:only-of-type {\n",
       "        vertical-align: middle;\n",
       "    }\n",
       "\n",
       "    .dataframe tbody tr th {\n",
       "        vertical-align: top;\n",
       "    }\n",
       "\n",
       "    .dataframe thead th {\n",
       "        text-align: right;\n",
       "    }\n",
       "</style>\n",
       "<table border=\"1\" class=\"dataframe\">\n",
       "  <thead>\n",
       "    <tr style=\"text-align: right;\">\n",
       "      <th></th>\n",
       "      <th>nconst</th>\n",
       "      <th>primary_name</th>\n",
       "    </tr>\n",
       "  </thead>\n",
       "  <tbody>\n",
       "    <tr>\n",
       "      <th>0</th>\n",
       "      <td>nm0061671</td>\n",
       "      <td>Mary Ellen Bauder</td>\n",
       "    </tr>\n",
       "    <tr>\n",
       "      <th>1</th>\n",
       "      <td>nm0061865</td>\n",
       "      <td>Joseph Bauer</td>\n",
       "    </tr>\n",
       "    <tr>\n",
       "      <th>2</th>\n",
       "      <td>nm0062070</td>\n",
       "      <td>Bruce Baum</td>\n",
       "    </tr>\n",
       "    <tr>\n",
       "      <th>3</th>\n",
       "      <td>nm0062195</td>\n",
       "      <td>Axel Baumann</td>\n",
       "    </tr>\n",
       "    <tr>\n",
       "      <th>4</th>\n",
       "      <td>nm0062798</td>\n",
       "      <td>Pete Baxter</td>\n",
       "    </tr>\n",
       "  </tbody>\n",
       "</table>\n",
       "</div>"
      ],
      "text/plain": [
       "      nconst       primary_name\n",
       "0  nm0061671  Mary Ellen Bauder\n",
       "1  nm0061865       Joseph Bauer\n",
       "2  nm0062070         Bruce Baum\n",
       "3  nm0062195       Axel Baumann\n",
       "4  nm0062798        Pete Baxter"
      ]
     },
     "execution_count": 149,
     "metadata": {},
     "output_type": "execute_result"
    }
   ],
   "source": [
    "merge_df = ppl_df.iloc[:,:2]\n",
    "merge_df.head()"
   ]
  },
  {
   "cell_type": "code",
   "execution_count": 150,
   "metadata": {
    "scrolled": false
   },
   "outputs": [
    {
     "data": {
      "text/html": [
       "<div>\n",
       "<style scoped>\n",
       "    .dataframe tbody tr th:only-of-type {\n",
       "        vertical-align: middle;\n",
       "    }\n",
       "\n",
       "    .dataframe tbody tr th {\n",
       "        vertical-align: top;\n",
       "    }\n",
       "\n",
       "    .dataframe thead th {\n",
       "        text-align: right;\n",
       "    }\n",
       "</style>\n",
       "<table border=\"1\" class=\"dataframe\">\n",
       "  <thead>\n",
       "    <tr style=\"text-align: right;\">\n",
       "      <th></th>\n",
       "      <th>composer</th>\n",
       "      <th>profit_ratio</th>\n",
       "      <th>nconst</th>\n",
       "      <th>primary_name</th>\n",
       "    </tr>\n",
       "  </thead>\n",
       "  <tbody>\n",
       "    <tr>\n",
       "      <th>0</th>\n",
       "      <td>nm3788293</td>\n",
       "      <td>85.752315</td>\n",
       "      <td>nm3788293</td>\n",
       "      <td>Torin Borrowdale</td>\n",
       "    </tr>\n",
       "    <tr>\n",
       "      <th>1</th>\n",
       "      <td>nm1615109</td>\n",
       "      <td>37.040775</td>\n",
       "      <td>nm1615109</td>\n",
       "      <td>Nicholas Britell</td>\n",
       "    </tr>\n",
       "    <tr>\n",
       "      <th>2</th>\n",
       "      <td>nm8752173</td>\n",
       "      <td>31.949963</td>\n",
       "      <td>nm8752173</td>\n",
       "      <td>Michael Abels</td>\n",
       "    </tr>\n",
       "    <tr>\n",
       "      <th>3</th>\n",
       "      <td>nm1853865</td>\n",
       "      <td>27.237284</td>\n",
       "      <td>nm1853865</td>\n",
       "      <td>Matthew Margeson</td>\n",
       "    </tr>\n",
       "    <tr>\n",
       "      <th>4</th>\n",
       "      <td>nm0590141</td>\n",
       "      <td>24.658413</td>\n",
       "      <td>nm0590141</td>\n",
       "      <td>Paul Mills</td>\n",
       "    </tr>\n",
       "  </tbody>\n",
       "</table>\n",
       "</div>"
      ],
      "text/plain": [
       "    composer  profit_ratio     nconst      primary_name\n",
       "0  nm3788293     85.752315  nm3788293  Torin Borrowdale\n",
       "1  nm1615109     37.040775  nm1615109  Nicholas Britell\n",
       "2  nm8752173     31.949963  nm8752173     Michael Abels\n",
       "3  nm1853865     27.237284  nm1853865  Matthew Margeson\n",
       "4  nm0590141     24.658413  nm0590141        Paul Mills"
      ]
     },
     "execution_count": 150,
     "metadata": {},
     "output_type": "execute_result"
    }
   ],
   "source": [
    "# It looks like these 5 composers have the most profitable films on average based on our dataset\n",
    "\n",
    "comps = comps.merge(merge_df, left_on='composer', right_on='nconst', how='left').head()\n",
    "comps"
   ]
  },
  {
   "cell_type": "code",
   "execution_count": 152,
   "metadata": {},
   "outputs": [
    {
     "data": {
      "image/png": "[encoded data removed]",
      "text/plain": [
       "<Figure size 432x288 with 1 Axes>"
      ]
     },
     "metadata": {
      "needs_background": "light"
     },
     "output_type": "display_data"
    }
   ],
   "source": [
    "sns.barplot(x=comps['primary_name'], y=comps['profit_ratio'])\n",
    "plt.xticks(rotation='vertical')\n",
    "plt.title('Average Return on Film Budget, by Composer')\n",
    "plt.xlabel('Composer name')\n",
    "plt.ylabel('Avg. Return on Budget');"
   ]
  },
  {
   "cell_type": "code",
   "execution_count": 154,
   "metadata": {},
   "outputs": [
    {
     "data": {
      "text/html": [
       "<div>\n",
       "<style scoped>\n",
       "    .dataframe tbody tr th:only-of-type {\n",
       "        vertical-align: middle;\n",
       "    }\n",
       "\n",
       "    .dataframe tbody tr th {\n",
       "        vertical-align: top;\n",
       "    }\n",
       "\n",
       "    .dataframe thead th {\n",
       "        text-align: right;\n",
       "    }\n",
       "</style>\n",
       "<table border=\"1\" class=\"dataframe\">\n",
       "  <thead>\n",
       "    <tr style=\"text-align: right;\">\n",
       "      <th></th>\n",
       "      <th>nconst</th>\n",
       "      <th>primary_name</th>\n",
       "      <th>birth_year</th>\n",
       "      <th>death_year</th>\n",
       "      <th>primary_profession</th>\n",
       "      <th>known_for_titles</th>\n",
       "    </tr>\n",
       "  </thead>\n",
       "  <tbody>\n",
       "    <tr>\n",
       "      <th>281746</th>\n",
       "      <td>nm3788293</td>\n",
       "      <td>Torin Borrowdale</td>\n",
       "      <td>NaN</td>\n",
       "      <td>NaN</td>\n",
       "      <td>composer,music_department,sound_department</td>\n",
       "      <td>tt3685586,tt7293920,tt4057632,tt7668870</td>\n",
       "    </tr>\n",
       "  </tbody>\n",
       "</table>\n",
       "</div>"
      ],
      "text/plain": [
       "           nconst      primary_name  birth_year  death_year  \\\n",
       "281746  nm3788293  Torin Borrowdale         NaN         NaN   \n",
       "\n",
       "                                primary_profession  \\\n",
       "281746  composer,music_department,sound_department   \n",
       "\n",
       "                               known_for_titles  \n",
       "281746  tt3685586,tt7293920,tt4057632,tt7668870  "
      ]
     },
     "execution_count": 154,
     "metadata": {},
     "output_type": "execute_result"
    }
   ],
   "source": [
    "# Looking into the top composer, Torin Borrowdale, whose films achieved an almost 86x return on average\n",
    "# I want to understand what films were included in this calculation and to confirm that my numbers are right\n",
    "\n",
    "ppl_df[ppl_df['nconst'] == 'nm3788293']"
   ]
  },
  {
   "cell_type": "code",
   "execution_count": 155,
   "metadata": {},
   "outputs": [
    {
     "data": {
      "text/html": [
       "<div>\n",
       "<style scoped>\n",
       "    .dataframe tbody tr th:only-of-type {\n",
       "        vertical-align: middle;\n",
       "    }\n",
       "\n",
       "    .dataframe tbody tr th {\n",
       "        vertical-align: top;\n",
       "    }\n",
       "\n",
       "    .dataframe thead th {\n",
       "        text-align: right;\n",
       "    }\n",
       "</style>\n",
       "<table border=\"1\" class=\"dataframe\">\n",
       "  <thead>\n",
       "    <tr style=\"text-align: right;\">\n",
       "      <th></th>\n",
       "      <th>Unnamed: 0</th>\n",
       "      <th>tconst</th>\n",
       "      <th>primary_title</th>\n",
       "      <th>original_title</th>\n",
       "      <th>start_year</th>\n",
       "      <th>runtime_minutes</th>\n",
       "      <th>genres</th>\n",
       "      <th>actor</th>\n",
       "      <th>actress</th>\n",
       "      <th>composer</th>\n",
       "      <th>...</th>\n",
       "      <th>r females aged 18 29</th>\n",
       "      <th>r top 1000 voters</th>\n",
       "      <th>r us users</th>\n",
       "      <th>r non us users</th>\n",
       "      <th>budget</th>\n",
       "      <th>global_gross</th>\n",
       "      <th>budget_inmil</th>\n",
       "      <th>gross_inmil</th>\n",
       "      <th>profit_ratio</th>\n",
       "      <th>profitability</th>\n",
       "    </tr>\n",
       "  </thead>\n",
       "  <tbody>\n",
       "    <tr>\n",
       "      <th>536</th>\n",
       "      <td>536</td>\n",
       "      <td>tt7668870</td>\n",
       "      <td>Searching</td>\n",
       "      <td>Searching</td>\n",
       "      <td>2018</td>\n",
       "      <td>102.0</td>\n",
       "      <td>Drama,Mystery,Thriller</td>\n",
       "      <td>nm0158626, nm4334711</td>\n",
       "      <td>nm0005226, nm8045046</td>\n",
       "      <td>nm3788293</td>\n",
       "      <td>...</td>\n",
       "      <td>7.8</td>\n",
       "      <td>6.9</td>\n",
       "      <td>7.7</td>\n",
       "      <td>7.6</td>\n",
       "      <td>880000</td>\n",
       "      <td>75462037</td>\n",
       "      <td>0.88</td>\n",
       "      <td>75.462037</td>\n",
       "      <td>85.752315</td>\n",
       "      <td>4</td>\n",
       "    </tr>\n",
       "  </tbody>\n",
       "</table>\n",
       "<p>1 rows × 32 columns</p>\n",
       "</div>"
      ],
      "text/plain": [
       "     Unnamed: 0     tconst primary_title original_title  start_year  \\\n",
       "536         536  tt7668870     Searching      Searching        2018   \n",
       "\n",
       "     runtime_minutes                  genres                 actor  \\\n",
       "536            102.0  Drama,Mystery,Thriller  nm0158626, nm4334711   \n",
       "\n",
       "                  actress   composer  ... r females aged 18 29  \\\n",
       "536  nm0005226, nm8045046  nm3788293  ...                  7.8   \n",
       "\n",
       "    r top 1000 voters r us users r non us users  budget  global_gross  \\\n",
       "536               6.9        7.7            7.6  880000      75462037   \n",
       "\n",
       "     budget_inmil  gross_inmil  profit_ratio  profitability  \n",
       "536          0.88    75.462037     85.752315              4  \n",
       "\n",
       "[1 rows x 32 columns]"
      ]
     },
     "execution_count": 155,
     "metadata": {},
     "output_type": "execute_result"
    }
   ],
   "source": [
    "# Searching my data for all the title ids in Torin's \"known_for_titles\" column above, I found just one movie of\n",
    "# his in my final dataset.  This movie had a budget of $880k and grossed over $75 mil globally, resulting in\n",
    "# the 86x return mentioned above.  So everything looks correct.  But......\n",
    "\n",
    "df[df['tconst'] == 'tt7668870']"
   ]
  },
  {
   "cell_type": "code",
   "execution_count": 156,
   "metadata": {},
   "outputs": [],
   "source": [
    "# I'm also curious who the highest grossing composers are - especially since the results for the most profitable\n",
    "# composers did not turn up any household names.\n",
    "\n",
    "comps2 = pd.DataFrame(df.groupby('composer')['gross_inmil'].mean())\n",
    "comps2 = comps2.reset_index()\n",
    "comps2 = comps2.sort_values('gross_inmil', ascending=False)"
   ]
  },
  {
   "cell_type": "code",
   "execution_count": 157,
   "metadata": {},
   "outputs": [],
   "source": [
    "comps2 = comps2.merge(merge_df, left_on='composer', right_on='nconst', how='left').head(10)"
   ]
  },
  {
   "cell_type": "code",
   "execution_count": 158,
   "metadata": {},
   "outputs": [
    {
     "data": {
      "text/html": [
       "<div>\n",
       "<style scoped>\n",
       "    .dataframe tbody tr th:only-of-type {\n",
       "        vertical-align: middle;\n",
       "    }\n",
       "\n",
       "    .dataframe tbody tr th {\n",
       "        vertical-align: top;\n",
       "    }\n",
       "\n",
       "    .dataframe thead th {\n",
       "        text-align: right;\n",
       "    }\n",
       "</style>\n",
       "<table border=\"1\" class=\"dataframe\">\n",
       "  <thead>\n",
       "    <tr style=\"text-align: right;\">\n",
       "      <th></th>\n",
       "      <th>composer</th>\n",
       "      <th>gross_inmil</th>\n",
       "      <th>nconst</th>\n",
       "      <th>primary_name</th>\n",
       "    </tr>\n",
       "  </thead>\n",
       "  <tbody>\n",
       "    <tr>\n",
       "      <th>0</th>\n",
       "      <td>nm0003911</td>\n",
       "      <td>1377.405338</td>\n",
       "      <td>nm0003911</td>\n",
       "      <td>Brian Tyler</td>\n",
       "    </tr>\n",
       "    <tr>\n",
       "      <th>1</th>\n",
       "      <td>nm3234869</td>\n",
       "      <td>1347.071259</td>\n",
       "      <td>nm3234869</td>\n",
       "      <td>Ludwig Göransson</td>\n",
       "    </tr>\n",
       "    <tr>\n",
       "      <th>2</th>\n",
       "      <td>nm0579678</td>\n",
       "      <td>1050.693953</td>\n",
       "      <td>nm0579678</td>\n",
       "      <td>Alan Menken</td>\n",
       "    </tr>\n",
       "    <tr>\n",
       "      <th>3</th>\n",
       "      <td>nm0002201</td>\n",
       "      <td>966.550600</td>\n",
       "      <td>nm0002201</td>\n",
       "      <td>John Debney</td>\n",
       "    </tr>\n",
       "    <tr>\n",
       "      <th>4</th>\n",
       "      <td>nm0653211</td>\n",
       "      <td>903.655259</td>\n",
       "      <td>nm0653211</td>\n",
       "      <td>John Ottman</td>\n",
       "    </tr>\n",
       "    <tr>\n",
       "      <th>5</th>\n",
       "      <td>nm0847926</td>\n",
       "      <td>634.151679</td>\n",
       "      <td>nm0847926</td>\n",
       "      <td>Joby Talbot</td>\n",
       "    </tr>\n",
       "    <tr>\n",
       "      <th>6</th>\n",
       "      <td>nm0673137</td>\n",
       "      <td>600.641132</td>\n",
       "      <td>nm0673137</td>\n",
       "      <td>Heitor Pereira</td>\n",
       "    </tr>\n",
       "    <tr>\n",
       "      <th>7</th>\n",
       "      <td>nm0002354</td>\n",
       "      <td>570.738190</td>\n",
       "      <td>nm0002354</td>\n",
       "      <td>John Williams</td>\n",
       "    </tr>\n",
       "    <tr>\n",
       "      <th>8</th>\n",
       "      <td>nm0002353</td>\n",
       "      <td>559.477598</td>\n",
       "      <td>nm0002353</td>\n",
       "      <td>Thomas Newman</td>\n",
       "    </tr>\n",
       "    <tr>\n",
       "      <th>9</th>\n",
       "      <td>nm0006133</td>\n",
       "      <td>544.443318</td>\n",
       "      <td>nm0006133</td>\n",
       "      <td>James Newton Howard</td>\n",
       "    </tr>\n",
       "  </tbody>\n",
       "</table>\n",
       "</div>"
      ],
      "text/plain": [
       "    composer  gross_inmil     nconst         primary_name\n",
       "0  nm0003911  1377.405338  nm0003911          Brian Tyler\n",
       "1  nm3234869  1347.071259  nm3234869     Ludwig Göransson\n",
       "2  nm0579678  1050.693953  nm0579678          Alan Menken\n",
       "3  nm0002201   966.550600  nm0002201          John Debney\n",
       "4  nm0653211   903.655259  nm0653211          John Ottman\n",
       "5  nm0847926   634.151679  nm0847926          Joby Talbot\n",
       "6  nm0673137   600.641132  nm0673137       Heitor Pereira\n",
       "7  nm0002354   570.738190  nm0002354        John Williams\n",
       "8  nm0002353   559.477598  nm0002353        Thomas Newman\n",
       "9  nm0006133   544.443318  nm0006133  James Newton Howard"
      ]
     },
     "execution_count": 158,
     "metadata": {},
     "output_type": "execute_result"
    }
   ],
   "source": [
    "comps2"
   ]
  },
  {
   "cell_type": "code",
   "execution_count": 160,
   "metadata": {},
   "outputs": [
    {
     "data": {
      "image/png": "[encoded data removed]",
      "text/plain": [
       "<Figure size 432x288 with 1 Axes>"
      ]
     },
     "metadata": {
      "needs_background": "light"
     },
     "output_type": "display_data"
    }
   ],
   "source": [
    "sns.barplot(x=comps2['primary_name'], y=comps2['gross_inmil'])\n",
    "plt.xticks(rotation='vertical')\n",
    "plt.title('Average Gross Revenue (per film), by Composer')\n",
    "plt.xlabel('Composer name')\n",
    "plt.ylabel('Avg. Gross Revenue per Film');"
   ]
  },
  {
   "cell_type": "code",
   "execution_count": 160,
   "metadata": {},
   "outputs": [],
   "source": [
    "# SO, though we determined that films with music by Torin Borrowdale profit the most on average, \n",
    "# films scored by any of the above 10 composers gross the most global revenue on average (irrespective\n",
    "# of budget)"
   ]
  }
 ],
 "metadata": {
  "kernelspec": {
   "display_name": "Python 3",
   "language": "python",
   "name": "python3"
  },
  "language_info": {
   "codemirror_mode": {
    "name": "ipython",
    "version": 3
   },
   "file_extension": ".py",
   "mimetype": "text/x-python",
   "name": "python",
   "nbconvert_exporter": "python",
   "pygments_lexer": "ipython3",
   "version": "3.6.9"
  },
  "toc": {
   "base_numbering": 1,
   "nav_menu": {},
   "number_sections": true,
   "sideBar": true,
   "skip_h1_title": false,
   "title_cell": "Table of Contents",
   "title_sidebar": "Contents",
   "toc_cell": false,
   "toc_position": {
    "height": "calc(100% - 180px)",
    "left": "10px",
    "top": "150px",
    "width": "309px"
   },
   "toc_section_display": true,
   "toc_window_display": true
  },
  "varInspector": {
   "cols": {
    "lenName": 16,
    "lenType": 16,
    "lenVar": 40
   },
   "kernels_config": {
    "python": {
     "delete_cmd_postfix": "",
     "delete_cmd_prefix": "del ",
     "library": "var_list.py",
     "varRefreshCmd": "print(var_dic_list())"
    },
    "r": {
     "delete_cmd_postfix": ") ",
     "delete_cmd_prefix": "rm(",
     "library": "var_list.r",
     "varRefreshCmd": "cat(var_dic_list()) "
    }
   },
   "types_to_exclude": [
    "module",
    "function",
    "builtin_function_or_method",
    "instance",
    "_Feature"
   ],
   "window_display": false
  }
 },
 "nbformat": 4,
 "nbformat_minor": 2
}
